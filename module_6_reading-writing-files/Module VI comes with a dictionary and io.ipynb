{
 "cells": [
  {
   "cell_type": "markdown",
   "metadata": {},
   "source": [
    "# What's in store for today ?"
   ]
  },
  {
   "cell_type": "markdown",
   "metadata": {},
   "source": [
    "\n",
    "\n",
    "1.Hashing, moving, and python dictionaries: Who has moved ?\n",
    "\n",
    "2.Python dictionaries\n",
    "\n",
    "3.Drill\n",
    "\n",
    "4.How about reading real files in, eh ?\n"
   ]
  },
  {
   "cell_type": "markdown",
   "metadata": {},
   "source": [
    "# Python dictionaries"
   ]
  },
  {
   "cell_type": "markdown",
   "metadata": {},
   "source": [
    "Enclosed by {}\n",
    "\n",
    "Are hash tables \n",
    "\n",
    "Key value pairs"
   ]
  },
  {
   "cell_type": "code",
   "execution_count": 2,
   "metadata": {},
   "outputs": [],
   "source": [
    "# Let's make an empty dictionary\n",
    "\n",
    "new_dict = {}"
   ]
  },
  {
   "cell_type": "code",
   "execution_count": 3,
   "metadata": {
    "collapsed": true
   },
   "outputs": [],
   "source": [
    "# Isn't there always another way to do this ?\n",
    "\n",
    "new_dict = dict()"
   ]
  },
  {
   "cell_type": "code",
   "execution_count": 3,
   "metadata": {},
   "outputs": [
    {
     "name": "stdout",
     "output_type": "stream",
     "text": [
      "{'NEU': \"It's a really nice University\"}\n"
     ]
    }
   ],
   "source": [
    "# This one should get me promoted...\n",
    "\n",
    "new_dict[\"NEU\"] = \"It's a really nice University\"\n",
    "print(new_dict)"
   ]
  },
  {
   "cell_type": "code",
   "execution_count": 4,
   "metadata": {},
   "outputs": [
    {
     "name": "stdout",
     "output_type": "stream",
     "text": [
      "{'NEU': \"It's a really nice University\", 'NEU_2': 'We have several campuses'}\n"
     ]
    }
   ],
   "source": [
    "# If that doesn't work, then surely this one will ?\n",
    "\n",
    "new_dict[\"NEU_2\"] = \"We have several campuses\"\n",
    "print(new_dict)"
   ]
  },
  {
   "cell_type": "code",
   "execution_count": 5,
   "metadata": {},
   "outputs": [
    {
     "data": {
      "text/plain": [
       "dict_keys(['NEU', 'NEU_2'])"
      ]
     },
     "execution_count": 5,
     "metadata": {},
     "output_type": "execute_result"
    }
   ],
   "source": [
    "# print out them keys\n",
    "\n",
    "new_dict.keys()"
   ]
  },
  {
   "cell_type": "code",
   "execution_count": 6,
   "metadata": {},
   "outputs": [
    {
     "data": {
      "text/plain": [
       "dict_values([\"It's a really nice University\", 'We have several campuses'])"
      ]
     },
     "execution_count": 6,
     "metadata": {},
     "output_type": "execute_result"
    }
   ],
   "source": [
    "# Them values\n",
    "\n",
    "new_dict.values()"
   ]
  },
  {
   "cell_type": "code",
   "execution_count": 7,
   "metadata": {},
   "outputs": [
    {
     "data": {
      "text/plain": [
       "\"It's a really nice University\""
      ]
     },
     "execution_count": 7,
     "metadata": {},
     "output_type": "execute_result"
    }
   ],
   "source": [
    "# Using get to get at values\n",
    "\n",
    "new_dict.get(\"NEU\")"
   ]
  },
  {
   "cell_type": "code",
   "execution_count": 8,
   "metadata": {},
   "outputs": [
    {
     "data": {
      "text/plain": [
       "dict_items([('NEU', \"It's a really nice University\"), ('NEU_2', 'We have several campuses')])"
      ]
     },
     "execution_count": 8,
     "metadata": {},
     "output_type": "execute_result"
    }
   ],
   "source": [
    "# Print out both keys and values i.e. items inside the dict\n",
    "\n",
    "new_dict.items()"
   ]
  },
  {
   "cell_type": "code",
   "execution_count": 9,
   "metadata": {},
   "outputs": [
    {
     "data": {
      "text/plain": [
       "2"
      ]
     },
     "execution_count": 9,
     "metadata": {},
     "output_type": "execute_result"
    }
   ],
   "source": [
    "# How many items are inside the dict aka the old len function\n",
    "\n",
    "len(new_dict)"
   ]
  },
  {
   "cell_type": "code",
   "execution_count": 10,
   "metadata": {},
   "outputs": [
    {
     "data": {
      "text/plain": [
       "{'SV_campus': 'In the middle of Silicon valley',\n",
       " 'Sea_campus': 'In the middle of Amazon.com'}"
      ]
     },
     "execution_count": 10,
     "metadata": {},
     "output_type": "execute_result"
    }
   ],
   "source": [
    "# Yet another way to make a dict\n",
    "\n",
    "new_dict2 = dict(Sea_campus = \"In the middle of Amazon.com\", SV_campus = 'In the middle of Silicon valley')\n",
    "new_dict2"
   ]
  },
  {
   "cell_type": "markdown",
   "metadata": {},
   "source": [
    "# Now for some real excitement, it's drill time !"
   ]
  },
  {
   "cell_type": "markdown",
   "metadata": {},
   "source": [
    "1.Given a dictionary of {'Neu_1':'Boston','Neu_2': 'Seattle','Neu_3': \"SV\", \n",
    "                       'Neu_4': 'Vancoever','Neu_5': 'Where?'}\n",
    "print out key value pairs in the format Neu1 --> Boston\n"
   ]
  },
  {
   "cell_type": "markdown",
   "metadata": {
    "collapsed": true
   },
   "source": [
    "# How do we even read stuff into a notebook ?"
   ]
  },
  {
   "cell_type": "code",
   "execution_count": 3,
   "metadata": {},
   "outputs": [
    {
     "data": {
      "text/plain": [
       "'/Users/ram/Desktop/DAMG6106_AKA_INFO6101'"
      ]
     },
     "execution_count": 3,
     "metadata": {},
     "output_type": "execute_result"
    }
   ],
   "source": [
    "# I am lost ! Where am I ?\n",
    "%pwd"
   ]
  },
  {
   "cell_type": "code",
   "execution_count": 4,
   "metadata": {},
   "outputs": [
    {
     "name": "stdout",
     "output_type": "stream",
     "text": [
      "All hail Python !.ipynb\r\n",
      "Funny_titanic.html\r\n",
      "Funny_titanic.jpg\r\n",
      "HRS.ipynb\r\n",
      "Intro to Python II solutions.ipynb\r\n",
      "Intro to Python II-GA-Copy1.ipynb\r\n",
      "Intro to Python II-GA.ipynb\r\n",
      "Intro to Python II.ipynb\r\n",
      "Intro to Python III solutions-GA.ipynb\r\n",
      "Intro to Python III-GA.ipynb\r\n",
      "Intro to Python IV solutions.ipynb\r\n",
      "Intro to Python IV solutions.ipynb copy\r\n",
      "Intro to Python IV.ipynb\r\n",
      "Intro to Python V solutions.ipynb\r\n",
      "Module IV and a Giant panda(s) package.ipynb\r\n",
      "Module V and a tale of two datasets V2.ipynb\r\n",
      "Module VI comes with a dictionary.ipynb\r\n",
      "Titanic.csv\r\n",
      "Titanic_II.csv\r\n",
      "for_loop_funny.png\r\n",
      "keys_to_success.txt\r\n",
      "merged_data.csv\r\n",
      "my first notebook.ipynb\r\n",
      "nice_data.csv\r\n",
      "\u001b[31msecrets_to_success.pages\u001b[m\u001b[m\r\n"
     ]
    }
   ],
   "source": [
    "# Still can't see my way around ! Who else is here ?\n",
    "!ls"
   ]
  },
  {
   "cell_type": "code",
   "execution_count": 6,
   "metadata": {},
   "outputs": [],
   "source": [
    "# It's reading time. Let's tunnel in...\n",
    "\n",
    "my_file = open(\"/Users/ram/Desktop/DAMG6106_AKA_INFO6101/keys_to_success.txt\")"
   ]
  },
  {
   "cell_type": "code",
   "execution_count": 7,
   "metadata": {},
   "outputs": [
    {
     "data": {
      "text/plain": [
       "['Welcome to file io ! What exactly were yo hoping to find in here ? Huh?']"
      ]
     },
     "execution_count": 7,
     "metadata": {},
     "output_type": "execute_result"
    }
   ],
   "source": [
    "# Time to bring things through the tunnel\n",
    "\n",
    "mydata = my_file.readlines()\n",
    "mydata"
   ]
  },
  {
   "cell_type": "code",
   "execution_count": 8,
   "metadata": {},
   "outputs": [],
   "source": [
    "# Close the file before the monsters start creeping in...\n",
    "\n",
    "my_file.close()"
   ]
  },
  {
   "cell_type": "code",
   "execution_count": 9,
   "metadata": {},
   "outputs": [],
   "source": [
    "# Writing a file\n",
    "\n",
    "my_string = \"I am awesome ! Oh, it's quite true !\"\n",
    "\n",
    "out_file = open(\"/Users/ram/Desktop/DAMG6106_AKA_INFO6101/out_file.txt\",\"w\")\n",
    "out_file.write(my_string)\n",
    "out_file.close()"
   ]
  },
  {
   "cell_type": "code",
   "execution_count": null,
   "metadata": {},
   "outputs": [],
   "source": []
  }
 ],
 "metadata": {
  "kernelspec": {
   "display_name": "Python 3",
   "language": "python",
   "name": "python3"
  },
  "language_info": {
   "codemirror_mode": {
    "name": "ipython",
    "version": 3
   },
   "file_extension": ".py",
   "mimetype": "text/x-python",
   "name": "python",
   "nbconvert_exporter": "python",
   "pygments_lexer": "ipython3",
   "version": "3.8.8"
  }
 },
 "nbformat": 4,
 "nbformat_minor": 1
}
