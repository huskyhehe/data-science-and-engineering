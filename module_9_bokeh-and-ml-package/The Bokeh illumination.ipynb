{
 "cells": [
  {
   "cell_type": "markdown",
   "metadata": {},
   "source": [
    "# Package import..."
   ]
  },
  {
   "cell_type": "code",
   "execution_count": 1,
   "metadata": {},
   "outputs": [],
   "source": [
    "from bokeh.io import output_file, output_notebook                                          #talk output\n",
    "from bokeh.plotting import figure, show                                                    #talk plotting\n",
    "from bokeh.models import ColumnDataSource,CDSView, GroupFilter,NumeralTickFormatter        #talk how to read data\n",
    "from bokeh.layouts import row, column, gridplot                                            #talk layout\n",
    "from bokeh.models.widgets import Tabs, Panel                                               #talk widgets\n",
    "\n",
    "import pandas as pd\n",
    "import numpy as np"
   ]
  },
  {
   "cell_type": "code",
   "execution_count": 2,
   "metadata": {},
   "outputs": [
    {
     "data": {
      "text/plain": [
       "'/Users/ram/Desktop/INFO 6101 Spring 2021'"
      ]
     },
     "execution_count": 2,
     "metadata": {},
     "output_type": "execute_result"
    }
   ],
   "source": [
    "%pwd"
   ]
  },
  {
   "cell_type": "code",
   "execution_count": 3,
   "metadata": {},
   "outputs": [
    {
     "name": "stdout",
     "output_type": "stream",
     "text": [
      "\u001b[31m2012-18_playerBoxScore.csv\u001b[m\u001b[m Advertising.csv\r\n",
      "\u001b[31m2012-18_standings.csv\u001b[m\u001b[m      Titanic_full.csv\r\n",
      "\u001b[31m2016-17_teamBoxScore.csv\u001b[m\u001b[m\r\n"
     ]
    }
   ],
   "source": [
    "!ls Data"
   ]
  },
  {
   "cell_type": "code",
   "execution_count": 13,
   "metadata": {},
   "outputs": [],
   "source": [
    "player_stats = pd.read_csv('/Users/ram/Desktop/INFO 6101 Spring 2021/Data/2012-18_playerBoxScore.csv')\n",
    "team_stats =  pd.read_csv('/Users/ram/Desktop/INFO 6101 Spring 2021/Data/2016-17_teamBoxScore.csv')\n",
    "standings = pd.read_csv('/Users/ram/Desktop/INFO 6101 Spring 2021/Data/2012-18_standings.csv')"
   ]
  },
  {
   "cell_type": "markdown",
   "metadata": {},
   "source": [
    "# Starting with emptiness"
   ]
  },
  {
   "cell_type": "code",
   "execution_count": 4,
   "metadata": {},
   "outputs": [
    {
     "name": "stderr",
     "output_type": "stream",
     "text": [
      "WARNING:bokeh.core.validation.check:W-1000 (MISSING_RENDERERS): Plot has no renderers: Figure(id='1001', ...)\n"
     ]
    }
   ],
   "source": [
    "'''Look at the html page first'''\n",
    "\n",
    "output_file('output_file_test.html', \n",
    "            title='Nothing but emptiness here...')\n",
    "\n",
    "'''Inside the html file is going to be a figure, although empty'''\n",
    "fig = figure()\n",
    "\n",
    "'''Proof'''\n",
    "show(fig)"
   ]
  },
  {
   "cell_type": "code",
   "execution_count": 5,
   "metadata": {},
   "outputs": [],
   "source": [
    "'''Reset'''\n",
    "from bokeh.plotting import reset_output\n",
    "\n",
    "'''Use reset_output() between subsequent show() calls, as needed'''\n",
    "reset_output()"
   ]
  },
  {
   "cell_type": "code",
   "execution_count": 6,
   "metadata": {},
   "outputs": [
    {
     "data": {
      "text/html": [
       "\n",
       "    <div class=\"bk-root\">\n",
       "        <a href=\"https://bokeh.org\" target=\"_blank\" class=\"bk-logo bk-logo-small bk-logo-notebook\"></a>\n",
       "        <span id=\"1118\">Loading BokehJS ...</span>\n",
       "    </div>"
      ]
     },
     "metadata": {},
     "output_type": "display_data"
    },
    {
     "data": {
      "application/javascript": [
       "\n",
       "(function(root) {\n",
       "  function now() {\n",
       "    return new Date();\n",
       "  }\n",
       "\n",
       "  var force = true;\n",
       "\n",
       "  if (typeof root._bokeh_onload_callbacks === \"undefined\" || force === true) {\n",
       "    root._bokeh_onload_callbacks = [];\n",
       "    root._bokeh_is_loading = undefined;\n",
       "  }\n",
       "\n",
       "  var JS_MIME_TYPE = 'application/javascript';\n",
       "  var HTML_MIME_TYPE = 'text/html';\n",
       "  var EXEC_MIME_TYPE = 'application/vnd.bokehjs_exec.v0+json';\n",
       "  var CLASS_NAME = 'output_bokeh rendered_html';\n",
       "\n",
       "  /**\n",
       "   * Render data to the DOM node\n",
       "   */\n",
       "  function render(props, node) {\n",
       "    var script = document.createElement(\"script\");\n",
       "    node.appendChild(script);\n",
       "  }\n",
       "\n",
       "  /**\n",
       "   * Handle when an output is cleared or removed\n",
       "   */\n",
       "  function handleClearOutput(event, handle) {\n",
       "    var cell = handle.cell;\n",
       "\n",
       "    var id = cell.output_area._bokeh_element_id;\n",
       "    var server_id = cell.output_area._bokeh_server_id;\n",
       "    // Clean up Bokeh references\n",
       "    if (id != null && id in Bokeh.index) {\n",
       "      Bokeh.index[id].model.document.clear();\n",
       "      delete Bokeh.index[id];\n",
       "    }\n",
       "\n",
       "    if (server_id !== undefined) {\n",
       "      // Clean up Bokeh references\n",
       "      var cmd = \"from bokeh.io.state import curstate; print(curstate().uuid_to_server['\" + server_id + \"'].get_sessions()[0].document.roots[0]._id)\";\n",
       "      cell.notebook.kernel.execute(cmd, {\n",
       "        iopub: {\n",
       "          output: function(msg) {\n",
       "            var id = msg.content.text.trim();\n",
       "            if (id in Bokeh.index) {\n",
       "              Bokeh.index[id].model.document.clear();\n",
       "              delete Bokeh.index[id];\n",
       "            }\n",
       "          }\n",
       "        }\n",
       "      });\n",
       "      // Destroy server and session\n",
       "      var cmd = \"import bokeh.io.notebook as ion; ion.destroy_server('\" + server_id + \"')\";\n",
       "      cell.notebook.kernel.execute(cmd);\n",
       "    }\n",
       "  }\n",
       "\n",
       "  /**\n",
       "   * Handle when a new output is added\n",
       "   */\n",
       "  function handleAddOutput(event, handle) {\n",
       "    var output_area = handle.output_area;\n",
       "    var output = handle.output;\n",
       "\n",
       "    // limit handleAddOutput to display_data with EXEC_MIME_TYPE content only\n",
       "    if ((output.output_type != \"display_data\") || (!output.data.hasOwnProperty(EXEC_MIME_TYPE))) {\n",
       "      return\n",
       "    }\n",
       "\n",
       "    var toinsert = output_area.element.find(\".\" + CLASS_NAME.split(' ')[0]);\n",
       "\n",
       "    if (output.metadata[EXEC_MIME_TYPE][\"id\"] !== undefined) {\n",
       "      toinsert[toinsert.length - 1].firstChild.textContent = output.data[JS_MIME_TYPE];\n",
       "      // store reference to embed id on output_area\n",
       "      output_area._bokeh_element_id = output.metadata[EXEC_MIME_TYPE][\"id\"];\n",
       "    }\n",
       "    if (output.metadata[EXEC_MIME_TYPE][\"server_id\"] !== undefined) {\n",
       "      var bk_div = document.createElement(\"div\");\n",
       "      bk_div.innerHTML = output.data[HTML_MIME_TYPE];\n",
       "      var script_attrs = bk_div.children[0].attributes;\n",
       "      for (var i = 0; i < script_attrs.length; i++) {\n",
       "        toinsert[toinsert.length - 1].firstChild.setAttribute(script_attrs[i].name, script_attrs[i].value);\n",
       "      }\n",
       "      // store reference to server id on output_area\n",
       "      output_area._bokeh_server_id = output.metadata[EXEC_MIME_TYPE][\"server_id\"];\n",
       "    }\n",
       "  }\n",
       "\n",
       "  function register_renderer(events, OutputArea) {\n",
       "\n",
       "    function append_mime(data, metadata, element) {\n",
       "      // create a DOM node to render to\n",
       "      var toinsert = this.create_output_subarea(\n",
       "        metadata,\n",
       "        CLASS_NAME,\n",
       "        EXEC_MIME_TYPE\n",
       "      );\n",
       "      this.keyboard_manager.register_events(toinsert);\n",
       "      // Render to node\n",
       "      var props = {data: data, metadata: metadata[EXEC_MIME_TYPE]};\n",
       "      render(props, toinsert[toinsert.length - 1]);\n",
       "      element.append(toinsert);\n",
       "      return toinsert\n",
       "    }\n",
       "\n",
       "    /* Handle when an output is cleared or removed */\n",
       "    events.on('clear_output.CodeCell', handleClearOutput);\n",
       "    events.on('delete.Cell', handleClearOutput);\n",
       "\n",
       "    /* Handle when a new output is added */\n",
       "    events.on('output_added.OutputArea', handleAddOutput);\n",
       "\n",
       "    /**\n",
       "     * Register the mime type and append_mime function with output_area\n",
       "     */\n",
       "    OutputArea.prototype.register_mime_type(EXEC_MIME_TYPE, append_mime, {\n",
       "      /* Is output safe? */\n",
       "      safe: true,\n",
       "      /* Index of renderer in `output_area.display_order` */\n",
       "      index: 0\n",
       "    });\n",
       "  }\n",
       "\n",
       "  // register the mime type if in Jupyter Notebook environment and previously unregistered\n",
       "  if (root.Jupyter !== undefined) {\n",
       "    var events = require('base/js/events');\n",
       "    var OutputArea = require('notebook/js/outputarea').OutputArea;\n",
       "\n",
       "    if (OutputArea.prototype.mime_types().indexOf(EXEC_MIME_TYPE) == -1) {\n",
       "      register_renderer(events, OutputArea);\n",
       "    }\n",
       "  }\n",
       "\n",
       "  \n",
       "  if (typeof (root._bokeh_timeout) === \"undefined\" || force === true) {\n",
       "    root._bokeh_timeout = Date.now() + 5000;\n",
       "    root._bokeh_failed_load = false;\n",
       "  }\n",
       "\n",
       "  var NB_LOAD_WARNING = {'data': {'text/html':\n",
       "     \"<div style='background-color: #fdd'>\\n\"+\n",
       "     \"<p>\\n\"+\n",
       "     \"BokehJS does not appear to have successfully loaded. If loading BokehJS from CDN, this \\n\"+\n",
       "     \"may be due to a slow or bad network connection. Possible fixes:\\n\"+\n",
       "     \"</p>\\n\"+\n",
       "     \"<ul>\\n\"+\n",
       "     \"<li>re-rerun `output_notebook()` to attempt to load from CDN again, or</li>\\n\"+\n",
       "     \"<li>use INLINE resources instead, as so:</li>\\n\"+\n",
       "     \"</ul>\\n\"+\n",
       "     \"<code>\\n\"+\n",
       "     \"from bokeh.resources import INLINE\\n\"+\n",
       "     \"output_notebook(resources=INLINE)\\n\"+\n",
       "     \"</code>\\n\"+\n",
       "     \"</div>\"}};\n",
       "\n",
       "  function display_loaded() {\n",
       "    var el = document.getElementById(\"1118\");\n",
       "    if (el != null) {\n",
       "      el.textContent = \"BokehJS is loading...\";\n",
       "    }\n",
       "    if (root.Bokeh !== undefined) {\n",
       "      if (el != null) {\n",
       "        el.textContent = \"BokehJS \" + root.Bokeh.version + \" successfully loaded.\";\n",
       "      }\n",
       "    } else if (Date.now() < root._bokeh_timeout) {\n",
       "      setTimeout(display_loaded, 100)\n",
       "    }\n",
       "  }\n",
       "\n",
       "\n",
       "  function run_callbacks() {\n",
       "    try {\n",
       "      root._bokeh_onload_callbacks.forEach(function(callback) {\n",
       "        if (callback != null)\n",
       "          callback();\n",
       "      });\n",
       "    } finally {\n",
       "      delete root._bokeh_onload_callbacks\n",
       "    }\n",
       "    console.debug(\"Bokeh: all callbacks have finished\");\n",
       "  }\n",
       "\n",
       "  function load_libs(css_urls, js_urls, callback) {\n",
       "    if (css_urls == null) css_urls = [];\n",
       "    if (js_urls == null) js_urls = [];\n",
       "\n",
       "    root._bokeh_onload_callbacks.push(callback);\n",
       "    if (root._bokeh_is_loading > 0) {\n",
       "      console.debug(\"Bokeh: BokehJS is being loaded, scheduling callback at\", now());\n",
       "      return null;\n",
       "    }\n",
       "    if (js_urls == null || js_urls.length === 0) {\n",
       "      run_callbacks();\n",
       "      return null;\n",
       "    }\n",
       "    console.debug(\"Bokeh: BokehJS not loaded, scheduling load and callback at\", now());\n",
       "    root._bokeh_is_loading = css_urls.length + js_urls.length;\n",
       "\n",
       "    function on_load() {\n",
       "      root._bokeh_is_loading--;\n",
       "      if (root._bokeh_is_loading === 0) {\n",
       "        console.debug(\"Bokeh: all BokehJS libraries/stylesheets loaded\");\n",
       "        run_callbacks()\n",
       "      }\n",
       "    }\n",
       "\n",
       "    function on_error() {\n",
       "      console.error(\"failed to load \" + url);\n",
       "    }\n",
       "\n",
       "    for (var i = 0; i < css_urls.length; i++) {\n",
       "      var url = css_urls[i];\n",
       "      const element = document.createElement(\"link\");\n",
       "      element.onload = on_load;\n",
       "      element.onerror = on_error;\n",
       "      element.rel = \"stylesheet\";\n",
       "      element.type = \"text/css\";\n",
       "      element.href = url;\n",
       "      console.debug(\"Bokeh: injecting link tag for BokehJS stylesheet: \", url);\n",
       "      document.body.appendChild(element);\n",
       "    }\n",
       "\n",
       "    for (var i = 0; i < js_urls.length; i++) {\n",
       "      var url = js_urls[i];\n",
       "      var element = document.createElement('script');\n",
       "      element.onload = on_load;\n",
       "      element.onerror = on_error;\n",
       "      element.async = false;\n",
       "      element.src = url;\n",
       "      console.debug(\"Bokeh: injecting script tag for BokehJS library: \", url);\n",
       "      document.head.appendChild(element);\n",
       "    }\n",
       "  };var element = document.getElementById(\"1118\");\n",
       "  if (element == null) {\n",
       "    console.error(\"Bokeh: ERROR: autoload.js configured with elementid '1118' but no matching script tag was found. \")\n",
       "    return false;\n",
       "  }\n",
       "\n",
       "  function inject_raw_css(css) {\n",
       "    const element = document.createElement(\"style\");\n",
       "    element.appendChild(document.createTextNode(css));\n",
       "    document.body.appendChild(element);\n",
       "  }\n",
       "\n",
       "  \n",
       "  var js_urls = [\"https://cdn.pydata.org/bokeh/release/bokeh-1.4.0.min.js\", \"https://cdn.pydata.org/bokeh/release/bokeh-widgets-1.4.0.min.js\", \"https://cdn.pydata.org/bokeh/release/bokeh-tables-1.4.0.min.js\", \"https://cdn.pydata.org/bokeh/release/bokeh-gl-1.4.0.min.js\"];\n",
       "  var css_urls = [];\n",
       "  \n",
       "\n",
       "  var inline_js = [\n",
       "    function(Bokeh) {\n",
       "      Bokeh.set_log_level(\"info\");\n",
       "    },\n",
       "    function(Bokeh) {\n",
       "    \n",
       "    \n",
       "    }\n",
       "  ];\n",
       "\n",
       "  function run_inline_js() {\n",
       "    \n",
       "    if (root.Bokeh !== undefined || force === true) {\n",
       "      \n",
       "    for (var i = 0; i < inline_js.length; i++) {\n",
       "      inline_js[i].call(root, root.Bokeh);\n",
       "    }\n",
       "    if (force === true) {\n",
       "        display_loaded();\n",
       "      }} else if (Date.now() < root._bokeh_timeout) {\n",
       "      setTimeout(run_inline_js, 100);\n",
       "    } else if (!root._bokeh_failed_load) {\n",
       "      console.log(\"Bokeh: BokehJS failed to load within specified timeout.\");\n",
       "      root._bokeh_failed_load = true;\n",
       "    } else if (force !== true) {\n",
       "      var cell = $(document.getElementById(\"1118\")).parents('.cell').data().cell;\n",
       "      cell.output_area.append_execute_result(NB_LOAD_WARNING)\n",
       "    }\n",
       "\n",
       "  }\n",
       "\n",
       "  if (root._bokeh_is_loading === 0) {\n",
       "    console.debug(\"Bokeh: BokehJS loaded, going straight to plotting\");\n",
       "    run_inline_js();\n",
       "  } else {\n",
       "    load_libs(css_urls, js_urls, function() {\n",
       "      console.debug(\"Bokeh: BokehJS plotting callback run at\", now());\n",
       "      run_inline_js();\n",
       "    });\n",
       "  }\n",
       "}(window));"
      ],
      "application/vnd.bokehjs_load.v0+json": "\n(function(root) {\n  function now() {\n    return new Date();\n  }\n\n  var force = true;\n\n  if (typeof root._bokeh_onload_callbacks === \"undefined\" || force === true) {\n    root._bokeh_onload_callbacks = [];\n    root._bokeh_is_loading = undefined;\n  }\n\n  \n\n  \n  if (typeof (root._bokeh_timeout) === \"undefined\" || force === true) {\n    root._bokeh_timeout = Date.now() + 5000;\n    root._bokeh_failed_load = false;\n  }\n\n  var NB_LOAD_WARNING = {'data': {'text/html':\n     \"<div style='background-color: #fdd'>\\n\"+\n     \"<p>\\n\"+\n     \"BokehJS does not appear to have successfully loaded. If loading BokehJS from CDN, this \\n\"+\n     \"may be due to a slow or bad network connection. Possible fixes:\\n\"+\n     \"</p>\\n\"+\n     \"<ul>\\n\"+\n     \"<li>re-rerun `output_notebook()` to attempt to load from CDN again, or</li>\\n\"+\n     \"<li>use INLINE resources instead, as so:</li>\\n\"+\n     \"</ul>\\n\"+\n     \"<code>\\n\"+\n     \"from bokeh.resources import INLINE\\n\"+\n     \"output_notebook(resources=INLINE)\\n\"+\n     \"</code>\\n\"+\n     \"</div>\"}};\n\n  function display_loaded() {\n    var el = document.getElementById(\"1118\");\n    if (el != null) {\n      el.textContent = \"BokehJS is loading...\";\n    }\n    if (root.Bokeh !== undefined) {\n      if (el != null) {\n        el.textContent = \"BokehJS \" + root.Bokeh.version + \" successfully loaded.\";\n      }\n    } else if (Date.now() < root._bokeh_timeout) {\n      setTimeout(display_loaded, 100)\n    }\n  }\n\n\n  function run_callbacks() {\n    try {\n      root._bokeh_onload_callbacks.forEach(function(callback) {\n        if (callback != null)\n          callback();\n      });\n    } finally {\n      delete root._bokeh_onload_callbacks\n    }\n    console.debug(\"Bokeh: all callbacks have finished\");\n  }\n\n  function load_libs(css_urls, js_urls, callback) {\n    if (css_urls == null) css_urls = [];\n    if (js_urls == null) js_urls = [];\n\n    root._bokeh_onload_callbacks.push(callback);\n    if (root._bokeh_is_loading > 0) {\n      console.debug(\"Bokeh: BokehJS is being loaded, scheduling callback at\", now());\n      return null;\n    }\n    if (js_urls == null || js_urls.length === 0) {\n      run_callbacks();\n      return null;\n    }\n    console.debug(\"Bokeh: BokehJS not loaded, scheduling load and callback at\", now());\n    root._bokeh_is_loading = css_urls.length + js_urls.length;\n\n    function on_load() {\n      root._bokeh_is_loading--;\n      if (root._bokeh_is_loading === 0) {\n        console.debug(\"Bokeh: all BokehJS libraries/stylesheets loaded\");\n        run_callbacks()\n      }\n    }\n\n    function on_error() {\n      console.error(\"failed to load \" + url);\n    }\n\n    for (var i = 0; i < css_urls.length; i++) {\n      var url = css_urls[i];\n      const element = document.createElement(\"link\");\n      element.onload = on_load;\n      element.onerror = on_error;\n      element.rel = \"stylesheet\";\n      element.type = \"text/css\";\n      element.href = url;\n      console.debug(\"Bokeh: injecting link tag for BokehJS stylesheet: \", url);\n      document.body.appendChild(element);\n    }\n\n    for (var i = 0; i < js_urls.length; i++) {\n      var url = js_urls[i];\n      var element = document.createElement('script');\n      element.onload = on_load;\n      element.onerror = on_error;\n      element.async = false;\n      element.src = url;\n      console.debug(\"Bokeh: injecting script tag for BokehJS library: \", url);\n      document.head.appendChild(element);\n    }\n  };var element = document.getElementById(\"1118\");\n  if (element == null) {\n    console.error(\"Bokeh: ERROR: autoload.js configured with elementid '1118' but no matching script tag was found. \")\n    return false;\n  }\n\n  function inject_raw_css(css) {\n    const element = document.createElement(\"style\");\n    element.appendChild(document.createTextNode(css));\n    document.body.appendChild(element);\n  }\n\n  \n  var js_urls = [\"https://cdn.pydata.org/bokeh/release/bokeh-1.4.0.min.js\", \"https://cdn.pydata.org/bokeh/release/bokeh-widgets-1.4.0.min.js\", \"https://cdn.pydata.org/bokeh/release/bokeh-tables-1.4.0.min.js\", \"https://cdn.pydata.org/bokeh/release/bokeh-gl-1.4.0.min.js\"];\n  var css_urls = [];\n  \n\n  var inline_js = [\n    function(Bokeh) {\n      Bokeh.set_log_level(\"info\");\n    },\n    function(Bokeh) {\n    \n    \n    }\n  ];\n\n  function run_inline_js() {\n    \n    if (root.Bokeh !== undefined || force === true) {\n      \n    for (var i = 0; i < inline_js.length; i++) {\n      inline_js[i].call(root, root.Bokeh);\n    }\n    if (force === true) {\n        display_loaded();\n      }} else if (Date.now() < root._bokeh_timeout) {\n      setTimeout(run_inline_js, 100);\n    } else if (!root._bokeh_failed_load) {\n      console.log(\"Bokeh: BokehJS failed to load within specified timeout.\");\n      root._bokeh_failed_load = true;\n    } else if (force !== true) {\n      var cell = $(document.getElementById(\"1118\")).parents('.cell').data().cell;\n      cell.output_area.append_execute_result(NB_LOAD_WARNING)\n    }\n\n  }\n\n  if (root._bokeh_is_loading === 0) {\n    console.debug(\"Bokeh: BokehJS loaded, going straight to plotting\");\n    run_inline_js();\n  } else {\n    load_libs(css_urls, js_urls, function() {\n      console.debug(\"Bokeh: BokehJS plotting callback run at\", now());\n      run_inline_js();\n    });\n  }\n}(window));"
     },
     "metadata": {},
     "output_type": "display_data"
    },
    {
     "name": "stderr",
     "output_type": "stream",
     "text": [
      "BokehDeprecationWarning: h_symmetry has been non-functional since before Bokeh 1.0 and will be removed at Bokeh 2.0\n",
      "WARNING:bokeh.core.validation.check:W-1000 (MISSING_RENDERERS): Plot has no renderers: Figure(id='1119', ...)\n"
     ]
    },
    {
     "data": {
      "text/html": [
       "\n",
       "\n",
       "\n",
       "\n",
       "\n",
       "\n",
       "  <div class=\"bk-root\" id=\"b4bd8579-e5f5-47d9-b39f-6754f7976529\" data-root-id=\"1119\"></div>\n"
      ]
     },
     "metadata": {},
     "output_type": "display_data"
    },
    {
     "data": {
      "application/javascript": [
       "(function(root) {\n",
       "  function embed_document(root) {\n",
       "    \n",
       "  var docs_json = {\"a0b4fcf2-5147-436f-a53e-5b74b3559297\":{\"roots\":{\"references\":[{\"attributes\":{\"above\":[{\"id\":\"1130\",\"type\":\"DatetimeAxis\"}],\"background_fill_alpha\":{\"value\":0.5},\"background_fill_color\":{\"value\":\"gray\"},\"border_fill_alpha\":{\"value\":0.25},\"border_fill_color\":{\"value\":\"blue\"},\"center\":[{\"id\":\"1134\",\"type\":\"Grid\"},{\"id\":\"1139\",\"type\":\"Grid\"}],\"left\":[{\"id\":\"1135\",\"type\":\"LinearAxis\"}],\"plot_height\":300,\"plot_width\":500,\"title\":{\"id\":\"1120\",\"type\":\"Title\"},\"title_location\":\"right\",\"toolbar\":{\"id\":\"1141\",\"type\":\"Toolbar\"},\"toolbar_location\":\"below\",\"x_range\":{\"id\":\"1122\",\"type\":\"FactorRange\"},\"x_scale\":{\"id\":\"1126\",\"type\":\"CategoricalScale\"},\"y_range\":{\"id\":\"1124\",\"type\":\"Range1d\"},\"y_scale\":{\"id\":\"1128\",\"type\":\"LinearScale\"}},\"id\":\"1119\",\"subtype\":\"Figure\",\"type\":\"Plot\"},{\"attributes\":{\"axis_label\":\"X Label\",\"formatter\":{\"id\":\"1147\",\"type\":\"DatetimeTickFormatter\"},\"ticker\":{\"id\":\"1131\",\"type\":\"DatetimeTicker\"}},\"id\":\"1130\",\"type\":\"DatetimeAxis\"},{\"attributes\":{\"months\":[0,2,4,6,8,10]},\"id\":\"1156\",\"type\":\"MonthsTicker\"},{\"attributes\":{\"num_minor_ticks\":5,\"tickers\":[{\"id\":\"1148\",\"type\":\"AdaptiveTicker\"},{\"id\":\"1149\",\"type\":\"AdaptiveTicker\"},{\"id\":\"1150\",\"type\":\"AdaptiveTicker\"},{\"id\":\"1151\",\"type\":\"DaysTicker\"},{\"id\":\"1152\",\"type\":\"DaysTicker\"},{\"id\":\"1153\",\"type\":\"DaysTicker\"},{\"id\":\"1154\",\"type\":\"DaysTicker\"},{\"id\":\"1155\",\"type\":\"MonthsTicker\"},{\"id\":\"1156\",\"type\":\"MonthsTicker\"},{\"id\":\"1157\",\"type\":\"MonthsTicker\"},{\"id\":\"1158\",\"type\":\"MonthsTicker\"},{\"id\":\"1159\",\"type\":\"YearsTicker\"}]},\"id\":\"1131\",\"type\":\"DatetimeTicker\"},{\"attributes\":{\"months\":[0,4,8]},\"id\":\"1157\",\"type\":\"MonthsTicker\"},{\"attributes\":{\"ticker\":{\"id\":\"1131\",\"type\":\"DatetimeTicker\"}},\"id\":\"1134\",\"type\":\"Grid\"},{\"attributes\":{\"months\":[0,6]},\"id\":\"1158\",\"type\":\"MonthsTicker\"},{\"attributes\":{\"axis_label\":\"Y Label\",\"formatter\":{\"id\":\"1145\",\"type\":\"BasicTickFormatter\"},\"ticker\":{\"id\":\"1136\",\"type\":\"BasicTicker\"}},\"id\":\"1135\",\"type\":\"LinearAxis\"},{\"attributes\":{},\"id\":\"1159\",\"type\":\"YearsTicker\"},{\"attributes\":{},\"id\":\"1136\",\"type\":\"BasicTicker\"},{\"attributes\":{\"dimension\":1,\"ticker\":{\"id\":\"1136\",\"type\":\"BasicTicker\"}},\"id\":\"1139\",\"type\":\"Grid\"},{\"attributes\":{\"active_drag\":\"auto\",\"active_inspect\":\"auto\",\"active_multi\":null,\"active_scroll\":\"auto\",\"active_tap\":\"auto\",\"tools\":[{\"id\":\"1140\",\"type\":\"SaveTool\"}]},\"id\":\"1141\",\"type\":\"Toolbar\"},{\"attributes\":{},\"id\":\"1140\",\"type\":\"SaveTool\"},{\"attributes\":{\"callback\":null,\"end\":100},\"id\":\"1124\",\"type\":\"Range1d\"},{\"attributes\":{},\"id\":\"1145\",\"type\":\"BasicTickFormatter\"},{\"attributes\":{},\"id\":\"1147\",\"type\":\"DatetimeTickFormatter\"},{\"attributes\":{\"mantissas\":[1,2,5],\"max_interval\":500.0,\"num_minor_ticks\":0},\"id\":\"1148\",\"type\":\"AdaptiveTicker\"},{\"attributes\":{\"base\":60,\"mantissas\":[1,2,5,10,15,20,30],\"max_interval\":1800000.0,\"min_interval\":1000.0,\"num_minor_ticks\":0},\"id\":\"1149\",\"type\":\"AdaptiveTicker\"},{\"attributes\":{\"base\":24,\"mantissas\":[1,2,4,6,8,12],\"max_interval\":43200000.0,\"min_interval\":3600000.0,\"num_minor_ticks\":0},\"id\":\"1150\",\"type\":\"AdaptiveTicker\"},{\"attributes\":{\"days\":[1,2,3,4,5,6,7,8,9,10,11,12,13,14,15,16,17,18,19,20,21,22,23,24,25,26,27,28,29,30,31]},\"id\":\"1151\",\"type\":\"DaysTicker\"},{\"attributes\":{\"text\":\"Example Figure\"},\"id\":\"1120\",\"type\":\"Title\"},{\"attributes\":{\"days\":[1,4,7,10,13,16,19,22,25,28]},\"id\":\"1152\",\"type\":\"DaysTicker\"},{\"attributes\":{\"callback\":null,\"factors\":[\"2018-01-01\",\"2018-06-30\"]},\"id\":\"1122\",\"type\":\"FactorRange\"},{\"attributes\":{\"days\":[1,8,15,22]},\"id\":\"1153\",\"type\":\"DaysTicker\"},{\"attributes\":{\"days\":[1,15]},\"id\":\"1154\",\"type\":\"DaysTicker\"},{\"attributes\":{},\"id\":\"1126\",\"type\":\"CategoricalScale\"},{\"attributes\":{},\"id\":\"1128\",\"type\":\"LinearScale\"},{\"attributes\":{\"months\":[0,1,2,3,4,5,6,7,8,9,10,11]},\"id\":\"1155\",\"type\":\"MonthsTicker\"}],\"root_ids\":[\"1119\"]},\"title\":\"Bokeh Application\",\"version\":\"1.4.0\"}};\n",
       "  var render_items = [{\"docid\":\"a0b4fcf2-5147-436f-a53e-5b74b3559297\",\"roots\":{\"1119\":\"b4bd8579-e5f5-47d9-b39f-6754f7976529\"}}];\n",
       "  root.Bokeh.embed.embed_items_notebook(docs_json, render_items);\n",
       "\n",
       "  }\n",
       "  if (root.Bokeh !== undefined) {\n",
       "    embed_document(root);\n",
       "  } else {\n",
       "    var attempts = 0;\n",
       "    var timer = setInterval(function(root) {\n",
       "      if (root.Bokeh !== undefined) {\n",
       "        clearInterval(timer);\n",
       "        embed_document(root);\n",
       "      } else {\n",
       "        attempts++;\n",
       "        if (attempts > 100) {\n",
       "          clearInterval(timer);\n",
       "          console.log(\"Bokeh: ERROR: Unable to run BokehJS code because BokehJS library is missing\");\n",
       "        }\n",
       "      }\n",
       "    }, 10, root)\n",
       "  }\n",
       "})(window);"
      ],
      "application/vnd.bokehjs_exec.v0+json": ""
     },
     "metadata": {
      "application/vnd.bokehjs_exec.v0+json": {
       "id": "1119"
      }
     },
     "output_type": "display_data"
    }
   ],
   "source": [
    "'''The figure will be rendered inline in my Jupyter Notebook'''\n",
    "\n",
    "output_notebook()\n",
    "\n",
    "'''Example figure'''\n",
    "fig = figure(background_fill_color='gray',\n",
    "             background_fill_alpha=0.5,\n",
    "             border_fill_color='blue',\n",
    "             border_fill_alpha=0.25,\n",
    "             plot_height=300,\n",
    "             plot_width=500,\n",
    "             h_symmetry=True,\n",
    "             x_axis_label='X Label',\n",
    "             x_axis_type='datetime',\n",
    "             x_axis_location='above',\n",
    "             x_range=('2018-01-01', '2018-06-30'),\n",
    "             y_axis_label='Y Label',\n",
    "             y_axis_type='linear',\n",
    "             y_axis_location='left',\n",
    "             y_range=(0, 100),\n",
    "             title='Example Figure',\n",
    "             title_location='right',\n",
    "             toolbar_location='below',\n",
    "             tools='save')\n",
    "\n",
    "'''Show and tell'''\n",
    "show(fig)"
   ]
  },
  {
   "cell_type": "code",
   "execution_count": 7,
   "metadata": {},
   "outputs": [
    {
     "name": "stderr",
     "output_type": "stream",
     "text": [
      "WARNING:bokeh.core.validation.check:W-1000 (MISSING_RENDERERS): Plot has no renderers: Figure(id='1119', ...)\n"
     ]
    },
    {
     "data": {
      "text/html": [
       "\n",
       "\n",
       "\n",
       "\n",
       "\n",
       "\n",
       "  <div class=\"bk-root\" id=\"cc4085c3-4688-4818-86c1-7dbfb66e6d9f\" data-root-id=\"1119\"></div>\n"
      ]
     },
     "metadata": {},
     "output_type": "display_data"
    },
    {
     "data": {
      "application/javascript": [
       "(function(root) {\n",
       "  function embed_document(root) {\n",
       "    \n",
       "  var docs_json = {\"e02335e2-d5ec-4710-9cfa-0b914051b54f\":{\"roots\":{\"references\":[{\"attributes\":{\"above\":[{\"id\":\"1130\",\"type\":\"DatetimeAxis\"}],\"background_fill_alpha\":{\"value\":0.5},\"background_fill_color\":{\"value\":\"gray\"},\"border_fill_alpha\":{\"value\":0.25},\"border_fill_color\":{\"value\":\"blue\"},\"center\":[{\"id\":\"1134\",\"type\":\"Grid\"},{\"id\":\"1139\",\"type\":\"Grid\"}],\"left\":[{\"id\":\"1135\",\"type\":\"LinearAxis\"}],\"plot_height\":300,\"plot_width\":500,\"title\":{\"id\":\"1120\",\"type\":\"Title\"},\"title_location\":\"right\",\"toolbar\":{\"id\":\"1141\",\"type\":\"Toolbar\"},\"toolbar_location\":\"below\",\"x_range\":{\"id\":\"1122\",\"type\":\"FactorRange\"},\"x_scale\":{\"id\":\"1126\",\"type\":\"CategoricalScale\"},\"y_range\":{\"id\":\"1124\",\"type\":\"Range1d\"},\"y_scale\":{\"id\":\"1128\",\"type\":\"LinearScale\"}},\"id\":\"1119\",\"subtype\":\"Figure\",\"type\":\"Plot\"},{\"attributes\":{\"axis_label\":\"X Label\",\"formatter\":{\"id\":\"1147\",\"type\":\"DatetimeTickFormatter\"},\"ticker\":{\"id\":\"1131\",\"type\":\"DatetimeTicker\"}},\"id\":\"1130\",\"type\":\"DatetimeAxis\"},{\"attributes\":{\"months\":[0,2,4,6,8,10]},\"id\":\"1156\",\"type\":\"MonthsTicker\"},{\"attributes\":{\"num_minor_ticks\":5,\"tickers\":[{\"id\":\"1148\",\"type\":\"AdaptiveTicker\"},{\"id\":\"1149\",\"type\":\"AdaptiveTicker\"},{\"id\":\"1150\",\"type\":\"AdaptiveTicker\"},{\"id\":\"1151\",\"type\":\"DaysTicker\"},{\"id\":\"1152\",\"type\":\"DaysTicker\"},{\"id\":\"1153\",\"type\":\"DaysTicker\"},{\"id\":\"1154\",\"type\":\"DaysTicker\"},{\"id\":\"1155\",\"type\":\"MonthsTicker\"},{\"id\":\"1156\",\"type\":\"MonthsTicker\"},{\"id\":\"1157\",\"type\":\"MonthsTicker\"},{\"id\":\"1158\",\"type\":\"MonthsTicker\"},{\"id\":\"1159\",\"type\":\"YearsTicker\"}]},\"id\":\"1131\",\"type\":\"DatetimeTicker\"},{\"attributes\":{\"months\":[0,4,8]},\"id\":\"1157\",\"type\":\"MonthsTicker\"},{\"attributes\":{\"grid_line_color\":null,\"ticker\":{\"id\":\"1131\",\"type\":\"DatetimeTicker\"}},\"id\":\"1134\",\"type\":\"Grid\"},{\"attributes\":{\"months\":[0,6]},\"id\":\"1158\",\"type\":\"MonthsTicker\"},{\"attributes\":{\"axis_label\":\"Y Label\",\"formatter\":{\"id\":\"1145\",\"type\":\"BasicTickFormatter\"},\"ticker\":{\"id\":\"1136\",\"type\":\"BasicTicker\"}},\"id\":\"1135\",\"type\":\"LinearAxis\"},{\"attributes\":{},\"id\":\"1159\",\"type\":\"YearsTicker\"},{\"attributes\":{},\"id\":\"1136\",\"type\":\"BasicTicker\"},{\"attributes\":{\"dimension\":1,\"grid_line_color\":null,\"ticker\":{\"id\":\"1136\",\"type\":\"BasicTicker\"}},\"id\":\"1139\",\"type\":\"Grid\"},{\"attributes\":{\"active_drag\":\"auto\",\"active_inspect\":\"auto\",\"active_multi\":null,\"active_scroll\":\"auto\",\"active_tap\":\"auto\",\"tools\":[{\"id\":\"1140\",\"type\":\"SaveTool\"}]},\"id\":\"1141\",\"type\":\"Toolbar\"},{\"attributes\":{},\"id\":\"1140\",\"type\":\"SaveTool\"},{\"attributes\":{\"callback\":null,\"end\":100},\"id\":\"1124\",\"type\":\"Range1d\"},{\"attributes\":{},\"id\":\"1145\",\"type\":\"BasicTickFormatter\"},{\"attributes\":{},\"id\":\"1147\",\"type\":\"DatetimeTickFormatter\"},{\"attributes\":{\"mantissas\":[1,2,5],\"max_interval\":500.0,\"num_minor_ticks\":0},\"id\":\"1148\",\"type\":\"AdaptiveTicker\"},{\"attributes\":{\"base\":60,\"mantissas\":[1,2,5,10,15,20,30],\"max_interval\":1800000.0,\"min_interval\":1000.0,\"num_minor_ticks\":0},\"id\":\"1149\",\"type\":\"AdaptiveTicker\"},{\"attributes\":{\"base\":24,\"mantissas\":[1,2,4,6,8,12],\"max_interval\":43200000.0,\"min_interval\":3600000.0,\"num_minor_ticks\":0},\"id\":\"1150\",\"type\":\"AdaptiveTicker\"},{\"attributes\":{\"days\":[1,2,3,4,5,6,7,8,9,10,11,12,13,14,15,16,17,18,19,20,21,22,23,24,25,26,27,28,29,30,31]},\"id\":\"1151\",\"type\":\"DaysTicker\"},{\"attributes\":{\"text\":\"Example Figure\"},\"id\":\"1120\",\"type\":\"Title\"},{\"attributes\":{\"days\":[1,4,7,10,13,16,19,22,25,28]},\"id\":\"1152\",\"type\":\"DaysTicker\"},{\"attributes\":{\"callback\":null,\"factors\":[\"2018-01-01\",\"2018-06-30\"]},\"id\":\"1122\",\"type\":\"FactorRange\"},{\"attributes\":{\"days\":[1,8,15,22]},\"id\":\"1153\",\"type\":\"DaysTicker\"},{\"attributes\":{\"days\":[1,15]},\"id\":\"1154\",\"type\":\"DaysTicker\"},{\"attributes\":{},\"id\":\"1126\",\"type\":\"CategoricalScale\"},{\"attributes\":{},\"id\":\"1128\",\"type\":\"LinearScale\"},{\"attributes\":{\"months\":[0,1,2,3,4,5,6,7,8,9,10,11]},\"id\":\"1155\",\"type\":\"MonthsTicker\"}],\"root_ids\":[\"1119\"]},\"title\":\"Bokeh Application\",\"version\":\"1.4.0\"}};\n",
       "  var render_items = [{\"docid\":\"e02335e2-d5ec-4710-9cfa-0b914051b54f\",\"roots\":{\"1119\":\"cc4085c3-4688-4818-86c1-7dbfb66e6d9f\"}}];\n",
       "  root.Bokeh.embed.embed_items_notebook(docs_json, render_items);\n",
       "\n",
       "  }\n",
       "  if (root.Bokeh !== undefined) {\n",
       "    embed_document(root);\n",
       "  } else {\n",
       "    var attempts = 0;\n",
       "    var timer = setInterval(function(root) {\n",
       "      if (root.Bokeh !== undefined) {\n",
       "        clearInterval(timer);\n",
       "        embed_document(root);\n",
       "      } else {\n",
       "        attempts++;\n",
       "        if (attempts > 100) {\n",
       "          clearInterval(timer);\n",
       "          console.log(\"Bokeh: ERROR: Unable to run BokehJS code because BokehJS library is missing\");\n",
       "        }\n",
       "      }\n",
       "    }, 10, root)\n",
       "  }\n",
       "})(window);"
      ],
      "application/vnd.bokehjs_exec.v0+json": ""
     },
     "metadata": {
      "application/vnd.bokehjs_exec.v0+json": {
       "id": "1119"
      }
     },
     "output_type": "display_data"
    }
   ],
   "source": [
    "'''Remove the gridlines from the figure() object'''\n",
    "fig.grid.grid_line_color = None\n",
    "show(fig)"
   ]
  },
  {
   "cell_type": "code",
   "execution_count": 8,
   "metadata": {},
   "outputs": [
    {
     "data": {
      "text/html": [
       "\n",
       "\n",
       "\n",
       "\n",
       "\n",
       "\n",
       "  <div class=\"bk-root\" id=\"bbbdf7e8-7844-43d3-a956-a292d6aa136d\" data-root-id=\"1364\"></div>\n"
      ]
     },
     "metadata": {},
     "output_type": "display_data"
    },
    {
     "data": {
      "application/javascript": [
       "(function(root) {\n",
       "  function embed_document(root) {\n",
       "    \n",
       "  var docs_json = {\"5fbdb435-8c06-4d48-bf08-36f64adca672\":{\"roots\":{\"references\":[{\"attributes\":{\"below\":[{\"id\":\"1375\",\"type\":\"LinearAxis\"}],\"center\":[{\"id\":\"1379\",\"type\":\"Grid\"},{\"id\":\"1384\",\"type\":\"Grid\"}],\"left\":[{\"id\":\"1380\",\"type\":\"LinearAxis\"}],\"plot_height\":300,\"plot_width\":300,\"renderers\":[{\"id\":\"1401\",\"type\":\"GlyphRenderer\"}],\"title\":{\"id\":\"1365\",\"type\":\"Title\"},\"toolbar\":{\"id\":\"1391\",\"type\":\"Toolbar\"},\"toolbar_location\":null,\"x_range\":{\"id\":\"1367\",\"type\":\"Range1d\"},\"x_scale\":{\"id\":\"1371\",\"type\":\"LinearScale\"},\"y_range\":{\"id\":\"1369\",\"type\":\"Range1d\"},\"y_scale\":{\"id\":\"1373\",\"type\":\"LinearScale\"}},\"id\":\"1364\",\"subtype\":\"Figure\",\"type\":\"Plot\"},{\"attributes\":{},\"id\":\"1426\",\"type\":\"UnionRenderers\"},{\"attributes\":{\"ticker\":{\"id\":\"1376\",\"type\":\"BasicTicker\"}},\"id\":\"1379\",\"type\":\"Grid\"},{\"attributes\":{\"bottom_units\":\"screen\",\"fill_alpha\":{\"value\":0.5},\"fill_color\":{\"value\":\"lightgrey\"},\"left_units\":\"screen\",\"level\":\"overlay\",\"line_alpha\":{\"value\":1.0},\"line_color\":{\"value\":\"black\"},\"line_dash\":[4,4],\"line_width\":{\"value\":2},\"render_mode\":\"css\",\"right_units\":\"screen\",\"top_units\":\"screen\"},\"id\":\"1427\",\"type\":\"BoxAnnotation\"},{\"attributes\":{\"formatter\":{\"id\":\"1422\",\"type\":\"BasicTickFormatter\"},\"ticker\":{\"id\":\"1381\",\"type\":\"BasicTicker\"}},\"id\":\"1380\",\"type\":\"LinearAxis\"},{\"attributes\":{},\"id\":\"1381\",\"type\":\"BasicTicker\"},{\"attributes\":{\"dimension\":1,\"ticker\":{\"id\":\"1381\",\"type\":\"BasicTicker\"}},\"id\":\"1384\",\"type\":\"Grid\"},{\"attributes\":{\"fill_alpha\":{\"value\":0.1},\"fill_color\":{\"value\":\"#1f77b4\"},\"line_alpha\":{\"value\":0.1},\"line_color\":{\"value\":\"#1f77b4\"},\"size\":{\"units\":\"screen\",\"value\":10},\"x\":{\"field\":\"x\"},\"y\":{\"field\":\"y\"}},\"id\":\"1400\",\"type\":\"Circle\"},{\"attributes\":{\"fill_alpha\":{\"value\":0.5},\"fill_color\":{\"value\":\"green\"},\"line_alpha\":{\"value\":0.5},\"line_color\":{\"value\":\"green\"},\"size\":{\"units\":\"screen\",\"value\":10},\"x\":{\"field\":\"x\"},\"y\":{\"field\":\"y\"}},\"id\":\"1399\",\"type\":\"Circle\"},{\"attributes\":{},\"id\":\"1376\",\"type\":\"BasicTicker\"},{\"attributes\":{\"data_source\":{\"id\":\"1398\",\"type\":\"ColumnDataSource\"},\"glyph\":{\"id\":\"1399\",\"type\":\"Circle\"},\"hover_glyph\":null,\"muted_glyph\":null,\"nonselection_glyph\":{\"id\":\"1400\",\"type\":\"Circle\"},\"selection_glyph\":null,\"view\":{\"id\":\"1402\",\"type\":\"CDSView\"}},\"id\":\"1401\",\"type\":\"GlyphRenderer\"},{\"attributes\":{},\"id\":\"1385\",\"type\":\"PanTool\"},{\"attributes\":{},\"id\":\"1386\",\"type\":\"WheelZoomTool\"},{\"attributes\":{\"callback\":null,\"end\":3},\"id\":\"1369\",\"type\":\"Range1d\"},{\"attributes\":{\"overlay\":{\"id\":\"1427\",\"type\":\"BoxAnnotation\"}},\"id\":\"1387\",\"type\":\"BoxZoomTool\"},{\"attributes\":{\"callback\":null,\"end\":3},\"id\":\"1367\",\"type\":\"Range1d\"},{\"attributes\":{},\"id\":\"1371\",\"type\":\"LinearScale\"},{\"attributes\":{},\"id\":\"1388\",\"type\":\"SaveTool\"},{\"attributes\":{},\"id\":\"1389\",\"type\":\"ResetTool\"},{\"attributes\":{},\"id\":\"1422\",\"type\":\"BasicTickFormatter\"},{\"attributes\":{},\"id\":\"1390\",\"type\":\"HelpTool\"},{\"attributes\":{},\"id\":\"1373\",\"type\":\"LinearScale\"},{\"attributes\":{\"active_drag\":\"auto\",\"active_inspect\":\"auto\",\"active_multi\":null,\"active_scroll\":\"auto\",\"active_tap\":\"auto\",\"tools\":[{\"id\":\"1385\",\"type\":\"PanTool\"},{\"id\":\"1386\",\"type\":\"WheelZoomTool\"},{\"id\":\"1387\",\"type\":\"BoxZoomTool\"},{\"id\":\"1388\",\"type\":\"SaveTool\"},{\"id\":\"1389\",\"type\":\"ResetTool\"},{\"id\":\"1390\",\"type\":\"HelpTool\"}]},\"id\":\"1391\",\"type\":\"Toolbar\"},{\"attributes\":{\"callback\":null,\"data\":{\"x\":[1,2,1],\"y\":[1,1,2]},\"selected\":{\"id\":\"1425\",\"type\":\"Selection\"},\"selection_policy\":{\"id\":\"1426\",\"type\":\"UnionRenderers\"}},\"id\":\"1398\",\"type\":\"ColumnDataSource\"},{\"attributes\":{\"source\":{\"id\":\"1398\",\"type\":\"ColumnDataSource\"}},\"id\":\"1402\",\"type\":\"CDSView\"},{\"attributes\":{\"text\":\"My Coordinates\"},\"id\":\"1365\",\"type\":\"Title\"},{\"attributes\":{\"formatter\":{\"id\":\"1424\",\"type\":\"BasicTickFormatter\"},\"ticker\":{\"id\":\"1376\",\"type\":\"BasicTicker\"}},\"id\":\"1375\",\"type\":\"LinearAxis\"},{\"attributes\":{},\"id\":\"1424\",\"type\":\"BasicTickFormatter\"},{\"attributes\":{},\"id\":\"1425\",\"type\":\"Selection\"}],\"root_ids\":[\"1364\"]},\"title\":\"Bokeh Application\",\"version\":\"1.4.0\"}};\n",
       "  var render_items = [{\"docid\":\"5fbdb435-8c06-4d48-bf08-36f64adca672\",\"roots\":{\"1364\":\"bbbdf7e8-7844-43d3-a956-a292d6aa136d\"}}];\n",
       "  root.Bokeh.embed.embed_items_notebook(docs_json, render_items);\n",
       "\n",
       "  }\n",
       "  if (root.Bokeh !== undefined) {\n",
       "    embed_document(root);\n",
       "  } else {\n",
       "    var attempts = 0;\n",
       "    var timer = setInterval(function(root) {\n",
       "      if (root.Bokeh !== undefined) {\n",
       "        clearInterval(timer);\n",
       "        embed_document(root);\n",
       "      } else {\n",
       "        attempts++;\n",
       "        if (attempts > 100) {\n",
       "          clearInterval(timer);\n",
       "          console.log(\"Bokeh: ERROR: Unable to run BokehJS code because BokehJS library is missing\");\n",
       "        }\n",
       "      }\n",
       "    }, 10, root)\n",
       "  }\n",
       "})(window);"
      ],
      "application/vnd.bokehjs_exec.v0+json": ""
     },
     "metadata": {
      "application/vnd.bokehjs_exec.v0+json": {
       "id": "1364"
      }
     },
     "output_type": "display_data"
    }
   ],
   "source": [
    "'''A simple visualization'''\n",
    "\n",
    "\n",
    "'''My x-y coordinate data'''\n",
    "\n",
    "x = [1, 2, 1]\n",
    "y = [1, 1, 2]\n",
    "\n",
    "'''Output the visualization directly in the notebook'''\n",
    "\n",
    "output_file('first_glyphs.html', title='First Glyphs')\n",
    "\n",
    "'''Create a figure with no toolbar and axis ranges of [0,3]'''\n",
    "fig = figure(title='My Coordinates',\n",
    "             plot_height=300, plot_width=300,\n",
    "             x_range=(0, 3), y_range=(0, 3),\n",
    "             toolbar_location=None)\n",
    "\n",
    "'''Draw the coordinates as circles'''\n",
    "\n",
    "fig.circle(x=x, y=y,\n",
    "           color='green', size=10, alpha=0.5)\n",
    "show(fig)"
   ]
  },
  {
   "cell_type": "markdown",
   "metadata": {},
   "source": [
    "# Throw the data in"
   ]
  },
  {
   "cell_type": "code",
   "execution_count": 14,
   "metadata": {},
   "outputs": [
    {
     "name": "stdout",
     "output_type": "stream",
     "text": [
      "(155713, 51) (2460, 123) (29520, 39)\n"
     ]
    }
   ],
   "source": [
    "print(player_stats.shape,team_stats.shape,standings.shape)"
   ]
  },
  {
   "cell_type": "markdown",
   "metadata": {},
   "source": [
    "# Visualize a race"
   ]
  },
  {
   "cell_type": "code",
   "execution_count": 15,
   "metadata": {},
   "outputs": [
    {
     "name": "stdout",
     "output_type": "stream",
     "text": [
      "(1968, 3)\n"
     ]
    },
    {
     "data": {
      "text/html": [
       "<div>\n",
       "<style scoped>\n",
       "    .dataframe tbody tr th:only-of-type {\n",
       "        vertical-align: middle;\n",
       "    }\n",
       "\n",
       "    .dataframe tbody tr th {\n",
       "        vertical-align: top;\n",
       "    }\n",
       "\n",
       "    .dataframe thead th {\n",
       "        text-align: right;\n",
       "    }\n",
       "</style>\n",
       "<table border=\"1\" class=\"dataframe\">\n",
       "  <thead>\n",
       "    <tr style=\"text-align: right;\">\n",
       "      <th></th>\n",
       "      <th>stDate</th>\n",
       "      <th>teamAbbr</th>\n",
       "      <th>gameWon</th>\n",
       "    </tr>\n",
       "  </thead>\n",
       "  <tbody>\n",
       "    <tr>\n",
       "      <th>9</th>\n",
       "      <td>2012-10-30</td>\n",
       "      <td>GS</td>\n",
       "      <td>0</td>\n",
       "    </tr>\n",
       "    <tr>\n",
       "      <th>39</th>\n",
       "      <td>2012-10-31</td>\n",
       "      <td>GS</td>\n",
       "      <td>1</td>\n",
       "    </tr>\n",
       "    <tr>\n",
       "      <th>69</th>\n",
       "      <td>2012-11-01</td>\n",
       "      <td>GS</td>\n",
       "      <td>1</td>\n",
       "    </tr>\n",
       "    <tr>\n",
       "      <th>99</th>\n",
       "      <td>2012-11-02</td>\n",
       "      <td>GS</td>\n",
       "      <td>1</td>\n",
       "    </tr>\n",
       "    <tr>\n",
       "      <th>129</th>\n",
       "      <td>2012-11-03</td>\n",
       "      <td>GS</td>\n",
       "      <td>2</td>\n",
       "    </tr>\n",
       "  </tbody>\n",
       "</table>\n",
       "</div>"
      ],
      "text/plain": [
       "         stDate teamAbbr  gameWon\n",
       "9    2012-10-30       GS        0\n",
       "39   2012-10-31       GS        1\n",
       "69   2012-11-01       GS        1\n",
       "99   2012-11-02       GS        1\n",
       "129  2012-11-03       GS        2"
      ]
     },
     "execution_count": 15,
     "metadata": {},
     "output_type": "execute_result"
    }
   ],
   "source": [
    "'''The race for first place in NBA’s Western Conference in 2017-18.\n",
    "Defending champion is Golden State Warriors and the challenger is Houston Rockets. \n",
    "The daily win-loss records of these two teams can be stored in a DataFrame named west_top_2'''\n",
    "\n",
    "west_top_2 = (standings[(standings['teamAbbr'] == 'HOU') | (standings['teamAbbr'] == 'GS')].loc[:, ['stDate', 'teamAbbr', 'gameWon']]\n",
    " .sort_values(['teamAbbr','stDate']))\n",
    "\n",
    "print(west_top_2.shape)\n",
    "west_top_2.head(5)"
   ]
  },
  {
   "cell_type": "code",
   "execution_count": 16,
   "metadata": {},
   "outputs": [
    {
     "name": "stdout",
     "output_type": "stream",
     "text": [
      "(984, 3) (984, 3)\n"
     ]
    }
   ],
   "source": [
    "'''Select the data for Rockets and Wariors'''\n",
    "\n",
    "rockets_data = west_top_2[west_top_2['teamAbbr'] == 'HOU']\n",
    "warriors_data = west_top_2[west_top_2['teamAbbr'] == 'GS']\n",
    "print(rockets_data.shape,warriors_data.shape)\n"
   ]
  },
  {
   "cell_type": "code",
   "execution_count": 17,
   "metadata": {},
   "outputs": [],
   "source": [
    "'''Create the mappings with columndata source'''\n",
    "\n",
    "rockets_cds = ColumnDataSource(rockets_data)\n",
    "warriors_cds = ColumnDataSource(warriors_data)\n"
   ]
  },
  {
   "cell_type": "code",
   "execution_count": 19,
   "metadata": {},
   "outputs": [],
   "source": [
    "'''Set the output file before specifying the visualization'''\n",
    "\n",
    "output_file('west-top-2-standings-race.html', \n",
    "            title='Western Conference Top 2 Teams Win Race')"
   ]
  },
  {
   "cell_type": "code",
   "execution_count": 20,
   "metadata": {},
   "outputs": [],
   "source": [
    "'''Time to design the actual visual for past wins Vs. time'''\n",
    "\n",
    "fig = figure(x_axis_type='datetime',\n",
    "             plot_height=300, plot_width=600,\n",
    "             title='Western Conference Top 2 Teams Wins Race, 2017-18',\n",
    "             x_axis_label='Date', y_axis_label='Wins',\n",
    "             toolbar_location=None)"
   ]
  },
  {
   "cell_type": "code",
   "execution_count": 21,
   "metadata": {},
   "outputs": [
    {
     "name": "stderr",
     "output_type": "stream",
     "text": [
      "BokehDeprecationWarning: 'legend' keyword is deprecated, use explicit 'legend_label', 'legend_field', or 'legend_group' keywords instead\n",
      "BokehDeprecationWarning: 'legend' keyword is deprecated, use explicit 'legend_label', 'legend_field', or 'legend_group' keywords instead\n"
     ]
    },
    {
     "data": {
      "text/html": [
       "\n",
       "\n",
       "\n",
       "\n",
       "\n",
       "\n",
       "  <div class=\"bk-root\" id=\"3f77c3c0-c6cd-4d15-8c66-13f51bd40fa8\" data-root-id=\"1583\"></div>\n"
      ]
     },
     "metadata": {},
     "output_type": "display_data"
    },
    {
     "data": {
      "application/javascript": [
       "(function(root) {\n",
       "  function embed_document(root) {\n",
       "    \n",
       "  var docs_json = {\"9bf05c64-f889-4ea5-abef-52ed1d8eaf6f\":{\"roots\":{\"references\":[{\"attributes\":{\"below\":[{\"id\":\"1594\",\"type\":\"DatetimeAxis\"}],\"center\":[{\"id\":\"1598\",\"type\":\"Grid\"},{\"id\":\"1603\",\"type\":\"Grid\"},{\"id\":\"1640\",\"type\":\"Legend\"}],\"left\":[{\"id\":\"1599\",\"type\":\"LinearAxis\"}],\"plot_height\":300,\"renderers\":[{\"id\":\"1620\",\"type\":\"GlyphRenderer\"},{\"id\":\"1645\",\"type\":\"GlyphRenderer\"}],\"title\":{\"id\":\"1584\",\"type\":\"Title\"},\"toolbar\":{\"id\":\"1610\",\"type\":\"Toolbar\"},\"toolbar_location\":null,\"x_range\":{\"id\":\"1586\",\"type\":\"DataRange1d\"},\"x_scale\":{\"id\":\"1590\",\"type\":\"LinearScale\"},\"y_range\":{\"id\":\"1588\",\"type\":\"DataRange1d\"},\"y_scale\":{\"id\":\"1592\",\"type\":\"LinearScale\"}},\"id\":\"1583\",\"subtype\":\"Figure\",\"type\":\"Plot\"},{\"attributes\":{\"line_alpha\":{\"value\":0.1},\"line_color\":{\"value\":\"#1f77b4\"},\"x\":{\"field\":\"stDate\"},\"y\":{\"field\":\"gameWon\"}},\"id\":\"1619\",\"type\":\"Step\"},{\"attributes\":{\"overlay\":{\"id\":\"1639\",\"type\":\"BoxAnnotation\"}},\"id\":\"1606\",\"type\":\"BoxZoomTool\"},{\"attributes\":{\"data_source\":{\"id\":\"1582\",\"type\":\"ColumnDataSource\"},\"glyph\":{\"id\":\"1643\",\"type\":\"Step\"},\"hover_glyph\":null,\"muted_glyph\":null,\"nonselection_glyph\":{\"id\":\"1644\",\"type\":\"Step\"},\"selection_glyph\":null,\"view\":{\"id\":\"1646\",\"type\":\"CDSView\"}},\"id\":\"1645\",\"type\":\"GlyphRenderer\"},{\"attributes\":{\"data_source\":{\"id\":\"1581\",\"type\":\"ColumnDataSource\"},\"glyph\":{\"id\":\"1618\",\"type\":\"Step\"},\"hover_glyph\":null,\"muted_glyph\":null,\"nonselection_glyph\":{\"id\":\"1619\",\"type\":\"Step\"},\"selection_glyph\":null,\"view\":{\"id\":\"1621\",\"type\":\"CDSView\"}},\"id\":\"1620\",\"type\":\"GlyphRenderer\"},{\"attributes\":{\"dimension\":1,\"ticker\":{\"id\":\"1600\",\"type\":\"BasicTicker\"}},\"id\":\"1603\",\"type\":\"Grid\"},{\"attributes\":{\"source\":{\"id\":\"1582\",\"type\":\"ColumnDataSource\"}},\"id\":\"1646\",\"type\":\"CDSView\"},{\"attributes\":{},\"id\":\"1652\",\"type\":\"Selection\"},{\"attributes\":{},\"id\":\"1604\",\"type\":\"PanTool\"},{\"attributes\":{\"base\":60,\"mantissas\":[1,2,5,10,15,20,30],\"max_interval\":1800000.0,\"min_interval\":1000.0,\"num_minor_ticks\":0},\"id\":\"1628\",\"type\":\"AdaptiveTicker\"},{\"attributes\":{},\"id\":\"1605\",\"type\":\"WheelZoomTool\"},{\"attributes\":{},\"id\":\"1653\",\"type\":\"UnionRenderers\"},{\"attributes\":{},\"id\":\"1592\",\"type\":\"LinearScale\"},{\"attributes\":{\"base\":24,\"mantissas\":[1,2,4,6,8,12],\"max_interval\":43200000.0,\"min_interval\":3600000.0,\"num_minor_ticks\":0},\"id\":\"1629\",\"type\":\"AdaptiveTicker\"},{\"attributes\":{},\"id\":\"1608\",\"type\":\"ResetTool\"},{\"attributes\":{\"label\":{\"value\":\"Warriors\"},\"renderers\":[{\"id\":\"1645\",\"type\":\"GlyphRenderer\"}]},\"id\":\"1667\",\"type\":\"LegendItem\"},{\"attributes\":{},\"id\":\"1607\",\"type\":\"SaveTool\"},{\"attributes\":{\"days\":[1,2,3,4,5,6,7,8,9,10,11,12,13,14,15,16,17,18,19,20,21,22,23,24,25,26,27,28,29,30,31]},\"id\":\"1630\",\"type\":\"DaysTicker\"},{\"attributes\":{},\"id\":\"1700\",\"type\":\"Selection\"},{\"attributes\":{\"line_color\":{\"value\":\"blue\"},\"x\":{\"field\":\"stDate\"},\"y\":{\"field\":\"gameWon\"}},\"id\":\"1643\",\"type\":\"Step\"},{\"attributes\":{\"num_minor_ticks\":5,\"tickers\":[{\"id\":\"1627\",\"type\":\"AdaptiveTicker\"},{\"id\":\"1628\",\"type\":\"AdaptiveTicker\"},{\"id\":\"1629\",\"type\":\"AdaptiveTicker\"},{\"id\":\"1630\",\"type\":\"DaysTicker\"},{\"id\":\"1631\",\"type\":\"DaysTicker\"},{\"id\":\"1632\",\"type\":\"DaysTicker\"},{\"id\":\"1633\",\"type\":\"DaysTicker\"},{\"id\":\"1634\",\"type\":\"MonthsTicker\"},{\"id\":\"1635\",\"type\":\"MonthsTicker\"},{\"id\":\"1636\",\"type\":\"MonthsTicker\"},{\"id\":\"1637\",\"type\":\"MonthsTicker\"},{\"id\":\"1638\",\"type\":\"YearsTicker\"}]},\"id\":\"1595\",\"type\":\"DatetimeTicker\"},{\"attributes\":{\"days\":[1,8,15,22]},\"id\":\"1632\",\"type\":\"DaysTicker\"},{\"attributes\":{\"callback\":null,\"data\":{\"gameWon\":[0,1,1,2,2,2,2,2,2,2,2,3,3,3,3,4,4,4,4,4,4,4,5,6,6,6,6,7,7,7,7,8,8,8,9,9,9,9,9,9,9,9,10,10,11,11,11,12,12,13,13,13,14,14,15,16,16,16,16,16,17,17,18,18,19,20,20,20,21,21,21,21,21,21,21,21,21,21,21,21,21,22,22,22,22,23,24,24,25,25,25,25,25,26,26,26,27,27,27,28,28,28,28,29,29,29,29,30,30,31,31,31,31,31,31,31,32,32,33,33,33,33,33,34,34,34,34,34,35,35,36,36,36,36,36,37,37,38,38,39,39,39,39,39,39,40,40,41,41,42,42,43,43,43,44,44,44,44,44,45,45,45,45,0,1,1,2,3,3,3,4,4,4,4,4,4,5,5,5,6,6,7,7,7,8,8,8,8,9,9,10,10,11,12,13,13,13,13,13,13,14,14,15,15,15,15,15,16,16,16,16,16,17,17,17,18,18,18,19,20,20,21,21,21,21,21,21,22,22,22,22,22,23,23,23,24,24,25,25,26,26,26,27,27,28,28,29,29,29,29,29,29,30,31,31,31,32,32,32,32,33,33,33,34,34,35,35,36,36,36,37,37,37,37,38,38,39,39,39,39,40,40,40,41,42,42,43,43,44,44,44,44,44,44,44,44,45,45,45,46,46,47,47,48,48,48,49,49,49,49,49,49,49,49,50,50,51,52,52,52,52,53,53,54,54,54,1,2,2,2,3,3,4,5,5,6,6,6,6,6,6,7,7,8,8,9,9,9,9,9,9,10,10,11,11,12,12,13,13,13,13,14,14,15,16,16,16,16,16,17,17,18,18,18,18,19,19,19,19,19,20,20,20,21,21,21,21,21,22,22,22,23,23,23,23,24,25,25,26,26,27,27,27,28,28,28,28,29,29,29,29,30,30,31,31,31,32,32,33,33,33,33,33,34,34,35,35,35,35,36,36,36,36,36,36,36,36,36,36,36,37,37,38,38,39,39,40,40,41,41,41,41,41,42,43,43,43,43,43,43,43,43,44,44,45,45,46,46,46,46,47,47,48,48,49,49,50,50,50,51,52,52,52,53,53,53,53,53,53,53,54,55,55,56,0,0,0,0,0,0,1,1,2,2,3,4,4,4,4,4,4,4,4,4,4,4,5,5,5,5,5,5,5,5,5,6,6,7,7,7,8,8,9,10,10,10,10,11,11,11,12,12,12,12,12,13,13,14,14,15,15,15,16,16,16,16,16,16,16,16,16,16,17,17,17,18,18,18,19,19,20,21,21,21,21,22,22,22,22,22,23,24,25,25,25,25,25,25,25,25,26,26,27,27,27,27,27,27,27,27,27,28,28,28,28,28,28,29,29,29,29,29,29,30,30,30,30,31,31,31,32,32,33,33,33,34,34,34,34,35,35,35,35,35,35,35,36,36,36,36,37,37,37,37,37,38,38,38,38,38,38,38,39,40,40,41,0,0,0,1,1,2,2,2,3,3,3,3,3,4,4,5,5,5,5,5,6,6,6,7,8,8,9,9,9,10,10,11,11,11,12,13,13,13,14,14,15,15,16,17,17,18,18,19,19,20,21,21,21,21,22,22,22,22,23,24,24,24,25,26,26,27,27,27,28,29,29,30,30,31,31,31,31,31,32,32,32,33,33,33,34,34,34,34,34,34,35,35,35,35,36,36,36,37,37,37,37,38,38,39,39,40,40,40,40,40,40,41,41,42,42,42,42,43,43,43,44,44,44,44,44,44,45,45,46,46,46,47,47,47,48,48,49,49,49,49,50,50,51,51,51,51,51,51,51,52,52,52,53,53,53,53,54,54,54,55,1,2,2,2,3,3,3,3,4,4,5,5,5,5,5,6,6,7,7,8,8,8,8,9,9,10,11,11,11,11,12,12,13,13,13,13,14,14,15,15,16,16,17,17,17,17,18,18,18,18,19,19,20,20,21,21,22,22,23,24,24,25,25,25,25,25,25,25,25,25,25,25,25,26,26,26,27,27,27,27,27,28,28,29,29,30,30,30,30,30,30,31,31,32,32,33,33,34,34,34,34,35,35,36,36,37,37,38,38,38,39,40,40,41,41,42,42,43,44,44,44,45,45,46,47,47,48,48,48,49,49,49,50,51,51,51,51,52,53,53,53,54,54,55,56,56,57,57,58,58,59,60,60,61,61,61,62,62,62,63,63,64,64,64,64,64,65,65],\"index\":[10,40,70,100,130,160,190,220,250,280,310,340,370,400,430,460,490,520,550,580,610,640,670,700,730,760,790,820,850,880,910,940,970,1000,1030,1060,1090,1120,1150,1180,1210,1240,1270,1300,1330,1360,1390,1420,1450,1480,1510,1540,1570,1600,1630,1660,1690,1720,1750,1780,1810,1840,1870,1900,1930,1960,1990,2020,2050,2080,2110,2140,2170,2200,2230,2260,2290,2320,2350,2380,2410,2440,2470,2500,2530,2560,2590,2620,2650,2680,2710,2740,2770,2800,2830,2860,2890,2920,2950,2980,3010,3040,3070,3100,3130,3160,3190,3220,3250,3280,3310,3340,3370,3400,3430,3460,3490,3520,3550,3580,3610,3640,3670,3700,3730,3760,3790,3820,3850,3880,3910,3940,3970,4000,4030,4060,4090,4120,4150,4180,4210,4240,4270,4300,4330,4360,4390,4420,4450,4480,4510,4540,4570,4600,4630,4660,4690,4720,4750,4780,4810,4840,4870,4900,4930,4960,4990,5020,5050,5080,5110,5140,5170,5200,5230,5260,5290,5320,5350,5380,5410,5440,5470,5500,5530,5560,5590,5620,5650,5680,5710,5740,5770,5800,5830,5860,5890,5920,5950,5980,6010,6040,6070,6100,6130,6160,6190,6220,6250,6280,6310,6340,6370,6400,6430,6460,6490,6520,6550,6580,6610,6640,6670,6700,6730,6760,6790,6820,6850,6880,6910,6940,6970,7000,7030,7060,7090,7120,7150,7180,7210,7240,7270,7300,7330,7360,7390,7420,7450,7480,7510,7540,7570,7600,7630,7660,7690,7720,7750,7780,7810,7840,7870,7900,7930,7960,7990,8020,8050,8080,8110,8140,8170,8200,8230,8260,8290,8320,8350,8380,8410,8440,8470,8500,8530,8560,8590,8620,8650,8680,8710,8740,8770,8800,8830,8860,8890,8920,8950,8980,9010,9040,9070,9100,9130,9160,9190,9220,9250,9280,9310,9340,9370,9400,9430,9460,9490,9520,9550,9580,9610,9640,9670,9700,9730,9760,9790,9820,9850,9880,9910,9940,9970,10000,10030,10060,10090,10120,10150,10180,10210,10240,10270,10300,10330,10360,10390,10420,10450,10480,10510,10540,10570,10600,10630,10660,10690,10720,10750,10780,10810,10840,10870,10900,10930,10960,10990,11020,11050,11080,11110,11140,11170,11200,11230,11260,11290,11320,11350,11380,11410,11440,11470,11500,11530,11560,11590,11620,11650,11680,11710,11740,11770,11800,11830,11860,11890,11920,11950,11980,12010,12040,12070,12100,12130,12160,12190,12220,12250,12280,12310,12340,12370,12400,12430,12460,12490,12520,12550,12580,12610,12640,12670,12700,12730,12760,12790,12820,12850,12880,12910,12940,12970,13000,13030,13060,13090,13120,13150,13180,13210,13240,13270,13300,13330,13360,13390,13420,13450,13480,13510,13540,13570,13600,13630,13660,13690,13720,13750,13780,13810,13840,13870,13900,13930,13960,13990,14020,14050,14080,14110,14140,14170,14200,14230,14260,14290,14320,14350,14380,14410,14440,14470,14500,14530,14560,14590,14620,14650,14680,14710,14740,14770,14800,14830,14860,14890,14920,14950,14980,15010,15040,15070,15100,15130,15160,15190,15220,15250,15280,15310,15340,15370,15400,15430,15460,15490,15520,15550,15580,15610,15640,15670,15700,15730,15760,15790,15820,15850,15880,15910,15940,15970,16000,16030,16060,16090,16120,16150,16180,16210,16240,16270,16300,16330,16360,16390,16420,16450,16480,16510,16540,16570,16600,16630,16660,16690,16720,16750,16780,16810,16840,16870,16900,16930,16960,16990,17020,17050,17080,17110,17140,17170,17200,17230,17260,17290,17320,17350,17380,17410,17440,17470,17500,17530,17560,17590,17620,17650,17680,17710,17740,17770,17800,17830,17860,17890,17920,17950,17980,18010,18040,18070,18100,18130,18160,18190,18220,18250,18280,18310,18340,18370,18400,18430,18460,18490,18520,18550,18580,18610,18640,18670,18700,18730,18760,18790,18820,18850,18880,18910,18940,18970,19000,19030,19060,19090,19120,19150,19180,19210,19240,19270,19300,19330,19360,19390,19420,19450,19480,19510,19540,19570,19600,19630,19660,19690,19720,19750,19780,19810,19840,19870,19900,19930,19960,19990,20020,20050,20080,20110,20140,20170,20200,20230,20260,20290,20320,20350,20380,20410,20440,20470,20500,20530,20560,20590,20620,20650,20680,20710,20740,20770,20800,20830,20860,20890,20920,20950,20980,21010,21040,21070,21100,21130,21160,21190,21220,21250,21280,21310,21340,21370,21400,21430,21460,21490,21520,21550,21580,21610,21640,21670,21700,21730,21760,21790,21820,21850,21880,21910,21940,21970,22000,22030,22060,22090,22120,22150,22180,22210,22240,22270,22300,22330,22360,22390,22420,22450,22480,22510,22540,22570,22600,22630,22660,22690,22720,22750,22780,22810,22840,22870,22900,22930,22960,22990,23020,23050,23080,23110,23140,23170,23200,23230,23260,23290,23320,23350,23380,23410,23440,23470,23500,23530,23560,23590,23620,23650,23680,23710,23740,23770,23800,23830,23860,23890,23920,23950,23980,24010,24040,24070,24100,24130,24160,24190,24220,24250,24280,24310,24340,24370,24400,24430,24460,24490,24520,24550,24580,24610,24640,24670,24700,24730,24760,24790,24820,24850,24880,24910,24940,24970,25000,25030,25060,25090,25120,25150,25180,25210,25240,25270,25300,25330,25360,25390,25420,25450,25480,25510,25540,25570,25600,25630,25660,25690,25720,25750,25780,25810,25840,25870,25900,25930,25960,25990,26020,26050,26080,26110,26140,26170,26200,26230,26260,26290,26320,26350,26380,26410,26440,26470,26500,26530,26560,26590,26620,26650,26680,26710,26740,26770,26800,26830,26860,26890,26920,26950,26980,27010,27040,27070,27100,27130,27160,27190,27220,27250,27280,27310,27340,27370,27400,27430,27460,27490,27520,27550,27580,27610,27640,27670,27700,27730,27760,27790,27820,27850,27880,27910,27940,27970,28000,28030,28060,28090,28120,28150,28180,28210,28240,28270,28300,28330,28360,28390,28420,28450,28480,28510,28540,28570,28600,28630,28660,28690,28720,28750,28780,28810,28840,28870,28900,28930,28960,28990,29020,29050,29080,29110,29140,29170,29200,29230,29260,29290,29320,29350,29380,29410,29440,29470,29500],\"stDate\":[\"2012-10-30\",\"2012-10-31\",\"2012-11-01\",\"2012-11-02\",\"2012-11-03\",\"2012-11-04\",\"2012-11-05\",\"2012-11-06\",\"2012-11-07\",\"2012-11-08\",\"2012-11-09\",\"2012-11-10\",\"2012-11-11\",\"2012-11-12\",\"2012-11-13\",\"2012-11-14\",\"2012-11-15\",\"2012-11-16\",\"2012-11-17\",\"2012-11-18\",\"2012-11-19\",\"2012-11-20\",\"2012-11-21\",\"2012-11-23\",\"2012-11-24\",\"2012-11-25\",\"2012-11-26\",\"2012-11-27\",\"2012-11-28\",\"2012-11-29\",\"2012-11-30\",\"2012-12-01\",\"2012-12-02\",\"2012-12-03\",\"2012-12-04\",\"2012-12-05\",\"2012-12-06\",\"2012-12-07\",\"2012-12-08\",\"2012-12-09\",\"2012-12-10\",\"2012-12-11\",\"2012-12-12\",\"2012-12-13\",\"2012-12-14\",\"2012-12-15\",\"2012-12-16\",\"2012-12-17\",\"2012-12-18\",\"2012-12-19\",\"2012-12-20\",\"2012-12-21\",\"2012-12-22\",\"2012-12-23\",\"2012-12-25\",\"2012-12-26\",\"2012-12-27\",\"2012-12-28\",\"2012-12-29\",\"2012-12-30\",\"2012-12-31\",\"2013-01-01\",\"2013-01-02\",\"2013-01-03\",\"2013-01-04\",\"2013-01-05\",\"2013-01-06\",\"2013-01-07\",\"2013-01-08\",\"2013-01-09\",\"2013-01-10\",\"2013-01-11\",\"2013-01-12\",\"2013-01-13\",\"2013-01-14\",\"2013-01-15\",\"2013-01-16\",\"2013-01-17\",\"2013-01-18\",\"2013-01-19\",\"2013-01-20\",\"2013-01-21\",\"2013-01-22\",\"2013-01-23\",\"2013-01-24\",\"2013-01-25\",\"2013-01-26\",\"2013-01-27\",\"2013-01-28\",\"2013-01-29\",\"2013-01-30\",\"2013-01-31\",\"2013-02-01\",\"2013-02-02\",\"2013-02-03\",\"2013-02-04\",\"2013-02-05\",\"2013-02-06\",\"2013-02-07\",\"2013-02-08\",\"2013-02-09\",\"2013-02-10\",\"2013-02-11\",\"2013-02-12\",\"2013-02-13\",\"2013-02-14\",\"2013-02-19\",\"2013-02-20\",\"2013-02-21\",\"2013-02-22\",\"2013-02-23\",\"2013-02-24\",\"2013-02-25\",\"2013-02-26\",\"2013-02-27\",\"2013-02-28\",\"2013-03-01\",\"2013-03-02\",\"2013-03-03\",\"2013-03-04\",\"2013-03-05\",\"2013-03-06\",\"2013-03-07\",\"2013-03-08\",\"2013-03-09\",\"2013-03-10\",\"2013-03-11\",\"2013-03-12\",\"2013-03-13\",\"2013-03-14\",\"2013-03-15\",\"2013-03-16\",\"2013-03-17\",\"2013-03-18\",\"2013-03-19\",\"2013-03-20\",\"2013-03-21\",\"2013-03-22\",\"2013-03-23\",\"2013-03-24\",\"2013-03-25\",\"2013-03-26\",\"2013-03-27\",\"2013-03-28\",\"2013-03-29\",\"2013-03-30\",\"2013-03-31\",\"2013-04-01\",\"2013-04-02\",\"2013-04-03\",\"2013-04-04\",\"2013-04-05\",\"2013-04-06\",\"2013-04-07\",\"2013-04-09\",\"2013-04-10\",\"2013-04-11\",\"2013-04-12\",\"2013-04-13\",\"2013-04-14\",\"2013-04-15\",\"2013-04-16\",\"2013-04-17\",\"2013-10-29\",\"2013-10-30\",\"2013-10-31\",\"2013-11-01\",\"2013-11-02\",\"2013-11-03\",\"2013-11-04\",\"2013-11-05\",\"2013-11-06\",\"2013-11-07\",\"2013-11-08\",\"2013-11-09\",\"2013-11-10\",\"2013-11-11\",\"2013-11-12\",\"2013-11-13\",\"2013-11-14\",\"2013-11-15\",\"2013-11-16\",\"2013-11-17\",\"2013-11-18\",\"2013-11-19\",\"2013-11-20\",\"2013-11-21\",\"2013-11-22\",\"2013-11-23\",\"2013-11-24\",\"2013-11-25\",\"2013-11-26\",\"2013-11-27\",\"2013-11-29\",\"2013-11-30\",\"2013-12-01\",\"2013-12-02\",\"2013-12-03\",\"2013-12-04\",\"2013-12-05\",\"2013-12-06\",\"2013-12-07\",\"2013-12-08\",\"2013-12-09\",\"2013-12-10\",\"2013-12-11\",\"2013-12-12\",\"2013-12-13\",\"2013-12-14\",\"2013-12-15\",\"2013-12-16\",\"2013-12-17\",\"2013-12-18\",\"2013-12-19\",\"2013-12-20\",\"2013-12-21\",\"2013-12-22\",\"2013-12-23\",\"2013-12-25\",\"2013-12-26\",\"2013-12-27\",\"2013-12-28\",\"2013-12-29\",\"2013-12-30\",\"2013-12-31\",\"2014-01-01\",\"2014-01-02\",\"2014-01-03\",\"2014-01-04\",\"2014-01-05\",\"2014-01-06\",\"2014-01-07\",\"2014-01-08\",\"2014-01-09\",\"2014-01-10\",\"2014-01-11\",\"2014-01-12\",\"2014-01-13\",\"2014-01-14\",\"2014-01-15\",\"2014-01-16\",\"2014-01-17\",\"2014-01-18\",\"2014-01-19\",\"2014-01-20\",\"2014-01-21\",\"2014-01-22\",\"2014-01-23\",\"2014-01-24\",\"2014-01-25\",\"2014-01-26\",\"2014-01-27\",\"2014-01-28\",\"2014-01-29\",\"2014-01-30\",\"2014-01-31\",\"2014-02-01\",\"2014-02-02\",\"2014-02-03\",\"2014-02-04\",\"2014-02-05\",\"2014-02-06\",\"2014-02-07\",\"2014-02-08\",\"2014-02-09\",\"2014-02-10\",\"2014-02-11\",\"2014-02-12\",\"2014-02-13\",\"2014-02-18\",\"2014-02-19\",\"2014-02-20\",\"2014-02-21\",\"2014-02-22\",\"2014-02-23\",\"2014-02-24\",\"2014-02-25\",\"2014-02-26\",\"2014-02-27\",\"2014-02-28\",\"2014-03-01\",\"2014-03-02\",\"2014-03-03\",\"2014-03-04\",\"2014-03-05\",\"2014-03-06\",\"2014-03-07\",\"2014-03-08\",\"2014-03-09\",\"2014-03-10\",\"2014-03-11\",\"2014-03-12\",\"2014-03-13\",\"2014-03-14\",\"2014-03-15\",\"2014-03-16\",\"2014-03-17\",\"2014-03-18\",\"2014-03-19\",\"2014-03-20\",\"2014-03-21\",\"2014-03-22\",\"2014-03-23\",\"2014-03-24\",\"2014-03-25\",\"2014-03-26\",\"2014-03-27\",\"2014-03-28\",\"2014-03-29\",\"2014-03-30\",\"2014-03-31\",\"2014-04-01\",\"2014-04-02\",\"2014-04-03\",\"2014-04-04\",\"2014-04-05\",\"2014-04-06\",\"2014-04-08\",\"2014-04-09\",\"2014-04-10\",\"2014-04-11\",\"2014-04-12\",\"2014-04-13\",\"2014-04-14\",\"2014-04-15\",\"2014-04-16\",\"2014-10-28\",\"2014-10-29\",\"2014-10-30\",\"2014-10-31\",\"2014-11-01\",\"2014-11-02\",\"2014-11-03\",\"2014-11-04\",\"2014-11-05\",\"2014-11-06\",\"2014-11-07\",\"2014-11-08\",\"2014-11-09\",\"2014-11-10\",\"2014-11-11\",\"2014-11-12\",\"2014-11-13\",\"2014-11-14\",\"2014-11-15\",\"2014-11-16\",\"2014-11-17\",\"2014-11-18\",\"2014-11-19\",\"2014-11-20\",\"2014-11-21\",\"2014-11-22\",\"2014-11-23\",\"2014-11-24\",\"2014-11-25\",\"2014-11-26\",\"2014-11-28\",\"2014-11-29\",\"2014-11-30\",\"2014-12-01\",\"2014-12-02\",\"2014-12-03\",\"2014-12-04\",\"2014-12-05\",\"2014-12-06\",\"2014-12-07\",\"2014-12-08\",\"2014-12-09\",\"2014-12-10\",\"2014-12-11\",\"2014-12-12\",\"2014-12-13\",\"2014-12-14\",\"2014-12-15\",\"2014-12-16\",\"2014-12-17\",\"2014-12-18\",\"2014-12-19\",\"2014-12-20\",\"2014-12-21\",\"2014-12-22\",\"2014-12-23\",\"2014-12-25\",\"2014-12-26\",\"2014-12-27\",\"2014-12-28\",\"2014-12-29\",\"2014-12-30\",\"2014-12-31\",\"2015-01-01\",\"2015-01-02\",\"2015-01-03\",\"2015-01-04\",\"2015-01-05\",\"2015-01-06\",\"2015-01-07\",\"2015-01-08\",\"2015-01-09\",\"2015-01-10\",\"2015-01-11\",\"2015-01-12\",\"2015-01-13\",\"2015-01-14\",\"2015-01-15\",\"2015-01-16\",\"2015-01-17\",\"2015-01-18\",\"2015-01-19\",\"2015-01-20\",\"2015-01-21\",\"2015-01-22\",\"2015-01-23\",\"2015-01-24\",\"2015-01-25\",\"2015-01-26\",\"2015-01-27\",\"2015-01-28\",\"2015-01-29\",\"2015-01-30\",\"2015-01-31\",\"2015-02-01\",\"2015-02-02\",\"2015-02-03\",\"2015-02-04\",\"2015-02-05\",\"2015-02-06\",\"2015-02-07\",\"2015-02-08\",\"2015-02-09\",\"2015-02-10\",\"2015-02-11\",\"2015-02-12\",\"2015-02-13\",\"2015-02-14\",\"2015-02-15\",\"2015-02-16\",\"2015-02-17\",\"2015-02-18\",\"2015-02-19\",\"2015-02-20\",\"2015-02-21\",\"2015-02-22\",\"2015-02-23\",\"2015-02-24\",\"2015-02-25\",\"2015-02-26\",\"2015-02-27\",\"2015-02-28\",\"2015-03-01\",\"2015-03-02\",\"2015-03-03\",\"2015-03-04\",\"2015-03-05\",\"2015-03-06\",\"2015-03-07\",\"2015-03-08\",\"2015-03-09\",\"2015-03-10\",\"2015-03-11\",\"2015-03-12\",\"2015-03-13\",\"2015-03-14\",\"2015-03-15\",\"2015-03-16\",\"2015-03-17\",\"2015-03-18\",\"2015-03-19\",\"2015-03-20\",\"2015-03-21\",\"2015-03-22\",\"2015-03-23\",\"2015-03-24\",\"2015-03-25\",\"2015-03-26\",\"2015-03-27\",\"2015-03-28\",\"2015-03-29\",\"2015-03-30\",\"2015-03-31\",\"2015-04-01\",\"2015-04-02\",\"2015-04-03\",\"2015-04-04\",\"2015-04-05\",\"2015-04-06\",\"2015-04-07\",\"2015-04-08\",\"2015-04-09\",\"2015-04-10\",\"2015-04-11\",\"2015-04-12\",\"2015-04-13\",\"2015-04-14\",\"2015-04-15\",\"2015-10-27\",\"2015-10-28\",\"2015-10-29\",\"2015-10-30\",\"2015-10-31\",\"2015-11-01\",\"2015-11-02\",\"2015-11-03\",\"2015-11-04\",\"2015-11-05\",\"2015-11-06\",\"2015-11-07\",\"2015-11-08\",\"2015-11-09\",\"2015-11-10\",\"2015-11-11\",\"2015-11-12\",\"2015-11-13\",\"2015-11-14\",\"2015-11-15\",\"2015-11-16\",\"2015-11-17\",\"2015-11-18\",\"2015-11-19\",\"2015-11-20\",\"2015-11-21\",\"2015-11-22\",\"2015-11-23\",\"2015-11-24\",\"2015-11-25\",\"2015-11-26\",\"2015-11-27\",\"2015-11-28\",\"2015-11-29\",\"2015-11-30\",\"2015-12-01\",\"2015-12-02\",\"2015-12-03\",\"2015-12-04\",\"2015-12-05\",\"2015-12-06\",\"2015-12-07\",\"2015-12-08\",\"2015-12-09\",\"2015-12-10\",\"2015-12-11\",\"2015-12-12\",\"2015-12-13\",\"2015-12-14\",\"2015-12-15\",\"2015-12-16\",\"2015-12-17\",\"2015-12-18\",\"2015-12-19\",\"2015-12-20\",\"2015-12-21\",\"2015-12-22\",\"2015-12-23\",\"2015-12-25\",\"2015-12-26\",\"2015-12-27\",\"2015-12-28\",\"2015-12-29\",\"2015-12-30\",\"2015-12-31\",\"2016-01-01\",\"2016-01-02\",\"2016-01-03\",\"2016-01-04\",\"2016-01-05\",\"2016-01-06\",\"2016-01-07\",\"2016-01-08\",\"2016-01-09\",\"2016-01-10\",\"2016-01-11\",\"2016-01-12\",\"2016-01-13\",\"2016-01-14\",\"2016-01-15\",\"2016-01-16\",\"2016-01-17\",\"2016-01-18\",\"2016-01-19\",\"2016-01-20\",\"2016-01-21\",\"2016-01-23\",\"2016-01-24\",\"2016-01-25\",\"2016-01-26\",\"2016-01-27\",\"2016-01-28\",\"2016-01-29\",\"2016-01-30\",\"2016-01-31\",\"2016-02-01\",\"2016-02-02\",\"2016-02-03\",\"2016-02-04\",\"2016-02-05\",\"2016-02-06\",\"2016-02-07\",\"2016-02-08\",\"2016-02-09\",\"2016-02-10\",\"2016-02-11\",\"2016-02-18\",\"2016-02-19\",\"2016-02-20\",\"2016-02-21\",\"2016-02-22\",\"2016-02-23\",\"2016-02-24\",\"2016-02-25\",\"2016-02-26\",\"2016-02-27\",\"2016-02-28\",\"2016-02-29\",\"2016-03-01\",\"2016-03-02\",\"2016-03-03\",\"2016-03-04\",\"2016-03-05\",\"2016-03-06\",\"2016-03-07\",\"2016-03-08\",\"2016-03-09\",\"2016-03-10\",\"2016-03-11\",\"2016-03-12\",\"2016-03-13\",\"2016-03-14\",\"2016-03-15\",\"2016-03-16\",\"2016-03-17\",\"2016-03-18\",\"2016-03-19\",\"2016-03-20\",\"2016-03-21\",\"2016-03-22\",\"2016-03-23\",\"2016-03-24\",\"2016-03-25\",\"2016-03-26\",\"2016-03-27\",\"2016-03-28\",\"2016-03-29\",\"2016-03-30\",\"2016-03-31\",\"2016-04-01\",\"2016-04-02\",\"2016-04-03\",\"2016-04-04\",\"2016-04-05\",\"2016-04-06\",\"2016-04-07\",\"2016-04-08\",\"2016-04-09\",\"2016-04-10\",\"2016-04-11\",\"2016-04-12\",\"2016-04-13\",\"2016-10-25\",\"2016-10-26\",\"2016-10-27\",\"2016-10-28\",\"2016-10-29\",\"2016-10-30\",\"2016-10-31\",\"2016-11-01\",\"2016-11-02\",\"2016-11-03\",\"2016-11-04\",\"2016-11-05\",\"2016-11-06\",\"2016-11-07\",\"2016-11-08\",\"2016-11-09\",\"2016-11-10\",\"2016-11-11\",\"2016-11-12\",\"2016-11-13\",\"2016-11-14\",\"2016-11-15\",\"2016-11-16\",\"2016-11-17\",\"2016-11-19\",\"2016-11-20\",\"2016-11-21\",\"2016-11-22\",\"2016-11-23\",\"2016-11-25\",\"2016-11-26\",\"2016-11-27\",\"2016-11-28\",\"2016-11-29\",\"2016-12-01\",\"2016-12-02\",\"2016-12-03\",\"2016-12-04\",\"2016-12-05\",\"2016-12-06\",\"2016-12-07\",\"2016-12-08\",\"2016-12-09\",\"2016-12-10\",\"2016-12-11\",\"2016-12-12\",\"2016-12-13\",\"2016-12-14\",\"2016-12-15\",\"2016-12-16\",\"2016-12-17\",\"2016-12-18\",\"2016-12-19\",\"2016-12-20\",\"2016-12-21\",\"2016-12-22\",\"2016-12-23\",\"2016-12-25\",\"2016-12-26\",\"2016-12-27\",\"2016-12-28\",\"2016-12-29\",\"2016-12-30\",\"2016-12-31\",\"2017-01-01\",\"2017-01-02\",\"2017-01-03\",\"2017-01-04\",\"2017-01-05\",\"2017-01-06\",\"2017-01-07\",\"2017-01-08\",\"2017-01-09\",\"2017-01-10\",\"2017-01-11\",\"2017-01-12\",\"2017-01-13\",\"2017-01-14\",\"2017-01-15\",\"2017-01-16\",\"2017-01-17\",\"2017-01-18\",\"2017-01-19\",\"2017-01-20\",\"2017-01-21\",\"2017-01-22\",\"2017-01-23\",\"2017-01-24\",\"2017-01-25\",\"2017-01-26\",\"2017-01-27\",\"2017-01-28\",\"2017-01-29\",\"2017-01-30\",\"2017-01-31\",\"2017-02-01\",\"2017-02-02\",\"2017-02-03\",\"2017-02-04\",\"2017-02-05\",\"2017-02-06\",\"2017-02-07\",\"2017-02-08\",\"2017-02-09\",\"2017-02-10\",\"2017-02-11\",\"2017-02-12\",\"2017-02-13\",\"2017-02-14\",\"2017-02-15\",\"2017-02-16\",\"2017-02-23\",\"2017-02-24\",\"2017-02-25\",\"2017-02-26\",\"2017-02-27\",\"2017-02-28\",\"2017-03-01\",\"2017-03-02\",\"2017-03-03\",\"2017-03-04\",\"2017-03-05\",\"2017-03-06\",\"2017-03-07\",\"2017-03-08\",\"2017-03-09\",\"2017-03-10\",\"2017-03-11\",\"2017-03-12\",\"2017-03-13\",\"2017-03-14\",\"2017-03-15\",\"2017-03-16\",\"2017-03-17\",\"2017-03-18\",\"2017-03-19\",\"2017-03-20\",\"2017-03-21\",\"2017-03-22\",\"2017-03-23\",\"2017-03-24\",\"2017-03-25\",\"2017-03-26\",\"2017-03-27\",\"2017-03-28\",\"2017-03-29\",\"2017-03-30\",\"2017-03-31\",\"2017-04-01\",\"2017-04-02\",\"2017-04-03\",\"2017-04-04\",\"2017-04-05\",\"2017-04-06\",\"2017-04-07\",\"2017-04-08\",\"2017-04-09\",\"2017-04-10\",\"2017-04-11\",\"2017-04-12\",\"2017-10-17\",\"2017-10-18\",\"2017-10-19\",\"2017-10-20\",\"2017-10-21\",\"2017-10-22\",\"2017-10-23\",\"2017-10-24\",\"2017-10-25\",\"2017-10-26\",\"2017-10-27\",\"2017-10-28\",\"2017-10-29\",\"2017-10-30\",\"2017-10-31\",\"2017-11-01\",\"2017-11-02\",\"2017-11-03\",\"2017-11-04\",\"2017-11-05\",\"2017-11-06\",\"2017-11-07\",\"2017-11-08\",\"2017-11-09\",\"2017-11-10\",\"2017-11-11\",\"2017-11-12\",\"2017-11-13\",\"2017-11-14\",\"2017-11-15\",\"2017-11-16\",\"2017-11-17\",\"2017-11-18\",\"2017-11-19\",\"2017-11-20\",\"2017-11-21\",\"2017-11-22\",\"2017-11-24\",\"2017-11-25\",\"2017-11-26\",\"2017-11-27\",\"2017-11-28\",\"2017-11-29\",\"2017-11-30\",\"2017-12-01\",\"2017-12-02\",\"2017-12-03\",\"2017-12-04\",\"2017-12-05\",\"2017-12-06\",\"2017-12-07\",\"2017-12-08\",\"2017-12-09\",\"2017-12-10\",\"2017-12-11\",\"2017-12-12\",\"2017-12-13\",\"2017-12-14\",\"2017-12-15\",\"2017-12-16\",\"2017-12-17\",\"2017-12-18\",\"2017-12-19\",\"2017-12-20\",\"2017-12-21\",\"2017-12-22\",\"2017-12-23\",\"2017-12-25\",\"2017-12-26\",\"2017-12-27\",\"2017-12-28\",\"2017-12-29\",\"2017-12-30\",\"2017-12-31\",\"2018-01-01\",\"2018-01-02\",\"2018-01-03\",\"2018-01-04\",\"2018-01-05\",\"2018-01-06\",\"2018-01-07\",\"2018-01-08\",\"2018-01-09\",\"2018-01-10\",\"2018-01-11\",\"2018-01-12\",\"2018-01-13\",\"2018-01-14\",\"2018-01-15\",\"2018-01-16\",\"2018-01-17\",\"2018-01-18\",\"2018-01-19\",\"2018-01-20\",\"2018-01-21\",\"2018-01-22\",\"2018-01-23\",\"2018-01-24\",\"2018-01-25\",\"2018-01-26\",\"2018-01-27\",\"2018-01-28\",\"2018-01-29\",\"2018-01-30\",\"2018-01-31\",\"2018-02-01\",\"2018-02-02\",\"2018-02-03\",\"2018-02-04\",\"2018-02-05\",\"2018-02-06\",\"2018-02-07\",\"2018-02-08\",\"2018-02-09\",\"2018-02-10\",\"2018-02-11\",\"2018-02-12\",\"2018-02-13\",\"2018-02-14\",\"2018-02-15\",\"2018-02-22\",\"2018-02-23\",\"2018-02-24\",\"2018-02-25\",\"2018-02-26\",\"2018-02-27\",\"2018-02-28\",\"2018-03-01\",\"2018-03-02\",\"2018-03-03\",\"2018-03-04\",\"2018-03-05\",\"2018-03-06\",\"2018-03-07\",\"2018-03-08\",\"2018-03-09\",\"2018-03-10\",\"2018-03-11\",\"2018-03-12\",\"2018-03-13\",\"2018-03-14\",\"2018-03-15\",\"2018-03-16\",\"2018-03-17\",\"2018-03-18\",\"2018-03-19\",\"2018-03-20\",\"2018-03-21\",\"2018-03-22\",\"2018-03-23\",\"2018-03-24\",\"2018-03-25\",\"2018-03-26\",\"2018-03-27\",\"2018-03-28\",\"2018-03-29\",\"2018-03-30\",\"2018-03-31\",\"2018-04-01\",\"2018-04-03\",\"2018-04-04\",\"2018-04-05\",\"2018-04-06\",\"2018-04-07\",\"2018-04-08\",\"2018-04-09\",\"2018-04-10\",\"2018-04-11\"],\"teamAbbr\":[\"HOU\",\"HOU\",\"HOU\",\"HOU\",\"HOU\",\"HOU\",\"HOU\",\"HOU\",\"HOU\",\"HOU\",\"HOU\",\"HOU\",\"HOU\",\"HOU\",\"HOU\",\"HOU\",\"HOU\",\"HOU\",\"HOU\",\"HOU\",\"HOU\",\"HOU\",\"HOU\",\"HOU\",\"HOU\",\"HOU\",\"HOU\",\"HOU\",\"HOU\",\"HOU\",\"HOU\",\"HOU\",\"HOU\",\"HOU\",\"HOU\",\"HOU\",\"HOU\",\"HOU\",\"HOU\",\"HOU\",\"HOU\",\"HOU\",\"HOU\",\"HOU\",\"HOU\",\"HOU\",\"HOU\",\"HOU\",\"HOU\",\"HOU\",\"HOU\",\"HOU\",\"HOU\",\"HOU\",\"HOU\",\"HOU\",\"HOU\",\"HOU\",\"HOU\",\"HOU\",\"HOU\",\"HOU\",\"HOU\",\"HOU\",\"HOU\",\"HOU\",\"HOU\",\"HOU\",\"HOU\",\"HOU\",\"HOU\",\"HOU\",\"HOU\",\"HOU\",\"HOU\",\"HOU\",\"HOU\",\"HOU\",\"HOU\",\"HOU\",\"HOU\",\"HOU\",\"HOU\",\"HOU\",\"HOU\",\"HOU\",\"HOU\",\"HOU\",\"HOU\",\"HOU\",\"HOU\",\"HOU\",\"HOU\",\"HOU\",\"HOU\",\"HOU\",\"HOU\",\"HOU\",\"HOU\",\"HOU\",\"HOU\",\"HOU\",\"HOU\",\"HOU\",\"HOU\",\"HOU\",\"HOU\",\"HOU\",\"HOU\",\"HOU\",\"HOU\",\"HOU\",\"HOU\",\"HOU\",\"HOU\",\"HOU\",\"HOU\",\"HOU\",\"HOU\",\"HOU\",\"HOU\",\"HOU\",\"HOU\",\"HOU\",\"HOU\",\"HOU\",\"HOU\",\"HOU\",\"HOU\",\"HOU\",\"HOU\",\"HOU\",\"HOU\",\"HOU\",\"HOU\",\"HOU\",\"HOU\",\"HOU\",\"HOU\",\"HOU\",\"HOU\",\"HOU\",\"HOU\",\"HOU\",\"HOU\",\"HOU\",\"HOU\",\"HOU\",\"HOU\",\"HOU\",\"HOU\",\"HOU\",\"HOU\",\"HOU\",\"HOU\",\"HOU\",\"HOU\",\"HOU\",\"HOU\",\"HOU\",\"HOU\",\"HOU\",\"HOU\",\"HOU\",\"HOU\",\"HOU\",\"HOU\",\"HOU\",\"HOU\",\"HOU\",\"HOU\",\"HOU\",\"HOU\",\"HOU\",\"HOU\",\"HOU\",\"HOU\",\"HOU\",\"HOU\",\"HOU\",\"HOU\",\"HOU\",\"HOU\",\"HOU\",\"HOU\",\"HOU\",\"HOU\",\"HOU\",\"HOU\",\"HOU\",\"HOU\",\"HOU\",\"HOU\",\"HOU\",\"HOU\",\"HOU\",\"HOU\",\"HOU\",\"HOU\",\"HOU\",\"HOU\",\"HOU\",\"HOU\",\"HOU\",\"HOU\",\"HOU\",\"HOU\",\"HOU\",\"HOU\",\"HOU\",\"HOU\",\"HOU\",\"HOU\",\"HOU\",\"HOU\",\"HOU\",\"HOU\",\"HOU\",\"HOU\",\"HOU\",\"HOU\",\"HOU\",\"HOU\",\"HOU\",\"HOU\",\"HOU\",\"HOU\",\"HOU\",\"HOU\",\"HOU\",\"HOU\",\"HOU\",\"HOU\",\"HOU\",\"HOU\",\"HOU\",\"HOU\",\"HOU\",\"HOU\",\"HOU\",\"HOU\",\"HOU\",\"HOU\",\"HOU\",\"HOU\",\"HOU\",\"HOU\",\"HOU\",\"HOU\",\"HOU\",\"HOU\",\"HOU\",\"HOU\",\"HOU\",\"HOU\",\"HOU\",\"HOU\",\"HOU\",\"HOU\",\"HOU\",\"HOU\",\"HOU\",\"HOU\",\"HOU\",\"HOU\",\"HOU\",\"HOU\",\"HOU\",\"HOU\",\"HOU\",\"HOU\",\"HOU\",\"HOU\",\"HOU\",\"HOU\",\"HOU\",\"HOU\",\"HOU\",\"HOU\",\"HOU\",\"HOU\",\"HOU\",\"HOU\",\"HOU\",\"HOU\",\"HOU\",\"HOU\",\"HOU\",\"HOU\",\"HOU\",\"HOU\",\"HOU\",\"HOU\",\"HOU\",\"HOU\",\"HOU\",\"HOU\",\"HOU\",\"HOU\",\"HOU\",\"HOU\",\"HOU\",\"HOU\",\"HOU\",\"HOU\",\"HOU\",\"HOU\",\"HOU\",\"HOU\",\"HOU\",\"HOU\",\"HOU\",\"HOU\",\"HOU\",\"HOU\",\"HOU\",\"HOU\",\"HOU\",\"HOU\",\"HOU\",\"HOU\",\"HOU\",\"HOU\",\"HOU\",\"HOU\",\"HOU\",\"HOU\",\"HOU\",\"HOU\",\"HOU\",\"HOU\",\"HOU\",\"HOU\",\"HOU\",\"HOU\",\"HOU\",\"HOU\",\"HOU\",\"HOU\",\"HOU\",\"HOU\",\"HOU\",\"HOU\",\"HOU\",\"HOU\",\"HOU\",\"HOU\",\"HOU\",\"HOU\",\"HOU\",\"HOU\",\"HOU\",\"HOU\",\"HOU\",\"HOU\",\"HOU\",\"HOU\",\"HOU\",\"HOU\",\"HOU\",\"HOU\",\"HOU\",\"HOU\",\"HOU\",\"HOU\",\"HOU\",\"HOU\",\"HOU\",\"HOU\",\"HOU\",\"HOU\",\"HOU\",\"HOU\",\"HOU\",\"HOU\",\"HOU\",\"HOU\",\"HOU\",\"HOU\",\"HOU\",\"HOU\",\"HOU\",\"HOU\",\"HOU\",\"HOU\",\"HOU\",\"HOU\",\"HOU\",\"HOU\",\"HOU\",\"HOU\",\"HOU\",\"HOU\",\"HOU\",\"HOU\",\"HOU\",\"HOU\",\"HOU\",\"HOU\",\"HOU\",\"HOU\",\"HOU\",\"HOU\",\"HOU\",\"HOU\",\"HOU\",\"HOU\",\"HOU\",\"HOU\",\"HOU\",\"HOU\",\"HOU\",\"HOU\",\"HOU\",\"HOU\",\"HOU\",\"HOU\",\"HOU\",\"HOU\",\"HOU\",\"HOU\",\"HOU\",\"HOU\",\"HOU\",\"HOU\",\"HOU\",\"HOU\",\"HOU\",\"HOU\",\"HOU\",\"HOU\",\"HOU\",\"HOU\",\"HOU\",\"HOU\",\"HOU\",\"HOU\",\"HOU\",\"HOU\",\"HOU\",\"HOU\",\"HOU\",\"HOU\",\"HOU\",\"HOU\",\"HOU\",\"HOU\",\"HOU\",\"HOU\",\"HOU\",\"HOU\",\"HOU\",\"HOU\",\"HOU\",\"HOU\",\"HOU\",\"HOU\",\"HOU\",\"HOU\",\"HOU\",\"HOU\",\"HOU\",\"HOU\",\"HOU\",\"HOU\",\"HOU\",\"HOU\",\"HOU\",\"HOU\",\"HOU\",\"HOU\",\"HOU\",\"HOU\",\"HOU\",\"HOU\",\"HOU\",\"HOU\",\"HOU\",\"HOU\",\"HOU\",\"HOU\",\"HOU\",\"HOU\",\"HOU\",\"HOU\",\"HOU\",\"HOU\",\"HOU\",\"HOU\",\"HOU\",\"HOU\",\"HOU\",\"HOU\",\"HOU\",\"HOU\",\"HOU\",\"HOU\",\"HOU\",\"HOU\",\"HOU\",\"HOU\",\"HOU\",\"HOU\",\"HOU\",\"HOU\",\"HOU\",\"HOU\",\"HOU\",\"HOU\",\"HOU\",\"HOU\",\"HOU\",\"HOU\",\"HOU\",\"HOU\",\"HOU\",\"HOU\",\"HOU\",\"HOU\",\"HOU\",\"HOU\",\"HOU\",\"HOU\",\"HOU\",\"HOU\",\"HOU\",\"HOU\",\"HOU\",\"HOU\",\"HOU\",\"HOU\",\"HOU\",\"HOU\",\"HOU\",\"HOU\",\"HOU\",\"HOU\",\"HOU\",\"HOU\",\"HOU\",\"HOU\",\"HOU\",\"HOU\",\"HOU\",\"HOU\",\"HOU\",\"HOU\",\"HOU\",\"HOU\",\"HOU\",\"HOU\",\"HOU\",\"HOU\",\"HOU\",\"HOU\",\"HOU\",\"HOU\",\"HOU\",\"HOU\",\"HOU\",\"HOU\",\"HOU\",\"HOU\",\"HOU\",\"HOU\",\"HOU\",\"HOU\",\"HOU\",\"HOU\",\"HOU\",\"HOU\",\"HOU\",\"HOU\",\"HOU\",\"HOU\",\"HOU\",\"HOU\",\"HOU\",\"HOU\",\"HOU\",\"HOU\",\"HOU\",\"HOU\",\"HOU\",\"HOU\",\"HOU\",\"HOU\",\"HOU\",\"HOU\",\"HOU\",\"HOU\",\"HOU\",\"HOU\",\"HOU\",\"HOU\",\"HOU\",\"HOU\",\"HOU\",\"HOU\",\"HOU\",\"HOU\",\"HOU\",\"HOU\",\"HOU\",\"HOU\",\"HOU\",\"HOU\",\"HOU\",\"HOU\",\"HOU\",\"HOU\",\"HOU\",\"HOU\",\"HOU\",\"HOU\",\"HOU\",\"HOU\",\"HOU\",\"HOU\",\"HOU\",\"HOU\",\"HOU\",\"HOU\",\"HOU\",\"HOU\",\"HOU\",\"HOU\",\"HOU\",\"HOU\",\"HOU\",\"HOU\",\"HOU\",\"HOU\",\"HOU\",\"HOU\",\"HOU\",\"HOU\",\"HOU\",\"HOU\",\"HOU\",\"HOU\",\"HOU\",\"HOU\",\"HOU\",\"HOU\",\"HOU\",\"HOU\",\"HOU\",\"HOU\",\"HOU\",\"HOU\",\"HOU\",\"HOU\",\"HOU\",\"HOU\",\"HOU\",\"HOU\",\"HOU\",\"HOU\",\"HOU\",\"HOU\",\"HOU\",\"HOU\",\"HOU\",\"HOU\",\"HOU\",\"HOU\",\"HOU\",\"HOU\",\"HOU\",\"HOU\",\"HOU\",\"HOU\",\"HOU\",\"HOU\",\"HOU\",\"HOU\",\"HOU\",\"HOU\",\"HOU\",\"HOU\",\"HOU\",\"HOU\",\"HOU\",\"HOU\",\"HOU\",\"HOU\",\"HOU\",\"HOU\",\"HOU\",\"HOU\",\"HOU\",\"HOU\",\"HOU\",\"HOU\",\"HOU\",\"HOU\",\"HOU\",\"HOU\",\"HOU\",\"HOU\",\"HOU\",\"HOU\",\"HOU\",\"HOU\",\"HOU\",\"HOU\",\"HOU\",\"HOU\",\"HOU\",\"HOU\",\"HOU\",\"HOU\",\"HOU\",\"HOU\",\"HOU\",\"HOU\",\"HOU\",\"HOU\",\"HOU\",\"HOU\",\"HOU\",\"HOU\",\"HOU\",\"HOU\",\"HOU\",\"HOU\",\"HOU\",\"HOU\",\"HOU\",\"HOU\",\"HOU\",\"HOU\",\"HOU\",\"HOU\",\"HOU\",\"HOU\",\"HOU\",\"HOU\",\"HOU\",\"HOU\",\"HOU\",\"HOU\",\"HOU\",\"HOU\",\"HOU\",\"HOU\",\"HOU\",\"HOU\",\"HOU\",\"HOU\",\"HOU\",\"HOU\",\"HOU\",\"HOU\",\"HOU\",\"HOU\",\"HOU\",\"HOU\",\"HOU\",\"HOU\",\"HOU\",\"HOU\",\"HOU\",\"HOU\",\"HOU\",\"HOU\",\"HOU\",\"HOU\",\"HOU\",\"HOU\",\"HOU\",\"HOU\",\"HOU\",\"HOU\",\"HOU\",\"HOU\",\"HOU\",\"HOU\",\"HOU\",\"HOU\",\"HOU\",\"HOU\",\"HOU\",\"HOU\",\"HOU\",\"HOU\",\"HOU\",\"HOU\",\"HOU\",\"HOU\",\"HOU\",\"HOU\",\"HOU\",\"HOU\",\"HOU\",\"HOU\",\"HOU\",\"HOU\",\"HOU\",\"HOU\",\"HOU\",\"HOU\",\"HOU\",\"HOU\",\"HOU\",\"HOU\",\"HOU\",\"HOU\",\"HOU\",\"HOU\",\"HOU\",\"HOU\",\"HOU\",\"HOU\",\"HOU\",\"HOU\",\"HOU\",\"HOU\",\"HOU\",\"HOU\",\"HOU\",\"HOU\",\"HOU\",\"HOU\",\"HOU\",\"HOU\",\"HOU\",\"HOU\",\"HOU\",\"HOU\",\"HOU\",\"HOU\",\"HOU\",\"HOU\",\"HOU\",\"HOU\",\"HOU\",\"HOU\",\"HOU\",\"HOU\",\"HOU\",\"HOU\",\"HOU\",\"HOU\",\"HOU\",\"HOU\",\"HOU\",\"HOU\",\"HOU\",\"HOU\",\"HOU\",\"HOU\",\"HOU\",\"HOU\",\"HOU\",\"HOU\",\"HOU\",\"HOU\",\"HOU\",\"HOU\",\"HOU\",\"HOU\",\"HOU\",\"HOU\",\"HOU\",\"HOU\",\"HOU\",\"HOU\",\"HOU\",\"HOU\",\"HOU\",\"HOU\",\"HOU\",\"HOU\",\"HOU\",\"HOU\",\"HOU\",\"HOU\",\"HOU\",\"HOU\",\"HOU\",\"HOU\",\"HOU\",\"HOU\",\"HOU\",\"HOU\",\"HOU\",\"HOU\",\"HOU\",\"HOU\",\"HOU\",\"HOU\",\"HOU\",\"HOU\",\"HOU\",\"HOU\",\"HOU\",\"HOU\",\"HOU\",\"HOU\",\"HOU\",\"HOU\",\"HOU\",\"HOU\",\"HOU\",\"HOU\",\"HOU\",\"HOU\",\"HOU\",\"HOU\",\"HOU\",\"HOU\",\"HOU\",\"HOU\",\"HOU\",\"HOU\",\"HOU\",\"HOU\",\"HOU\",\"HOU\",\"HOU\",\"HOU\",\"HOU\",\"HOU\",\"HOU\",\"HOU\",\"HOU\",\"HOU\",\"HOU\",\"HOU\",\"HOU\",\"HOU\",\"HOU\",\"HOU\",\"HOU\",\"HOU\",\"HOU\",\"HOU\",\"HOU\",\"HOU\",\"HOU\",\"HOU\",\"HOU\",\"HOU\",\"HOU\",\"HOU\",\"HOU\",\"HOU\",\"HOU\",\"HOU\",\"HOU\",\"HOU\",\"HOU\",\"HOU\",\"HOU\",\"HOU\",\"HOU\",\"HOU\",\"HOU\",\"HOU\",\"HOU\",\"HOU\",\"HOU\",\"HOU\",\"HOU\",\"HOU\",\"HOU\",\"HOU\",\"HOU\",\"HOU\",\"HOU\",\"HOU\",\"HOU\",\"HOU\",\"HOU\",\"HOU\",\"HOU\",\"HOU\",\"HOU\",\"HOU\",\"HOU\",\"HOU\",\"HOU\"]},\"selected\":{\"id\":\"1652\",\"type\":\"Selection\"},\"selection_policy\":{\"id\":\"1653\",\"type\":\"UnionRenderers\"}},\"id\":\"1581\",\"type\":\"ColumnDataSource\"},{\"attributes\":{\"days\":[1,15]},\"id\":\"1633\",\"type\":\"DaysTicker\"},{\"attributes\":{},\"id\":\"1701\",\"type\":\"UnionRenderers\"},{\"attributes\":{\"axis_label\":\"Date\",\"formatter\":{\"id\":\"1626\",\"type\":\"DatetimeTickFormatter\"},\"ticker\":{\"id\":\"1595\",\"type\":\"DatetimeTicker\"}},\"id\":\"1594\",\"type\":\"DatetimeAxis\"},{\"attributes\":{\"callback\":null,\"data\":{\"gameWon\":[0,1,1,1,2,2,2,2,3,3,3,3,3,3,3,4,4,5,5,5,6,6,7,7,8,8,8,8,8,9,9,10,10,10,10,11,11,12,13,13,14,14,15,15,15,16,16,16,17,17,17,18,18,18,18,19,19,20,21,21,21,21,22,22,22,22,22,22,22,22,22,23,23,23,23,23,23,23,23,24,24,25,25,26,26,26,26,26,27,28,28,29,29,30,30,30,30,30,30,30,30,30,30,30,30,30,30,31,31,32,32,33,33,33,33,33,33,33,33,34,34,35,35,35,35,35,36,36,37,37,37,37,38,39,39,39,39,39,40,40,41,41,41,41,41,42,42,42,42,43,43,44,44,44,45,45,45,45,45,45,46,46,47,0,1,1,1,2,2,3,3,4,4,4,4,4,4,5,5,6,6,7,7,8,8,8,8,8,8,8,8,9,9,9,9,10,10,11,11,11,11,12,12,12,12,13,13,13,13,13,13,14,14,14,14,15,15,16,17,17,18,18,19,19,20,20,21,22,22,23,23,24,24,24,25,25,25,25,25,25,25,25,26,26,26,26,26,26,26,26,27,27,27,27,28,29,29,29,29,29,29,30,30,30,30,31,31,31,31,31,32,33,33,34,34,35,35,35,35,36,36,36,36,37,38,38,39,39,40,40,41,41,41,41,41,42,42,43,43,44,44,44,44,44,44,44,44,45,45,45,45,46,46,46,47,47,48,48,48,48,49,49,49,50,50,51,0,1,1,1,2,3,3,3,4,4,4,5,5,5,5,5,6,6,7,8,8,8,8,8,9,9,10,10,11,12,13,13,14,14,15,15,16,16,17,17,18,18,19,19,19,20,21,21,21,21,22,22,22,22,23,23,23,23,24,24,24,25,25,25,26,26,26,27,27,28,28,29,29,29,29,30,31,31,31,32,32,33,33,34,34,35,35,36,36,36,36,36,36,37,37,37,38,39,39,39,40,40,41,41,42,42,42,42,42,42,42,42,42,43,43,43,43,44,44,44,45,45,46,46,46,47,47,48,48,49,50,50,51,51,51,52,52,53,53,54,54,55,56,56,57,58,58,58,59,60,60,60,61,61,62,62,63,63,63,63,63,64,64,65,65,66,66,67,1,1,1,2,3,3,4,4,5,5,6,7,7,8,8,9,10,10,11,11,11,12,12,13,14,14,15,15,16,16,16,17,18,18,19,19,20,20,20,21,22,22,23,23,23,24,24,24,24,24,25,25,26,26,26,26,26,27,28,28,28,29,29,29,30,30,31,31,32,33,33,33,34,35,35,36,36,36,37,37,37,37,38,38,39,39,40,40,41,41,42,42,42,43,44,44,44,45,45,45,46,46,46,47,48,48,48,48,49,49,50,50,51,52,52,53,53,53,54,54,55,55,55,55,56,56,57,57,58,59,59,60,60,61,61,62,62,62,63,63,64,64,65,65,66,66,67,68,68,68,68,69,69,69,69,70,70,71,72,72,72,73,0,0,0,1,1,2,2,3,3,4,4,4,4,5,5,6,7,7,7,8,8,8,9,9,11,11,12,12,13,14,15,15,16,16,16,16,17,17,18,18,19,20,20,20,21,21,22,22,23,23,24,24,24,25,25,26,27,27,27,27,28,28,29,29,29,30,30,31,31,31,31,32,32,33,33,34,34,34,34,35,35,36,36,37,37,38,38,38,39,39,39,40,41,41,41,42,43,43,43,43,43,43,44,44,45,46,46,46,46,47,47,48,48,49,49,50,50,50,50,50,50,51,52,52,52,52,52,52,52,52,53,53,54,54,55,55,56,57,57,57,58,58,59,59,60,61,61,62,62,63,63,64,65,65,65,66,66,66,66,67,0,0,0,1,1,1,2,2,3,3,4,4,4,5,5,5,6,6,7,7,8,8,9,9,9,10,10,11,11,11,11,11,12,13,13,13,13,14,15,15,15,15,16,16,17,17,18,19,19,20,20,21,21,21,22,22,22,23,23,23,23,24,24,25,25,26,26,27,27,28,28,28,29,29,29,29,30,31,31,32,32,33,33,33,33,34,35,35,36,36,37,37,37,37,37,37,38,38,39,39,40,40,40,40,40,40,41,41,41,41,41,41,42,42,43,43,44,44,44,44,45,45,46,46,47,47,48,48,49,49,49,49,50,50,51,51,51,51,51,51,52,52,52,53,53,53,53,53,53,54,54,54,54,54,54,54,54,55,56,57,57,57,57,57,58,58,58,58],\"index\":[9,39,69,99,129,159,189,219,249,279,309,339,369,399,429,459,489,519,549,579,609,639,669,699,729,759,789,819,849,879,909,939,969,999,1029,1059,1089,1119,1149,1179,1209,1239,1269,1299,1329,1359,1389,1419,1449,1479,1509,1539,1569,1599,1629,1659,1689,1719,1749,1779,1809,1839,1869,1899,1929,1959,1989,2019,2049,2079,2109,2139,2169,2199,2229,2259,2289,2319,2349,2379,2409,2439,2469,2499,2529,2559,2589,2619,2649,2679,2709,2739,2769,2799,2829,2859,2889,2919,2949,2979,3009,3039,3069,3099,3129,3159,3189,3219,3249,3279,3309,3339,3369,3399,3429,3459,3489,3519,3549,3579,3609,3639,3669,3699,3729,3759,3789,3819,3849,3879,3909,3939,3969,3999,4029,4059,4089,4119,4149,4179,4209,4239,4269,4299,4329,4359,4389,4419,4449,4479,4509,4539,4569,4599,4629,4659,4689,4719,4749,4779,4809,4839,4869,4899,4929,4959,4989,5019,5049,5079,5109,5139,5169,5199,5229,5259,5289,5319,5349,5379,5409,5439,5469,5499,5529,5559,5589,5619,5649,5679,5709,5739,5769,5799,5829,5859,5889,5919,5949,5979,6009,6039,6069,6099,6129,6159,6189,6219,6249,6279,6309,6339,6369,6399,6429,6459,6489,6519,6549,6579,6609,6639,6669,6699,6729,6759,6789,6819,6849,6879,6909,6939,6969,6999,7029,7059,7089,7119,7149,7179,7209,7239,7269,7299,7329,7359,7389,7419,7449,7479,7509,7539,7569,7599,7629,7659,7689,7719,7749,7779,7809,7839,7869,7899,7929,7959,7989,8019,8049,8079,8109,8139,8169,8199,8229,8259,8289,8319,8349,8379,8409,8439,8469,8499,8529,8559,8589,8619,8649,8679,8709,8739,8769,8799,8829,8859,8889,8919,8949,8979,9009,9039,9069,9099,9129,9159,9189,9219,9249,9279,9309,9339,9369,9399,9429,9459,9489,9519,9549,9579,9609,9639,9669,9699,9729,9759,9789,9819,9849,9879,9909,9939,9969,9999,10029,10059,10089,10119,10149,10179,10209,10239,10269,10299,10329,10359,10389,10419,10449,10479,10509,10539,10569,10599,10629,10659,10689,10719,10749,10779,10809,10839,10869,10899,10929,10959,10989,11019,11049,11079,11109,11139,11169,11199,11229,11259,11289,11319,11349,11379,11409,11439,11469,11499,11529,11559,11589,11619,11649,11679,11709,11739,11769,11799,11829,11859,11889,11919,11949,11979,12009,12039,12069,12099,12129,12159,12189,12219,12249,12279,12309,12339,12369,12399,12429,12459,12489,12519,12549,12579,12609,12639,12669,12699,12729,12759,12789,12819,12849,12879,12909,12939,12969,12999,13029,13059,13089,13119,13149,13179,13209,13239,13269,13299,13329,13359,13389,13419,13449,13479,13509,13539,13569,13599,13629,13659,13689,13719,13749,13779,13809,13839,13869,13899,13929,13959,13989,14019,14049,14079,14109,14139,14169,14199,14229,14259,14289,14319,14349,14379,14409,14439,14469,14499,14529,14559,14589,14619,14649,14679,14709,14739,14769,14799,14829,14859,14889,14919,14949,14979,15009,15039,15069,15099,15129,15159,15189,15219,15249,15279,15309,15339,15369,15399,15429,15459,15489,15519,15549,15579,15609,15639,15669,15699,15729,15759,15789,15819,15849,15879,15909,15939,15969,15999,16029,16059,16089,16119,16149,16179,16209,16239,16269,16299,16329,16359,16389,16419,16449,16479,16509,16539,16569,16599,16629,16659,16689,16719,16749,16779,16809,16839,16869,16899,16929,16959,16989,17019,17049,17079,17109,17139,17169,17199,17229,17259,17289,17319,17349,17379,17409,17439,17469,17499,17529,17559,17589,17619,17649,17679,17709,17739,17769,17799,17829,17859,17889,17919,17949,17979,18009,18039,18069,18099,18129,18159,18189,18219,18249,18279,18309,18339,18369,18399,18429,18459,18489,18519,18549,18579,18609,18639,18669,18699,18729,18759,18789,18819,18849,18879,18909,18939,18969,18999,19029,19059,19089,19119,19149,19179,19209,19239,19269,19299,19329,19359,19389,19419,19449,19479,19509,19539,19569,19599,19629,19659,19689,19719,19749,19779,19809,19839,19869,19899,19929,19959,19989,20019,20049,20079,20109,20139,20169,20199,20229,20259,20289,20319,20349,20379,20409,20439,20469,20499,20529,20559,20589,20619,20649,20679,20709,20739,20769,20799,20829,20859,20889,20919,20949,20979,21009,21039,21069,21099,21129,21159,21189,21219,21249,21279,21309,21339,21369,21399,21429,21459,21489,21519,21549,21579,21609,21639,21669,21699,21729,21759,21789,21819,21849,21879,21909,21939,21969,21999,22029,22059,22089,22119,22149,22179,22209,22239,22269,22299,22329,22359,22389,22419,22449,22479,22509,22539,22569,22599,22629,22659,22689,22719,22749,22779,22809,22839,22869,22899,22929,22959,22989,23019,23049,23079,23109,23139,23169,23199,23229,23259,23289,23319,23349,23379,23409,23439,23469,23499,23529,23559,23589,23619,23649,23679,23709,23739,23769,23799,23829,23859,23889,23919,23949,23979,24009,24039,24069,24099,24129,24159,24189,24219,24249,24279,24309,24339,24369,24399,24429,24459,24489,24519,24549,24579,24609,24639,24669,24699,24729,24759,24789,24819,24849,24879,24909,24939,24969,24999,25029,25059,25089,25119,25149,25179,25209,25239,25269,25299,25329,25359,25389,25419,25449,25479,25509,25539,25569,25599,25629,25659,25689,25719,25749,25779,25809,25839,25869,25899,25929,25959,25989,26019,26049,26079,26109,26139,26169,26199,26229,26259,26289,26319,26349,26379,26409,26439,26469,26499,26529,26559,26589,26619,26649,26679,26709,26739,26769,26799,26829,26859,26889,26919,26949,26979,27009,27039,27069,27099,27129,27159,27189,27219,27249,27279,27309,27339,27369,27399,27429,27459,27489,27519,27549,27579,27609,27639,27669,27699,27729,27759,27789,27819,27849,27879,27909,27939,27969,27999,28029,28059,28089,28119,28149,28179,28209,28239,28269,28299,28329,28359,28389,28419,28449,28479,28509,28539,28569,28599,28629,28659,28689,28719,28749,28779,28809,28839,28869,28899,28929,28959,28989,29019,29049,29079,29109,29139,29169,29199,29229,29259,29289,29319,29349,29379,29409,29439,29469,29499],\"stDate\":[\"2012-10-30\",\"2012-10-31\",\"2012-11-01\",\"2012-11-02\",\"2012-11-03\",\"2012-11-04\",\"2012-11-05\",\"2012-11-06\",\"2012-11-07\",\"2012-11-08\",\"2012-11-09\",\"2012-11-10\",\"2012-11-11\",\"2012-11-12\",\"2012-11-13\",\"2012-11-14\",\"2012-11-15\",\"2012-11-16\",\"2012-11-17\",\"2012-11-18\",\"2012-11-19\",\"2012-11-20\",\"2012-11-21\",\"2012-11-23\",\"2012-11-24\",\"2012-11-25\",\"2012-11-26\",\"2012-11-27\",\"2012-11-28\",\"2012-11-29\",\"2012-11-30\",\"2012-12-01\",\"2012-12-02\",\"2012-12-03\",\"2012-12-04\",\"2012-12-05\",\"2012-12-06\",\"2012-12-07\",\"2012-12-08\",\"2012-12-09\",\"2012-12-10\",\"2012-12-11\",\"2012-12-12\",\"2012-12-13\",\"2012-12-14\",\"2012-12-15\",\"2012-12-16\",\"2012-12-17\",\"2012-12-18\",\"2012-12-19\",\"2012-12-20\",\"2012-12-21\",\"2012-12-22\",\"2012-12-23\",\"2012-12-25\",\"2012-12-26\",\"2012-12-27\",\"2012-12-28\",\"2012-12-29\",\"2012-12-30\",\"2012-12-31\",\"2013-01-01\",\"2013-01-02\",\"2013-01-03\",\"2013-01-04\",\"2013-01-05\",\"2013-01-06\",\"2013-01-07\",\"2013-01-08\",\"2013-01-09\",\"2013-01-10\",\"2013-01-11\",\"2013-01-12\",\"2013-01-13\",\"2013-01-14\",\"2013-01-15\",\"2013-01-16\",\"2013-01-17\",\"2013-01-18\",\"2013-01-19\",\"2013-01-20\",\"2013-01-21\",\"2013-01-22\",\"2013-01-23\",\"2013-01-24\",\"2013-01-25\",\"2013-01-26\",\"2013-01-27\",\"2013-01-28\",\"2013-01-29\",\"2013-01-30\",\"2013-01-31\",\"2013-02-01\",\"2013-02-02\",\"2013-02-03\",\"2013-02-04\",\"2013-02-05\",\"2013-02-06\",\"2013-02-07\",\"2013-02-08\",\"2013-02-09\",\"2013-02-10\",\"2013-02-11\",\"2013-02-12\",\"2013-02-13\",\"2013-02-14\",\"2013-02-19\",\"2013-02-20\",\"2013-02-21\",\"2013-02-22\",\"2013-02-23\",\"2013-02-24\",\"2013-02-25\",\"2013-02-26\",\"2013-02-27\",\"2013-02-28\",\"2013-03-01\",\"2013-03-02\",\"2013-03-03\",\"2013-03-04\",\"2013-03-05\",\"2013-03-06\",\"2013-03-07\",\"2013-03-08\",\"2013-03-09\",\"2013-03-10\",\"2013-03-11\",\"2013-03-12\",\"2013-03-13\",\"2013-03-14\",\"2013-03-15\",\"2013-03-16\",\"2013-03-17\",\"2013-03-18\",\"2013-03-19\",\"2013-03-20\",\"2013-03-21\",\"2013-03-22\",\"2013-03-23\",\"2013-03-24\",\"2013-03-25\",\"2013-03-26\",\"2013-03-27\",\"2013-03-28\",\"2013-03-29\",\"2013-03-30\",\"2013-03-31\",\"2013-04-01\",\"2013-04-02\",\"2013-04-03\",\"2013-04-04\",\"2013-04-05\",\"2013-04-06\",\"2013-04-07\",\"2013-04-09\",\"2013-04-10\",\"2013-04-11\",\"2013-04-12\",\"2013-04-13\",\"2013-04-14\",\"2013-04-15\",\"2013-04-16\",\"2013-04-17\",\"2013-10-29\",\"2013-10-30\",\"2013-10-31\",\"2013-11-01\",\"2013-11-02\",\"2013-11-03\",\"2013-11-04\",\"2013-11-05\",\"2013-11-06\",\"2013-11-07\",\"2013-11-08\",\"2013-11-09\",\"2013-11-10\",\"2013-11-11\",\"2013-11-12\",\"2013-11-13\",\"2013-11-14\",\"2013-11-15\",\"2013-11-16\",\"2013-11-17\",\"2013-11-18\",\"2013-11-19\",\"2013-11-20\",\"2013-11-21\",\"2013-11-22\",\"2013-11-23\",\"2013-11-24\",\"2013-11-25\",\"2013-11-26\",\"2013-11-27\",\"2013-11-29\",\"2013-11-30\",\"2013-12-01\",\"2013-12-02\",\"2013-12-03\",\"2013-12-04\",\"2013-12-05\",\"2013-12-06\",\"2013-12-07\",\"2013-12-08\",\"2013-12-09\",\"2013-12-10\",\"2013-12-11\",\"2013-12-12\",\"2013-12-13\",\"2013-12-14\",\"2013-12-15\",\"2013-12-16\",\"2013-12-17\",\"2013-12-18\",\"2013-12-19\",\"2013-12-20\",\"2013-12-21\",\"2013-12-22\",\"2013-12-23\",\"2013-12-25\",\"2013-12-26\",\"2013-12-27\",\"2013-12-28\",\"2013-12-29\",\"2013-12-30\",\"2013-12-31\",\"2014-01-01\",\"2014-01-02\",\"2014-01-03\",\"2014-01-04\",\"2014-01-05\",\"2014-01-06\",\"2014-01-07\",\"2014-01-08\",\"2014-01-09\",\"2014-01-10\",\"2014-01-11\",\"2014-01-12\",\"2014-01-13\",\"2014-01-14\",\"2014-01-15\",\"2014-01-16\",\"2014-01-17\",\"2014-01-18\",\"2014-01-19\",\"2014-01-20\",\"2014-01-21\",\"2014-01-22\",\"2014-01-23\",\"2014-01-24\",\"2014-01-25\",\"2014-01-26\",\"2014-01-27\",\"2014-01-28\",\"2014-01-29\",\"2014-01-30\",\"2014-01-31\",\"2014-02-01\",\"2014-02-02\",\"2014-02-03\",\"2014-02-04\",\"2014-02-05\",\"2014-02-06\",\"2014-02-07\",\"2014-02-08\",\"2014-02-09\",\"2014-02-10\",\"2014-02-11\",\"2014-02-12\",\"2014-02-13\",\"2014-02-18\",\"2014-02-19\",\"2014-02-20\",\"2014-02-21\",\"2014-02-22\",\"2014-02-23\",\"2014-02-24\",\"2014-02-25\",\"2014-02-26\",\"2014-02-27\",\"2014-02-28\",\"2014-03-01\",\"2014-03-02\",\"2014-03-03\",\"2014-03-04\",\"2014-03-05\",\"2014-03-06\",\"2014-03-07\",\"2014-03-08\",\"2014-03-09\",\"2014-03-10\",\"2014-03-11\",\"2014-03-12\",\"2014-03-13\",\"2014-03-14\",\"2014-03-15\",\"2014-03-16\",\"2014-03-17\",\"2014-03-18\",\"2014-03-19\",\"2014-03-20\",\"2014-03-21\",\"2014-03-22\",\"2014-03-23\",\"2014-03-24\",\"2014-03-25\",\"2014-03-26\",\"2014-03-27\",\"2014-03-28\",\"2014-03-29\",\"2014-03-30\",\"2014-03-31\",\"2014-04-01\",\"2014-04-02\",\"2014-04-03\",\"2014-04-04\",\"2014-04-05\",\"2014-04-06\",\"2014-04-08\",\"2014-04-09\",\"2014-04-10\",\"2014-04-11\",\"2014-04-12\",\"2014-04-13\",\"2014-04-14\",\"2014-04-15\",\"2014-04-16\",\"2014-10-28\",\"2014-10-29\",\"2014-10-30\",\"2014-10-31\",\"2014-11-01\",\"2014-11-02\",\"2014-11-03\",\"2014-11-04\",\"2014-11-05\",\"2014-11-06\",\"2014-11-07\",\"2014-11-08\",\"2014-11-09\",\"2014-11-10\",\"2014-11-11\",\"2014-11-12\",\"2014-11-13\",\"2014-11-14\",\"2014-11-15\",\"2014-11-16\",\"2014-11-17\",\"2014-11-18\",\"2014-11-19\",\"2014-11-20\",\"2014-11-21\",\"2014-11-22\",\"2014-11-23\",\"2014-11-24\",\"2014-11-25\",\"2014-11-26\",\"2014-11-28\",\"2014-11-29\",\"2014-11-30\",\"2014-12-01\",\"2014-12-02\",\"2014-12-03\",\"2014-12-04\",\"2014-12-05\",\"2014-12-06\",\"2014-12-07\",\"2014-12-08\",\"2014-12-09\",\"2014-12-10\",\"2014-12-11\",\"2014-12-12\",\"2014-12-13\",\"2014-12-14\",\"2014-12-15\",\"2014-12-16\",\"2014-12-17\",\"2014-12-18\",\"2014-12-19\",\"2014-12-20\",\"2014-12-21\",\"2014-12-22\",\"2014-12-23\",\"2014-12-25\",\"2014-12-26\",\"2014-12-27\",\"2014-12-28\",\"2014-12-29\",\"2014-12-30\",\"2014-12-31\",\"2015-01-01\",\"2015-01-02\",\"2015-01-03\",\"2015-01-04\",\"2015-01-05\",\"2015-01-06\",\"2015-01-07\",\"2015-01-08\",\"2015-01-09\",\"2015-01-10\",\"2015-01-11\",\"2015-01-12\",\"2015-01-13\",\"2015-01-14\",\"2015-01-15\",\"2015-01-16\",\"2015-01-17\",\"2015-01-18\",\"2015-01-19\",\"2015-01-20\",\"2015-01-21\",\"2015-01-22\",\"2015-01-23\",\"2015-01-24\",\"2015-01-25\",\"2015-01-26\",\"2015-01-27\",\"2015-01-28\",\"2015-01-29\",\"2015-01-30\",\"2015-01-31\",\"2015-02-01\",\"2015-02-02\",\"2015-02-03\",\"2015-02-04\",\"2015-02-05\",\"2015-02-06\",\"2015-02-07\",\"2015-02-08\",\"2015-02-09\",\"2015-02-10\",\"2015-02-11\",\"2015-02-12\",\"2015-02-13\",\"2015-02-14\",\"2015-02-15\",\"2015-02-16\",\"2015-02-17\",\"2015-02-18\",\"2015-02-19\",\"2015-02-20\",\"2015-02-21\",\"2015-02-22\",\"2015-02-23\",\"2015-02-24\",\"2015-02-25\",\"2015-02-26\",\"2015-02-27\",\"2015-02-28\",\"2015-03-01\",\"2015-03-02\",\"2015-03-03\",\"2015-03-04\",\"2015-03-05\",\"2015-03-06\",\"2015-03-07\",\"2015-03-08\",\"2015-03-09\",\"2015-03-10\",\"2015-03-11\",\"2015-03-12\",\"2015-03-13\",\"2015-03-14\",\"2015-03-15\",\"2015-03-16\",\"2015-03-17\",\"2015-03-18\",\"2015-03-19\",\"2015-03-20\",\"2015-03-21\",\"2015-03-22\",\"2015-03-23\",\"2015-03-24\",\"2015-03-25\",\"2015-03-26\",\"2015-03-27\",\"2015-03-28\",\"2015-03-29\",\"2015-03-30\",\"2015-03-31\",\"2015-04-01\",\"2015-04-02\",\"2015-04-03\",\"2015-04-04\",\"2015-04-05\",\"2015-04-06\",\"2015-04-07\",\"2015-04-08\",\"2015-04-09\",\"2015-04-10\",\"2015-04-11\",\"2015-04-12\",\"2015-04-13\",\"2015-04-14\",\"2015-04-15\",\"2015-10-27\",\"2015-10-28\",\"2015-10-29\",\"2015-10-30\",\"2015-10-31\",\"2015-11-01\",\"2015-11-02\",\"2015-11-03\",\"2015-11-04\",\"2015-11-05\",\"2015-11-06\",\"2015-11-07\",\"2015-11-08\",\"2015-11-09\",\"2015-11-10\",\"2015-11-11\",\"2015-11-12\",\"2015-11-13\",\"2015-11-14\",\"2015-11-15\",\"2015-11-16\",\"2015-11-17\",\"2015-11-18\",\"2015-11-19\",\"2015-11-20\",\"2015-11-21\",\"2015-11-22\",\"2015-11-23\",\"2015-11-24\",\"2015-11-25\",\"2015-11-26\",\"2015-11-27\",\"2015-11-28\",\"2015-11-29\",\"2015-11-30\",\"2015-12-01\",\"2015-12-02\",\"2015-12-03\",\"2015-12-04\",\"2015-12-05\",\"2015-12-06\",\"2015-12-07\",\"2015-12-08\",\"2015-12-09\",\"2015-12-10\",\"2015-12-11\",\"2015-12-12\",\"2015-12-13\",\"2015-12-14\",\"2015-12-15\",\"2015-12-16\",\"2015-12-17\",\"2015-12-18\",\"2015-12-19\",\"2015-12-20\",\"2015-12-21\",\"2015-12-22\",\"2015-12-23\",\"2015-12-25\",\"2015-12-26\",\"2015-12-27\",\"2015-12-28\",\"2015-12-29\",\"2015-12-30\",\"2015-12-31\",\"2016-01-01\",\"2016-01-02\",\"2016-01-03\",\"2016-01-04\",\"2016-01-05\",\"2016-01-06\",\"2016-01-07\",\"2016-01-08\",\"2016-01-09\",\"2016-01-10\",\"2016-01-11\",\"2016-01-12\",\"2016-01-13\",\"2016-01-14\",\"2016-01-15\",\"2016-01-16\",\"2016-01-17\",\"2016-01-18\",\"2016-01-19\",\"2016-01-20\",\"2016-01-21\",\"2016-01-23\",\"2016-01-24\",\"2016-01-25\",\"2016-01-26\",\"2016-01-27\",\"2016-01-28\",\"2016-01-29\",\"2016-01-30\",\"2016-01-31\",\"2016-02-01\",\"2016-02-02\",\"2016-02-03\",\"2016-02-04\",\"2016-02-05\",\"2016-02-06\",\"2016-02-07\",\"2016-02-08\",\"2016-02-09\",\"2016-02-10\",\"2016-02-11\",\"2016-02-18\",\"2016-02-19\",\"2016-02-20\",\"2016-02-21\",\"2016-02-22\",\"2016-02-23\",\"2016-02-24\",\"2016-02-25\",\"2016-02-26\",\"2016-02-27\",\"2016-02-28\",\"2016-02-29\",\"2016-03-01\",\"2016-03-02\",\"2016-03-03\",\"2016-03-04\",\"2016-03-05\",\"2016-03-06\",\"2016-03-07\",\"2016-03-08\",\"2016-03-09\",\"2016-03-10\",\"2016-03-11\",\"2016-03-12\",\"2016-03-13\",\"2016-03-14\",\"2016-03-15\",\"2016-03-16\",\"2016-03-17\",\"2016-03-18\",\"2016-03-19\",\"2016-03-20\",\"2016-03-21\",\"2016-03-22\",\"2016-03-23\",\"2016-03-24\",\"2016-03-25\",\"2016-03-26\",\"2016-03-27\",\"2016-03-28\",\"2016-03-29\",\"2016-03-30\",\"2016-03-31\",\"2016-04-01\",\"2016-04-02\",\"2016-04-03\",\"2016-04-04\",\"2016-04-05\",\"2016-04-06\",\"2016-04-07\",\"2016-04-08\",\"2016-04-09\",\"2016-04-10\",\"2016-04-11\",\"2016-04-12\",\"2016-04-13\",\"2016-10-25\",\"2016-10-26\",\"2016-10-27\",\"2016-10-28\",\"2016-10-29\",\"2016-10-30\",\"2016-10-31\",\"2016-11-01\",\"2016-11-02\",\"2016-11-03\",\"2016-11-04\",\"2016-11-05\",\"2016-11-06\",\"2016-11-07\",\"2016-11-08\",\"2016-11-09\",\"2016-11-10\",\"2016-11-11\",\"2016-11-12\",\"2016-11-13\",\"2016-11-14\",\"2016-11-15\",\"2016-11-16\",\"2016-11-17\",\"2016-11-19\",\"2016-11-20\",\"2016-11-21\",\"2016-11-22\",\"2016-11-23\",\"2016-11-25\",\"2016-11-26\",\"2016-11-27\",\"2016-11-28\",\"2016-11-29\",\"2016-12-01\",\"2016-12-02\",\"2016-12-03\",\"2016-12-04\",\"2016-12-05\",\"2016-12-06\",\"2016-12-07\",\"2016-12-08\",\"2016-12-09\",\"2016-12-10\",\"2016-12-11\",\"2016-12-12\",\"2016-12-13\",\"2016-12-14\",\"2016-12-15\",\"2016-12-16\",\"2016-12-17\",\"2016-12-18\",\"2016-12-19\",\"2016-12-20\",\"2016-12-21\",\"2016-12-22\",\"2016-12-23\",\"2016-12-25\",\"2016-12-26\",\"2016-12-27\",\"2016-12-28\",\"2016-12-29\",\"2016-12-30\",\"2016-12-31\",\"2017-01-01\",\"2017-01-02\",\"2017-01-03\",\"2017-01-04\",\"2017-01-05\",\"2017-01-06\",\"2017-01-07\",\"2017-01-08\",\"2017-01-09\",\"2017-01-10\",\"2017-01-11\",\"2017-01-12\",\"2017-01-13\",\"2017-01-14\",\"2017-01-15\",\"2017-01-16\",\"2017-01-17\",\"2017-01-18\",\"2017-01-19\",\"2017-01-20\",\"2017-01-21\",\"2017-01-22\",\"2017-01-23\",\"2017-01-24\",\"2017-01-25\",\"2017-01-26\",\"2017-01-27\",\"2017-01-28\",\"2017-01-29\",\"2017-01-30\",\"2017-01-31\",\"2017-02-01\",\"2017-02-02\",\"2017-02-03\",\"2017-02-04\",\"2017-02-05\",\"2017-02-06\",\"2017-02-07\",\"2017-02-08\",\"2017-02-09\",\"2017-02-10\",\"2017-02-11\",\"2017-02-12\",\"2017-02-13\",\"2017-02-14\",\"2017-02-15\",\"2017-02-16\",\"2017-02-23\",\"2017-02-24\",\"2017-02-25\",\"2017-02-26\",\"2017-02-27\",\"2017-02-28\",\"2017-03-01\",\"2017-03-02\",\"2017-03-03\",\"2017-03-04\",\"2017-03-05\",\"2017-03-06\",\"2017-03-07\",\"2017-03-08\",\"2017-03-09\",\"2017-03-10\",\"2017-03-11\",\"2017-03-12\",\"2017-03-13\",\"2017-03-14\",\"2017-03-15\",\"2017-03-16\",\"2017-03-17\",\"2017-03-18\",\"2017-03-19\",\"2017-03-20\",\"2017-03-21\",\"2017-03-22\",\"2017-03-23\",\"2017-03-24\",\"2017-03-25\",\"2017-03-26\",\"2017-03-27\",\"2017-03-28\",\"2017-03-29\",\"2017-03-30\",\"2017-03-31\",\"2017-04-01\",\"2017-04-02\",\"2017-04-03\",\"2017-04-04\",\"2017-04-05\",\"2017-04-06\",\"2017-04-07\",\"2017-04-08\",\"2017-04-09\",\"2017-04-10\",\"2017-04-11\",\"2017-04-12\",\"2017-10-17\",\"2017-10-18\",\"2017-10-19\",\"2017-10-20\",\"2017-10-21\",\"2017-10-22\",\"2017-10-23\",\"2017-10-24\",\"2017-10-25\",\"2017-10-26\",\"2017-10-27\",\"2017-10-28\",\"2017-10-29\",\"2017-10-30\",\"2017-10-31\",\"2017-11-01\",\"2017-11-02\",\"2017-11-03\",\"2017-11-04\",\"2017-11-05\",\"2017-11-06\",\"2017-11-07\",\"2017-11-08\",\"2017-11-09\",\"2017-11-10\",\"2017-11-11\",\"2017-11-12\",\"2017-11-13\",\"2017-11-14\",\"2017-11-15\",\"2017-11-16\",\"2017-11-17\",\"2017-11-18\",\"2017-11-19\",\"2017-11-20\",\"2017-11-21\",\"2017-11-22\",\"2017-11-24\",\"2017-11-25\",\"2017-11-26\",\"2017-11-27\",\"2017-11-28\",\"2017-11-29\",\"2017-11-30\",\"2017-12-01\",\"2017-12-02\",\"2017-12-03\",\"2017-12-04\",\"2017-12-05\",\"2017-12-06\",\"2017-12-07\",\"2017-12-08\",\"2017-12-09\",\"2017-12-10\",\"2017-12-11\",\"2017-12-12\",\"2017-12-13\",\"2017-12-14\",\"2017-12-15\",\"2017-12-16\",\"2017-12-17\",\"2017-12-18\",\"2017-12-19\",\"2017-12-20\",\"2017-12-21\",\"2017-12-22\",\"2017-12-23\",\"2017-12-25\",\"2017-12-26\",\"2017-12-27\",\"2017-12-28\",\"2017-12-29\",\"2017-12-30\",\"2017-12-31\",\"2018-01-01\",\"2018-01-02\",\"2018-01-03\",\"2018-01-04\",\"2018-01-05\",\"2018-01-06\",\"2018-01-07\",\"2018-01-08\",\"2018-01-09\",\"2018-01-10\",\"2018-01-11\",\"2018-01-12\",\"2018-01-13\",\"2018-01-14\",\"2018-01-15\",\"2018-01-16\",\"2018-01-17\",\"2018-01-18\",\"2018-01-19\",\"2018-01-20\",\"2018-01-21\",\"2018-01-22\",\"2018-01-23\",\"2018-01-24\",\"2018-01-25\",\"2018-01-26\",\"2018-01-27\",\"2018-01-28\",\"2018-01-29\",\"2018-01-30\",\"2018-01-31\",\"2018-02-01\",\"2018-02-02\",\"2018-02-03\",\"2018-02-04\",\"2018-02-05\",\"2018-02-06\",\"2018-02-07\",\"2018-02-08\",\"2018-02-09\",\"2018-02-10\",\"2018-02-11\",\"2018-02-12\",\"2018-02-13\",\"2018-02-14\",\"2018-02-15\",\"2018-02-22\",\"2018-02-23\",\"2018-02-24\",\"2018-02-25\",\"2018-02-26\",\"2018-02-27\",\"2018-02-28\",\"2018-03-01\",\"2018-03-02\",\"2018-03-03\",\"2018-03-04\",\"2018-03-05\",\"2018-03-06\",\"2018-03-07\",\"2018-03-08\",\"2018-03-09\",\"2018-03-10\",\"2018-03-11\",\"2018-03-12\",\"2018-03-13\",\"2018-03-14\",\"2018-03-15\",\"2018-03-16\",\"2018-03-17\",\"2018-03-18\",\"2018-03-19\",\"2018-03-20\",\"2018-03-21\",\"2018-03-22\",\"2018-03-23\",\"2018-03-24\",\"2018-03-25\",\"2018-03-26\",\"2018-03-27\",\"2018-03-28\",\"2018-03-29\",\"2018-03-30\",\"2018-03-31\",\"2018-04-01\",\"2018-04-03\",\"2018-04-04\",\"2018-04-05\",\"2018-04-06\",\"2018-04-07\",\"2018-04-08\",\"2018-04-09\",\"2018-04-10\",\"2018-04-11\"],\"teamAbbr\":[\"GS\",\"GS\",\"GS\",\"GS\",\"GS\",\"GS\",\"GS\",\"GS\",\"GS\",\"GS\",\"GS\",\"GS\",\"GS\",\"GS\",\"GS\",\"GS\",\"GS\",\"GS\",\"GS\",\"GS\",\"GS\",\"GS\",\"GS\",\"GS\",\"GS\",\"GS\",\"GS\",\"GS\",\"GS\",\"GS\",\"GS\",\"GS\",\"GS\",\"GS\",\"GS\",\"GS\",\"GS\",\"GS\",\"GS\",\"GS\",\"GS\",\"GS\",\"GS\",\"GS\",\"GS\",\"GS\",\"GS\",\"GS\",\"GS\",\"GS\",\"GS\",\"GS\",\"GS\",\"GS\",\"GS\",\"GS\",\"GS\",\"GS\",\"GS\",\"GS\",\"GS\",\"GS\",\"GS\",\"GS\",\"GS\",\"GS\",\"GS\",\"GS\",\"GS\",\"GS\",\"GS\",\"GS\",\"GS\",\"GS\",\"GS\",\"GS\",\"GS\",\"GS\",\"GS\",\"GS\",\"GS\",\"GS\",\"GS\",\"GS\",\"GS\",\"GS\",\"GS\",\"GS\",\"GS\",\"GS\",\"GS\",\"GS\",\"GS\",\"GS\",\"GS\",\"GS\",\"GS\",\"GS\",\"GS\",\"GS\",\"GS\",\"GS\",\"GS\",\"GS\",\"GS\",\"GS\",\"GS\",\"GS\",\"GS\",\"GS\",\"GS\",\"GS\",\"GS\",\"GS\",\"GS\",\"GS\",\"GS\",\"GS\",\"GS\",\"GS\",\"GS\",\"GS\",\"GS\",\"GS\",\"GS\",\"GS\",\"GS\",\"GS\",\"GS\",\"GS\",\"GS\",\"GS\",\"GS\",\"GS\",\"GS\",\"GS\",\"GS\",\"GS\",\"GS\",\"GS\",\"GS\",\"GS\",\"GS\",\"GS\",\"GS\",\"GS\",\"GS\",\"GS\",\"GS\",\"GS\",\"GS\",\"GS\",\"GS\",\"GS\",\"GS\",\"GS\",\"GS\",\"GS\",\"GS\",\"GS\",\"GS\",\"GS\",\"GS\",\"GS\",\"GS\",\"GS\",\"GS\",\"GS\",\"GS\",\"GS\",\"GS\",\"GS\",\"GS\",\"GS\",\"GS\",\"GS\",\"GS\",\"GS\",\"GS\",\"GS\",\"GS\",\"GS\",\"GS\",\"GS\",\"GS\",\"GS\",\"GS\",\"GS\",\"GS\",\"GS\",\"GS\",\"GS\",\"GS\",\"GS\",\"GS\",\"GS\",\"GS\",\"GS\",\"GS\",\"GS\",\"GS\",\"GS\",\"GS\",\"GS\",\"GS\",\"GS\",\"GS\",\"GS\",\"GS\",\"GS\",\"GS\",\"GS\",\"GS\",\"GS\",\"GS\",\"GS\",\"GS\",\"GS\",\"GS\",\"GS\",\"GS\",\"GS\",\"GS\",\"GS\",\"GS\",\"GS\",\"GS\",\"GS\",\"GS\",\"GS\",\"GS\",\"GS\",\"GS\",\"GS\",\"GS\",\"GS\",\"GS\",\"GS\",\"GS\",\"GS\",\"GS\",\"GS\",\"GS\",\"GS\",\"GS\",\"GS\",\"GS\",\"GS\",\"GS\",\"GS\",\"GS\",\"GS\",\"GS\",\"GS\",\"GS\",\"GS\",\"GS\",\"GS\",\"GS\",\"GS\",\"GS\",\"GS\",\"GS\",\"GS\",\"GS\",\"GS\",\"GS\",\"GS\",\"GS\",\"GS\",\"GS\",\"GS\",\"GS\",\"GS\",\"GS\",\"GS\",\"GS\",\"GS\",\"GS\",\"GS\",\"GS\",\"GS\",\"GS\",\"GS\",\"GS\",\"GS\",\"GS\",\"GS\",\"GS\",\"GS\",\"GS\",\"GS\",\"GS\",\"GS\",\"GS\",\"GS\",\"GS\",\"GS\",\"GS\",\"GS\",\"GS\",\"GS\",\"GS\",\"GS\",\"GS\",\"GS\",\"GS\",\"GS\",\"GS\",\"GS\",\"GS\",\"GS\",\"GS\",\"GS\",\"GS\",\"GS\",\"GS\",\"GS\",\"GS\",\"GS\",\"GS\",\"GS\",\"GS\",\"GS\",\"GS\",\"GS\",\"GS\",\"GS\",\"GS\",\"GS\",\"GS\",\"GS\",\"GS\",\"GS\",\"GS\",\"GS\",\"GS\",\"GS\",\"GS\",\"GS\",\"GS\",\"GS\",\"GS\",\"GS\",\"GS\",\"GS\",\"GS\",\"GS\",\"GS\",\"GS\",\"GS\",\"GS\",\"GS\",\"GS\",\"GS\",\"GS\",\"GS\",\"GS\",\"GS\",\"GS\",\"GS\",\"GS\",\"GS\",\"GS\",\"GS\",\"GS\",\"GS\",\"GS\",\"GS\",\"GS\",\"GS\",\"GS\",\"GS\",\"GS\",\"GS\",\"GS\",\"GS\",\"GS\",\"GS\",\"GS\",\"GS\",\"GS\",\"GS\",\"GS\",\"GS\",\"GS\",\"GS\",\"GS\",\"GS\",\"GS\",\"GS\",\"GS\",\"GS\",\"GS\",\"GS\",\"GS\",\"GS\",\"GS\",\"GS\",\"GS\",\"GS\",\"GS\",\"GS\",\"GS\",\"GS\",\"GS\",\"GS\",\"GS\",\"GS\",\"GS\",\"GS\",\"GS\",\"GS\",\"GS\",\"GS\",\"GS\",\"GS\",\"GS\",\"GS\",\"GS\",\"GS\",\"GS\",\"GS\",\"GS\",\"GS\",\"GS\",\"GS\",\"GS\",\"GS\",\"GS\",\"GS\",\"GS\",\"GS\",\"GS\",\"GS\",\"GS\",\"GS\",\"GS\",\"GS\",\"GS\",\"GS\",\"GS\",\"GS\",\"GS\",\"GS\",\"GS\",\"GS\",\"GS\",\"GS\",\"GS\",\"GS\",\"GS\",\"GS\",\"GS\",\"GS\",\"GS\",\"GS\",\"GS\",\"GS\",\"GS\",\"GS\",\"GS\",\"GS\",\"GS\",\"GS\",\"GS\",\"GS\",\"GS\",\"GS\",\"GS\",\"GS\",\"GS\",\"GS\",\"GS\",\"GS\",\"GS\",\"GS\",\"GS\",\"GS\",\"GS\",\"GS\",\"GS\",\"GS\",\"GS\",\"GS\",\"GS\",\"GS\",\"GS\",\"GS\",\"GS\",\"GS\",\"GS\",\"GS\",\"GS\",\"GS\",\"GS\",\"GS\",\"GS\",\"GS\",\"GS\",\"GS\",\"GS\",\"GS\",\"GS\",\"GS\",\"GS\",\"GS\",\"GS\",\"GS\",\"GS\",\"GS\",\"GS\",\"GS\",\"GS\",\"GS\",\"GS\",\"GS\",\"GS\",\"GS\",\"GS\",\"GS\",\"GS\",\"GS\",\"GS\",\"GS\",\"GS\",\"GS\",\"GS\",\"GS\",\"GS\",\"GS\",\"GS\",\"GS\",\"GS\",\"GS\",\"GS\",\"GS\",\"GS\",\"GS\",\"GS\",\"GS\",\"GS\",\"GS\",\"GS\",\"GS\",\"GS\",\"GS\",\"GS\",\"GS\",\"GS\",\"GS\",\"GS\",\"GS\",\"GS\",\"GS\",\"GS\",\"GS\",\"GS\",\"GS\",\"GS\",\"GS\",\"GS\",\"GS\",\"GS\",\"GS\",\"GS\",\"GS\",\"GS\",\"GS\",\"GS\",\"GS\",\"GS\",\"GS\",\"GS\",\"GS\",\"GS\",\"GS\",\"GS\",\"GS\",\"GS\",\"GS\",\"GS\",\"GS\",\"GS\",\"GS\",\"GS\",\"GS\",\"GS\",\"GS\",\"GS\",\"GS\",\"GS\",\"GS\",\"GS\",\"GS\",\"GS\",\"GS\",\"GS\",\"GS\",\"GS\",\"GS\",\"GS\",\"GS\",\"GS\",\"GS\",\"GS\",\"GS\",\"GS\",\"GS\",\"GS\",\"GS\",\"GS\",\"GS\",\"GS\",\"GS\",\"GS\",\"GS\",\"GS\",\"GS\",\"GS\",\"GS\",\"GS\",\"GS\",\"GS\",\"GS\",\"GS\",\"GS\",\"GS\",\"GS\",\"GS\",\"GS\",\"GS\",\"GS\",\"GS\",\"GS\",\"GS\",\"GS\",\"GS\",\"GS\",\"GS\",\"GS\",\"GS\",\"GS\",\"GS\",\"GS\",\"GS\",\"GS\",\"GS\",\"GS\",\"GS\",\"GS\",\"GS\",\"GS\",\"GS\",\"GS\",\"GS\",\"GS\",\"GS\",\"GS\",\"GS\",\"GS\",\"GS\",\"GS\",\"GS\",\"GS\",\"GS\",\"GS\",\"GS\",\"GS\",\"GS\",\"GS\",\"GS\",\"GS\",\"GS\",\"GS\",\"GS\",\"GS\",\"GS\",\"GS\",\"GS\",\"GS\",\"GS\",\"GS\",\"GS\",\"GS\",\"GS\",\"GS\",\"GS\",\"GS\",\"GS\",\"GS\",\"GS\",\"GS\",\"GS\",\"GS\",\"GS\",\"GS\",\"GS\",\"GS\",\"GS\",\"GS\",\"GS\",\"GS\",\"GS\",\"GS\",\"GS\",\"GS\",\"GS\",\"GS\",\"GS\",\"GS\",\"GS\",\"GS\",\"GS\",\"GS\",\"GS\",\"GS\",\"GS\",\"GS\",\"GS\",\"GS\",\"GS\",\"GS\",\"GS\",\"GS\",\"GS\",\"GS\",\"GS\",\"GS\",\"GS\",\"GS\",\"GS\",\"GS\",\"GS\",\"GS\",\"GS\",\"GS\",\"GS\",\"GS\",\"GS\",\"GS\",\"GS\",\"GS\",\"GS\",\"GS\",\"GS\",\"GS\",\"GS\",\"GS\",\"GS\",\"GS\",\"GS\",\"GS\",\"GS\",\"GS\",\"GS\",\"GS\",\"GS\",\"GS\",\"GS\",\"GS\",\"GS\",\"GS\",\"GS\",\"GS\",\"GS\",\"GS\",\"GS\",\"GS\",\"GS\",\"GS\",\"GS\",\"GS\",\"GS\",\"GS\",\"GS\",\"GS\",\"GS\",\"GS\",\"GS\",\"GS\",\"GS\",\"GS\",\"GS\",\"GS\",\"GS\",\"GS\",\"GS\",\"GS\",\"GS\",\"GS\",\"GS\",\"GS\",\"GS\",\"GS\",\"GS\",\"GS\",\"GS\",\"GS\",\"GS\",\"GS\",\"GS\",\"GS\",\"GS\",\"GS\",\"GS\",\"GS\",\"GS\",\"GS\",\"GS\",\"GS\",\"GS\",\"GS\",\"GS\",\"GS\",\"GS\",\"GS\",\"GS\",\"GS\",\"GS\",\"GS\",\"GS\",\"GS\",\"GS\",\"GS\",\"GS\",\"GS\",\"GS\",\"GS\",\"GS\",\"GS\",\"GS\",\"GS\",\"GS\",\"GS\",\"GS\",\"GS\",\"GS\",\"GS\",\"GS\",\"GS\",\"GS\",\"GS\",\"GS\",\"GS\",\"GS\",\"GS\",\"GS\",\"GS\",\"GS\",\"GS\",\"GS\",\"GS\",\"GS\",\"GS\",\"GS\",\"GS\",\"GS\",\"GS\",\"GS\",\"GS\",\"GS\",\"GS\",\"GS\",\"GS\",\"GS\",\"GS\",\"GS\",\"GS\",\"GS\",\"GS\",\"GS\",\"GS\",\"GS\",\"GS\",\"GS\",\"GS\",\"GS\",\"GS\",\"GS\",\"GS\",\"GS\",\"GS\",\"GS\",\"GS\",\"GS\",\"GS\",\"GS\",\"GS\",\"GS\",\"GS\",\"GS\",\"GS\",\"GS\",\"GS\",\"GS\",\"GS\",\"GS\",\"GS\",\"GS\",\"GS\",\"GS\",\"GS\",\"GS\",\"GS\",\"GS\",\"GS\",\"GS\",\"GS\",\"GS\",\"GS\",\"GS\",\"GS\",\"GS\",\"GS\",\"GS\",\"GS\",\"GS\",\"GS\",\"GS\",\"GS\",\"GS\",\"GS\",\"GS\",\"GS\",\"GS\",\"GS\",\"GS\",\"GS\",\"GS\",\"GS\",\"GS\",\"GS\",\"GS\",\"GS\",\"GS\",\"GS\",\"GS\",\"GS\",\"GS\",\"GS\",\"GS\",\"GS\",\"GS\",\"GS\",\"GS\",\"GS\",\"GS\",\"GS\",\"GS\",\"GS\",\"GS\",\"GS\",\"GS\",\"GS\",\"GS\",\"GS\",\"GS\",\"GS\",\"GS\",\"GS\",\"GS\",\"GS\",\"GS\",\"GS\",\"GS\",\"GS\",\"GS\",\"GS\",\"GS\",\"GS\",\"GS\",\"GS\",\"GS\",\"GS\",\"GS\",\"GS\",\"GS\",\"GS\",\"GS\",\"GS\",\"GS\",\"GS\",\"GS\"]},\"selected\":{\"id\":\"1700\",\"type\":\"Selection\"},\"selection_policy\":{\"id\":\"1701\",\"type\":\"UnionRenderers\"}},\"id\":\"1582\",\"type\":\"ColumnDataSource\"},{\"attributes\":{\"months\":[0,1,2,3,4,5,6,7,8,9,10,11]},\"id\":\"1634\",\"type\":\"MonthsTicker\"},{\"attributes\":{},\"id\":\"1609\",\"type\":\"HelpTool\"},{\"attributes\":{\"months\":[0,2,4,6,8,10]},\"id\":\"1635\",\"type\":\"MonthsTicker\"},{\"attributes\":{\"callback\":null},\"id\":\"1588\",\"type\":\"DataRange1d\"},{\"attributes\":{\"line_alpha\":{\"value\":0.1},\"line_color\":{\"value\":\"#1f77b4\"},\"x\":{\"field\":\"stDate\"},\"y\":{\"field\":\"gameWon\"}},\"id\":\"1644\",\"type\":\"Step\"},{\"attributes\":{},\"id\":\"1600\",\"type\":\"BasicTicker\"},{\"attributes\":{\"months\":[0,4,8]},\"id\":\"1636\",\"type\":\"MonthsTicker\"},{\"attributes\":{},\"id\":\"1590\",\"type\":\"LinearScale\"},{\"attributes\":{\"source\":{\"id\":\"1581\",\"type\":\"ColumnDataSource\"}},\"id\":\"1621\",\"type\":\"CDSView\"},{\"attributes\":{\"axis_label\":\"Wins\",\"formatter\":{\"id\":\"1624\",\"type\":\"BasicTickFormatter\"},\"ticker\":{\"id\":\"1600\",\"type\":\"BasicTicker\"}},\"id\":\"1599\",\"type\":\"LinearAxis\"},{\"attributes\":{\"months\":[0,6]},\"id\":\"1637\",\"type\":\"MonthsTicker\"},{\"attributes\":{\"ticker\":{\"id\":\"1595\",\"type\":\"DatetimeTicker\"}},\"id\":\"1598\",\"type\":\"Grid\"},{\"attributes\":{},\"id\":\"1638\",\"type\":\"YearsTicker\"},{\"attributes\":{\"bottom_units\":\"screen\",\"fill_alpha\":{\"value\":0.5},\"fill_color\":{\"value\":\"lightgrey\"},\"left_units\":\"screen\",\"level\":\"overlay\",\"line_alpha\":{\"value\":1.0},\"line_color\":{\"value\":\"black\"},\"line_dash\":[4,4],\"line_width\":{\"value\":2},\"render_mode\":\"css\",\"right_units\":\"screen\",\"top_units\":\"screen\"},\"id\":\"1639\",\"type\":\"BoxAnnotation\"},{\"attributes\":{\"text\":\"Western Conference Top 2 Teams Wins Race, 2017-18\"},\"id\":\"1584\",\"type\":\"Title\"},{\"attributes\":{\"days\":[1,4,7,10,13,16,19,22,25,28]},\"id\":\"1631\",\"type\":\"DaysTicker\"},{\"attributes\":{},\"id\":\"1624\",\"type\":\"BasicTickFormatter\"},{\"attributes\":{\"active_drag\":\"auto\",\"active_inspect\":\"auto\",\"active_multi\":null,\"active_scroll\":\"auto\",\"active_tap\":\"auto\",\"tools\":[{\"id\":\"1604\",\"type\":\"PanTool\"},{\"id\":\"1605\",\"type\":\"WheelZoomTool\"},{\"id\":\"1606\",\"type\":\"BoxZoomTool\"},{\"id\":\"1607\",\"type\":\"SaveTool\"},{\"id\":\"1608\",\"type\":\"ResetTool\"},{\"id\":\"1609\",\"type\":\"HelpTool\"}]},\"id\":\"1610\",\"type\":\"Toolbar\"},{\"attributes\":{\"items\":[{\"id\":\"1641\",\"type\":\"LegendItem\"},{\"id\":\"1667\",\"type\":\"LegendItem\"}],\"location\":\"top_left\"},\"id\":\"1640\",\"type\":\"Legend\"},{\"attributes\":{\"mantissas\":[1,2,5],\"max_interval\":500.0,\"num_minor_ticks\":0},\"id\":\"1627\",\"type\":\"AdaptiveTicker\"},{\"attributes\":{\"label\":{\"value\":\"Rockets\"},\"renderers\":[{\"id\":\"1620\",\"type\":\"GlyphRenderer\"}]},\"id\":\"1641\",\"type\":\"LegendItem\"},{\"attributes\":{\"callback\":null},\"id\":\"1586\",\"type\":\"DataRange1d\"},{\"attributes\":{},\"id\":\"1626\",\"type\":\"DatetimeTickFormatter\"},{\"attributes\":{\"line_color\":{\"value\":\"red\"},\"x\":{\"field\":\"stDate\"},\"y\":{\"field\":\"gameWon\"}},\"id\":\"1618\",\"type\":\"Step\"}],\"root_ids\":[\"1583\"]},\"title\":\"Bokeh Application\",\"version\":\"1.4.0\"}};\n",
       "  var render_items = [{\"docid\":\"9bf05c64-f889-4ea5-abef-52ed1d8eaf6f\",\"roots\":{\"1583\":\"3f77c3c0-c6cd-4d15-8c66-13f51bd40fa8\"}}];\n",
       "  root.Bokeh.embed.embed_items_notebook(docs_json, render_items);\n",
       "\n",
       "  }\n",
       "  if (root.Bokeh !== undefined) {\n",
       "    embed_document(root);\n",
       "  } else {\n",
       "    var attempts = 0;\n",
       "    var timer = setInterval(function(root) {\n",
       "      if (root.Bokeh !== undefined) {\n",
       "        clearInterval(timer);\n",
       "        embed_document(root);\n",
       "      } else {\n",
       "        attempts++;\n",
       "        if (attempts > 100) {\n",
       "          clearInterval(timer);\n",
       "          console.log(\"Bokeh: ERROR: Unable to run BokehJS code because BokehJS library is missing\");\n",
       "        }\n",
       "      }\n",
       "    }, 10, root)\n",
       "  }\n",
       "})(window);"
      ],
      "application/vnd.bokehjs_exec.v0+json": ""
     },
     "metadata": {
      "application/vnd.bokehjs_exec.v0+json": {
       "id": "1583"
      }
     },
     "output_type": "display_data"
    }
   ],
   "source": [
    "'''A step-line plot'''\n",
    "\n",
    "fig.step('stDate', 'gameWon', \n",
    "         color='red', legend='Rockets', \n",
    "         source=rockets_cds)\n",
    "fig.step('stDate', 'gameWon', \n",
    "         color='blue', legend='Warriors', \n",
    "         source=warriors_cds)\n",
    "\n",
    "'''Legend on the upper left corner'''\n",
    "\n",
    "fig.legend.location = 'top_left'\n",
    "show(fig)"
   ]
  },
  {
   "cell_type": "markdown",
   "metadata": {},
   "source": [
    "# Creating behaviours: select data points"
   ]
  },
  {
   "cell_type": "code",
   "execution_count": 22,
   "metadata": {},
   "outputs": [
    {
     "name": "stderr",
     "output_type": "stream",
     "text": [
      "/anaconda3/lib/python3.7/site-packages/ipykernel_launcher.py:10: SettingWithCopyWarning: \n",
      "A value is trying to be set on a copy of a slice from a DataFrame.\n",
      "Try using .loc[row_indexer,col_indexer] = value instead\n",
      "\n",
      "See the caveats in the documentation: https://pandas.pydata.org/pandas-docs/stable/user_guide/indexing.html#returning-a-view-versus-a-copy\n",
      "  # Remove the CWD from sys.path while we load stuff.\n"
     ]
    }
   ],
   "source": [
    "'''Data selection'''\n",
    "\n",
    "'''Find players who took at least 1 three-point shot during the entire season'''\n",
    "\n",
    "three_takers = player_stats[player_stats['play3PA'] > 0]\n",
    "\n",
    "'''Clean up the player names, placing them in a single column'''\n",
    "\n",
    "three_takers['name'] = [f'{p[\"playFNm\"]} {p[\"playLNm\"]}' \n",
    "                        for _, p in three_takers.iterrows()]\n",
    "\n",
    "'''Aggregate the total three-point attempts and makes for each player'''\n",
    "\n",
    "three_takers = (three_takers.groupby('name')\n",
    "                            .sum()\n",
    "                            .loc[:,['play3PA', 'play3PM']]\n",
    "                            .sort_values('play3PA', ascending=False))\n",
    "\n",
    "'''Filter out anyone who didn't take at least 100 three-point shots'''\n",
    "\n",
    "three_takers = three_takers[three_takers['play3PA'] >= 100].reset_index()\n",
    "\n",
    "'''Add a column with a calculated three-point percentage (made/attempted)'''\n",
    "\n",
    "three_takers['pct3PM'] = three_takers['play3PM'] / three_takers['play3PA']"
   ]
  },
  {
   "cell_type": "code",
   "execution_count": 23,
   "metadata": {},
   "outputs": [
    {
     "data": {
      "text/html": [
       "\n",
       "\n",
       "\n",
       "\n",
       "\n",
       "\n",
       "  <div class=\"bk-root\" id=\"23382439-dd53-4afa-86b7-7c10686c8f93\" data-root-id=\"2135\"></div>\n"
      ]
     },
     "metadata": {},
     "output_type": "display_data"
    },
    {
     "data": {
      "application/javascript": [
       "(function(root) {\n",
       "  function embed_document(root) {\n",
       "    \n",
       "  var docs_json = {\"a90de001-b41b-49fd-aa26-a2353280d6d3\":{\"roots\":{\"references\":[{\"attributes\":{\"below\":[{\"id\":\"2146\",\"type\":\"LinearAxis\"}],\"center\":[{\"id\":\"2150\",\"type\":\"Grid\"},{\"id\":\"2155\",\"type\":\"Grid\"}],\"left\":[{\"id\":\"2151\",\"type\":\"LinearAxis\"}],\"plot_height\":400,\"renderers\":[{\"id\":\"2173\",\"type\":\"GlyphRenderer\"}],\"title\":{\"id\":\"2136\",\"type\":\"Title\"},\"toolbar\":{\"id\":\"2161\",\"type\":\"Toolbar\"},\"toolbar_location\":\"below\",\"x_range\":{\"id\":\"2138\",\"type\":\"DataRange1d\"},\"x_scale\":{\"id\":\"2142\",\"type\":\"LinearScale\"},\"y_range\":{\"id\":\"2140\",\"type\":\"DataRange1d\"},\"y_scale\":{\"id\":\"2144\",\"type\":\"LinearScale\"}},\"id\":\"2135\",\"subtype\":\"Figure\",\"type\":\"Plot\"},{\"attributes\":{},\"id\":\"2160\",\"type\":\"ResetTool\"},{\"attributes\":{\"callback\":null,\"overlay\":{\"id\":\"2228\",\"type\":\"BoxAnnotation\"}},\"id\":\"2156\",\"type\":\"BoxSelectTool\"},{\"attributes\":{\"active_drag\":\"auto\",\"active_inspect\":\"auto\",\"active_multi\":null,\"active_scroll\":\"auto\",\"active_tap\":\"auto\",\"tools\":[{\"id\":\"2156\",\"type\":\"BoxSelectTool\"},{\"id\":\"2157\",\"type\":\"LassoSelectTool\"},{\"id\":\"2158\",\"type\":\"PolySelectTool\"},{\"id\":\"2159\",\"type\":\"TapTool\"},{\"id\":\"2160\",\"type\":\"ResetTool\"}]},\"id\":\"2161\",\"type\":\"Toolbar\"},{\"attributes\":{\"ticker\":{\"id\":\"2147\",\"type\":\"BasicTicker\"}},\"id\":\"2150\",\"type\":\"Grid\"},{\"attributes\":{\"axis_label\":\"Three-Point Shots Attempted\",\"formatter\":{\"id\":\"2225\",\"type\":\"BasicTickFormatter\"},\"ticker\":{\"id\":\"2147\",\"type\":\"BasicTicker\"}},\"id\":\"2146\",\"type\":\"LinearAxis\"},{\"attributes\":{\"fill_alpha\":{\"value\":0.3},\"fill_color\":{\"value\":\"lightgray\"},\"line_alpha\":{\"value\":0.3},\"line_color\":{\"value\":\"lightgray\"},\"x\":{\"field\":\"play3PA\"},\"y\":{\"field\":\"pct3PM\"}},\"id\":\"2171\",\"type\":\"Square\"},{\"attributes\":{\"fill_color\":{\"value\":\"deepskyblue\"},\"line_color\":{\"value\":\"deepskyblue\"},\"x\":{\"field\":\"play3PA\"},\"y\":{\"field\":\"pct3PM\"}},\"id\":\"2172\",\"type\":\"Square\"},{\"attributes\":{\"data_source\":{\"id\":\"2134\",\"type\":\"ColumnDataSource\"},\"glyph\":{\"id\":\"2170\",\"type\":\"Square\"},\"hover_glyph\":null,\"muted_glyph\":null,\"nonselection_glyph\":{\"id\":\"2171\",\"type\":\"Square\"},\"selection_glyph\":{\"id\":\"2172\",\"type\":\"Square\"},\"view\":{\"id\":\"2174\",\"type\":\"CDSView\"}},\"id\":\"2173\",\"type\":\"GlyphRenderer\"},{\"attributes\":{},\"id\":\"2152\",\"type\":\"BasicTicker\"},{\"attributes\":{\"callback\":null},\"id\":\"2140\",\"type\":\"DataRange1d\"},{\"attributes\":{\"dimension\":1,\"ticker\":{\"id\":\"2152\",\"type\":\"BasicTicker\"}},\"id\":\"2155\",\"type\":\"Grid\"},{\"attributes\":{\"fill_color\":{\"value\":\"royalblue\"},\"line_color\":{\"value\":\"royalblue\"},\"x\":{\"field\":\"play3PA\"},\"y\":{\"field\":\"pct3PM\"}},\"id\":\"2170\",\"type\":\"Square\"},{\"attributes\":{},\"id\":\"2225\",\"type\":\"BasicTickFormatter\"},{\"attributes\":{\"axis_label\":\"Percentage Made\",\"formatter\":{\"id\":\"2167\",\"type\":\"NumeralTickFormatter\"},\"ticker\":{\"id\":\"2152\",\"type\":\"BasicTicker\"}},\"id\":\"2151\",\"type\":\"LinearAxis\"},{\"attributes\":{\"callback\":null,\"data\":{\"index\":[0,1,2,3,4,5,6,7,8,9,10,11,12,13,14,15,16,17,18,19,20,21,22,23,24,25,26,27,28,29,30,31,32,33,34,35,36,37,38,39,40,41,42,43,44,45,46,47,48,49,50,51,52,53,54,55,56,57,58,59,60,61,62,63,64,65,66,67,68,69,70,71,72,73,74,75,76,77,78,79,80,81,82,83,84,85,86,87,88,89,90,91,92,93,94,95,96,97,98,99,100,101,102,103,104,105,106,107,108,109,110,111,112,113,114,115,116,117,118,119,120,121,122,123,124,125,126,127,128,129,130,131,132,133,134,135,136,137,138,139,140,141,142,143,144,145,146,147,148,149,150,151,152,153,154,155,156,157,158,159,160,161,162,163,164,165,166,167,168,169,170,171,172,173,174,175,176,177,178,179,180,181,182,183,184,185,186,187,188,189,190,191,192,193,194,195,196,197,198,199,200,201,202,203,204,205,206,207,208,209,210,211,212,213,214,215,216,217,218,219,220,221,222,223,224,225,226,227,228,229,230,231,232,233,234,235,236,237,238,239,240,241,242,243,244,245,246,247,248,249,250,251,252,253,254,255,256,257,258,259,260,261,262,263,264,265,266,267,268,269,270,271,272,273,274,275,276,277,278,279,280,281,282,283,284,285,286,287,288,289,290,291,292,293,294,295,296,297,298,299,300,301,302,303,304,305,306,307,308,309,310,311,312,313,314,315,316,317,318,319,320,321,322,323,324,325,326,327,328,329,330,331,332,333,334,335,336,337,338,339,340,341,342,343,344,345,346,347,348,349,350,351,352,353,354,355,356,357,358,359,360,361,362,363,364,365,366,367,368,369,370,371,372,373,374,375,376,377,378,379,380,381,382,383,384,385,386,387,388,389,390,391,392,393,394,395,396,397,398,399,400,401,402,403,404,405,406,407,408,409,410,411,412,413,414,415,416,417,418,419,420,421,422,423,424,425,426,427,428,429,430,431,432,433,434,435,436,437,438,439,440,441,442,443,444,445,446,447,448,449,450,451,452,453,454,455,456,457,458,459,460,461,462,463],\"name\":[\"Wardell Curry\",\"James Harden\",\"Damian Lillard\",\"Klay Thompson\",\"Wesley Matthews\",\"Kyle Lowry\",\"Trevor Ariza\",\"Paul George\",\"Kemba Walker\",\"Earl Smith\",\"Jonathan Redick\",\"Kyle Korver\",\"Isaiah Thomas\",\"Eric Gordon\",\"Ryan Anderson\",\"Calvin Miles\",\"Nicolas Batum\",\"Carmelo Anthony\",\"Bradley Beal\",\"Kevin Durant\",\"Jamal Crawford\",\"Danny Green\",\"Louis Williams\",\"Kevin Love\",\"Kyrie Irving\",\"Russell Westbrook\",\"LeBron James\",\"Robert Covington\",\"Joe Johnson\",\"Kentavious Caldwell-Pope\",\"Terrence Ross\",\"Chris Paul\",\"Wayne Ellington\",\"Nick Young\",\"Gerald Green\",\"Patrick Mills\",\"Marco Belinelli\",\"Marvin Williams\",\"Marcus Morris\",\"Timothy Hardaway\",\"Jae Crowder\",\"Randy Foye\",\"Dirk Nowitzki\",\"Gordon Hayward\",\"Vincent Carter\",\"Goran Dragi\\u0107\",\"Matt Barnes\",\"Christian McCollum\",\"Evan Fournier\",\"Brandon Jennings\",\"Avery Bradley\",\"George Hill\",\"Chandler Parsons\",\"Jameer Nelson\",\"Kehinde Oladipo\",\"Anthony Tolliver\",\"D.J. Augustin\",\"Khris Middleton\",\"Brandon Knight\",\"DeMarre Carroll\",\"Tobias Harris\",\"Deron Williams\",\"Channing Frye\",\"Mirza Teletovi\\u0107\",\"Wilson Chandler\",\"Ersan Ilyasova\",\"Jeff Green\",\"Jeff Teague\",\"Jose Barea\",\"Nikola Miroti\\u0107\",\"Bojan Bogdanovi\\u0107\",\"Jrue Holiday\",\"Emanuel Gin\\u00f3bili\",\"Danilo Gallinari\",\"Draymond Green\",\"Courtney Lee\",\"John Wall\",\"Arron Afflalo\",\"Patrick Beverley\",\"Dion Waiters\",\"Harrison Barnes\",\"Jodie Meeks\",\"Jason Terry\",\"Eric Bledsoe\",\"Wesley Johnson\",\"Patrick Patterson\",\"Reggie Jackson\",\"Paul Pierce\",\"Kawhi Leonard\",\"Rodney Hood\",\"Monta Ellis\",\"Anthony Tucker\",\"Allen Crabbe\",\"Jose Calderon\",\"Jared Dudley\",\"Corey Brewer\",\"Ben McLemore\",\"Jimmy Butler\",\"Marcus Thornton\",\"William Barton\",\"Austin Rivers\",\"Devin Harris\",\"Alfonso Burke\",\"Joseph Ingles\",\"Tony Snell\",\"Kent Bazemore\",\"Rudy Gay\",\"Andre Iguodala\",\"Serge Ibaka\",\"Mike Dunleavy\",\"Mario Chalmers\",\"Jordan Clarkson\",\"Marcus Smart\",\"Al-Farouq Aminu\",\"Darren Collison\",\"Troy Daniels\",\"Devin Booker\",\"Raymond Felton\",\"Kobe Bryant\",\"Luol Deng\",\"Paul Millsap\",\"Gary Harris\",\"Otto Porter\",\"Jeremy Lin\",\"Aaron Brooks\",\"D'Angelo Russell\",\"O.J. Mayo\",\"E'Twaun Moore\",\"Kevin Martin\",\"Dennis Schr\\u00f6der\",\"Iman Shumpert\",\"Markieff Morris\",\"Kelly Olynyk\",\"Jeremy Lamb\",\"DeMar DeRozan\",\"Greivis Vasquez\",\"Justin Holiday\",\"Isaiah Canaan\",\"Tyreke Evans\",\"Keith Thompson\",\"Andrew Wiggins\",\"Ricky Rubio\",\"Nikolas Stauskas\",\"Langston Galloway\",\"Zachary LaVine\",\"Mike Conley\",\"Jerryd Bayless\",\"DeMarcus Cousins\",\"Garrett Temple\",\"Anthony Morrow\",\"Lance Stephenson\",\"Richard Jefferson\",\"Ty Lawson\",\"Luke Babbitt\",\"Matthew Dellavedova\",\"Joshua Smith\",\"Francis Kaminsky\",\"Maurice Williams\",\"Kyle Singler\",\"Alan Anderson\",\"Thabo Sefolosha\",\"Caron Butler\",\"Aaron Gordon\",\"Chavano Hield\",\"Kristaps Porzi\\u0146\\u0123is\",\"Maurice Harkless\",\"Jamal Murray\",\"Al Horford\",\"Evan Turner\",\"Spencer Hawes\",\"Steve Blake\",\"Thaddeus Young\",\"Martell Webster\",\"Shelvin Mack\",\"Dario Saric\",\"Brook Lopez\",\"Douglas McDermott\",\"Jarrett Jack\",\"Charlie Villanueva\",\"Derrick Williams\",\"Gary Neal\",\"Jonas Jerebko\",\"Tyler Johnson\",\"Charles Watson\",\"Chris Bosh\",\"Rajon Rondo\",\"Omri Casspi\",\"Josh Richardson\",\"Dorell Wright\",\"Joe Harris\",\"James Johnson\",\"Gerald Henderson\",\"Michael Conley\",\"Kirk Hinrich\",\"Karl-Anthony Towns\",\"Ray Allen\",\"Jordan Crawford\",\"Kelly Oubre\",\"Marc Gasol\",\"Marreese Speights\",\"Nate Robinson\",\"Brian Roberts\",\"Spencer Dinwiddie\",\"Terry Rozier\",\"Mario Hezonja\",\"Alec Burks\",\"Solomon Hill\",\"Stanley Johnson\",\"Meyers Leonard\",\"Giannis Antetokounmpo\",\"Metta World Peace\",\"Toney Douglas\",\"Luc Richard Mbah a Moute\",\"Mike Scott\",\"Mike Miller\",\"Sean Kilpatrick\",\"Denzel Valentine\",\"Norris Cole\",\"Taurean Prince\",\"Derrick Rose\",\"Emmanuel Mudiay\",\"Rodney Stuckey\",\"Donovan Mitchell\",\"Blake Griffin\",\"Trey Lyles\",\"Dante Cunningham\",\"Steve Novak\",\"Michael Carter-Williams\",\"Cory Joseph\",\"Kevin Ferrell\",\"Pablo Prigioni\",\"Shabazz Napier\",\"Alexey Shved\",\"Houston Grant\",\"Reginald Bullock\",\"Shane Battier\",\"Jared Sullinger\",\"Boris Diaw\",\"Quincy Acy\",\"Ian Clark\",\"Nikola Joki\\u0107\",\"Dwyane Wade\",\"James Anderson\",\"Darius Miller\",\"Ramon Sessions\",\"Ishmael Smith\",\"Nemanja Bjelica\",\"Joshua McRoberts\",\"Alejandro Abrines\",\"John Salmons\",\"Quincy Pondexter\",\"James Jones\",\"Darrell Arthur\",\"Norman Powell\",\"James Ennis\",\"Jaylen Brown\",\"Kyle Kuzma\",\"Seth Curry\",\"Anthony Davis\",\"Dante Exum\",\"Chase Budinger\",\"Caris LeVert\",\"D\\u0101vis Bert\\u0101ns\",\"Dragan Bender\",\"Chris Copeland\",\"Holdyn Grant\",\"Carlos Delfino\",\"Andr\\u00e9 Roberson\",\"Benjamin Gordon\",\"Francisco Garcia\",\"Marquese Chriss\",\"Willie Green\",\"Samuel Hairston\",\"Ronald Price\",\"Donatas Motiej\\u016bnas\",\"Lauri Markkanen\",\"Tony Parker\",\"Leandro Barbosa\",\"Shabazz Muhammad\",\"Luke Ridnour\",\"Matt Bonner\",\"Justin Anderson\",\"Alonzo Gee\",\"Elfrid Payton\",\"Bobby Portis\",\"Michael Beasley\",\"Tony Wroten\",\"Pau Gasol\",\"Jon Leuer\",\"Jonathon Simmons\",\"Malcolm Brogdon\",\"DeShane Larkin\",\"Brandon Rush\",\"Kendall Marshall\",\"Rasual Butler\",\"Pero Antic\",\"Michael Muscala\",\"Lance Thomas\",\"Dennis Smith\",\"Christopher Johnson\",\"Jordan Hamilton\",\"Cartier Martin\",\"Zach Randolph\",\"Bogdan Bogdanovic\",\"Jason Kidd\",\"Ryan Kelly\",\"JaMychal Green\",\"Timoth\\u00e9 Luwawu-Cabarrot\",\"Beno Udrih\",\"Joel Embiid\",\"Terrence Jones\",\"Jordan Farmar\",\"Jabari Parker\",\"Derek Fisher\",\"Shawne Williams\",\"Nikola Vu\\u010devi\\u0107\",\"Andrew Harrison\",\"LaMarcus Aldridge\",\"Byron Mullens\",\"Lonzo Ball\",\"Brandon Ingram\",\"Donald Sloan\",\"Fred VanVleet\",\"Jimmer Fredette\",\"Cameron Payne\",\"Myles Turner\",\"Andrea Bargnani\",\"Damjan Rude\\u017e\",\"Justise Winslow\",\"Shawn Marion\",\"Bryn Forbes\",\"A.J. Price\",\"Anthony Warren\",\"Antawn Jamison\",\"Andrew Nicholson\",\"Amir Johnson\",\"Rashad Vaughn\",\"Rashard Lewis\",\"John Lucas\",\"Dillon Brooks\",\"Patrick Connaughton\",\"Jason Richardson\",\"John Jenkins\",\"Dorian Finney-Smith\",\"Jeffery Taylor\",\"Tyus Jones\",\"Rodney McGruder\",\"Luis Scola\",\"Tayshaun Prince\",\"Sergio Rodriguez\",\"Keith Bogans\",\"Tim Frazier\",\"Samuel Dekker\",\"Trevor Booker\",\"Malik Monk\",\"Jayson Tatum\",\"K.J. McDaniels\",\"Raul Neto\",\"Earl Clark\",\"Malcolm Delaney\",\"Milos Teodosic\",\"Gerald Wallace\",\"Tyler Ulis\",\"Justin Hamilton\",\"Danny Granger\",\"Sasha Vujacic\",\"Joshua Jackson\",\"Glenn Robinson\",\"Hidayet Turkoglu\",\"Ray McCallum\",\"DeShawn Stevenson\",\"Paul Zipser\",\"Sebastian Telfair\",\"Tyler Ennis\",\"Tony Allen\",\"Timothy McConnell\",\"Kris Dunn\",\"Roger Mason\",\"Austin Daye\",\"Patrick McCaw\",\"JaKarr Sampson\",\"Tyler Dorsey\",\"Jannero Pargo\",\"Delon Wright\",\"Ogugua Anunoby\",\"Josh Hart\",\"Domantas Sabonis\",\"Luke Kennard\",\"Archie Goodwin\",\"Demarious Brown\",\"Phil Pressey\",\"Dwight Powell\",\"Justin Jackson\",\"Stephen Jackson\",\"Thon Maker\",\"Kris Humphries\",\"Jason Smith\",\"Joffrey Lauvergne\",\"Mindaugas Kuzminskas\",\"Travis Outlaw\",\"Isaiah Whitehead\",\"James Scott\",\"Daniel Gibson\",\"Juan Hernang\\u00f3mez\",\"Frank Ntilikina\",\"Steve Nash\",\"De'Aaron Fox\",\"Richaun Holmes\",\"Orlando Johnson\",\"Wayne Selden\",\"Shannon Brown\",\"William Bynum\",\"Elliot Williams\",\"Noah Vonleh\",\"Kyle Anderson\",\"Julius Randle\",\"Chris Douglas-Roberts\",\"Dewayne Dedmon\",\"Jamaal Tinsley\",\"Robert Hummel\",\"Pascal Siakam\",\"Tom\\u00e1\\u0161 Satoransk\\u00fd\",\"Chauncey Billups\",\"Konstantinos Papanikolaou\",\"James Young\",\"Darius Morris\",\"Anthony Bennett\",\"Nando De Colo\",\"Joseph Young\",\"Rondae Hollis-Jefferson\",\"Eric Maynor\",\"William Walker\",\"Mike James\",\"Gorgui Dieng\",\"Quinn Cook\",\"Al Harrington\",\"Maximilian Kleber\",\"Andre Miller\",\"Doron Lamb\",\"Jarell Martin\",\"Andrei Kirilenko\",\"Josh Huestis\",\"Jesusemilore Ojeleye\",\"Perry Jones\",\"Drew Gooden\",\"Terrance Ferguson\",\"Ron Baker\",\"DeAndre Liggins\",\"Royce O'Neale\",\"Victor Claver\",\"Quincy Miller\",\"Zach Collins\",\"Treveon Graham\",\"MarShon Brooks\",\"Diante Garrett\",\"Sergey Karasev\",\"Malik Beasley\",\"Enes Kanter\",\"Reggie Williams\",\"Nick Calathes\",\"Elijah Millsap\",\"Kyle O'Quinn\",\"Darrun Hilliard\",\"Troy Williams\"],\"pct3PM\":{\"__ndarray__\":\"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\",\"dtype\":\"float64\",\"shape\":[464]},\"play3PA\":[4038,3658,3444,3420,2788,2778,2718,2660,2631,2504,2442,2387,2330,2308,2283,2235,2232,2212,2192,2189,2187,2167,2158,2147,2109,2052,1930,1901,1853,1848,1819,1804,1783,1767,1754,1720,1718,1703,1694,1680,1649,1648,1648,1641,1632,1628,1617,1609,1599,1570,1565,1558,1557,1544,1539,1536,1483,1475,1475,1472,1470,1468,1464,1460,1455,1448,1446,1434,1398,1394,1371,1354,1349,1340,1339,1338,1335,1331,1331,1326,1319,1314,1304,1288,1288,1283,1278,1270,1260,1258,1237,1225,1217,1213,1210,1206,1201,1192,1189,1165,1160,1158,1157,1155,1153,1139,1123,1122,1121,1119,1115,1113,1093,1092,1082,1079,1078,1074,1073,1063,1053,1049,1047,1046,1039,1030,1014,1007,995,986,985,979,970,969,968,958,952,945,944,942,942,935,933,924,915,914,914,906,902,901,867,867,866,863,856,837,830,829,826,824,817,816,797,787,785,779,779,777,767,753,751,745,743,743,741,737,724,723,709,700,696,692,691,687,683,679,678,676,671,666,665,661,659,654,649,641,640,636,633,631,615,610,609,609,603,600,595,593,592,592,588,581,579,578,578,578,578,564,559,558,556,554,550,550,549,545,542,539,537,536,535,534,529,528,526,526,519,510,509,503,503,501,497,492,490,485,485,475,468,456,452,452,449,447,443,441,435,434,431,431,430,428,425,423,422,422,421,420,418,417,414,408,404,403,403,400,395,393,388,383,380,379,376,372,371,370,363,361,361,353,352,349,347,346,346,344,341,340,339,339,336,330,330,329,324,323,321,319,317,312,312,311,310,309,307,299,298,298,297,295,292,291,290,290,288,287,286,284,283,281,281,279,279,274,270,266,265,265,265,264,264,263,261,258,257,255,255,254,253,252,251,249,247,244,243,242,242,240,240,233,232,230,225,223,222,219,217,216,213,212,209,209,208,208,208,207,207,206,205,203,200,200,198,197,197,197,196,195,191,190,188,185,185,184,178,174,172,172,168,167,166,163,163,161,157,154,153,152,152,150,150,147,147,146,145,145,143,142,142,140,139,138,138,138,137,137,137,135,135,135,133,131,130,130,130,130,128,127,127,126,125,125,124,124,124,120,118,118,118,116,113,113,112,112,111,110,110,108,105,105,104,103,102,100],\"play3PM\":[1757,1327,1269,1446,1059,1066,995,1010,954,949,1032,1079,838,875,869,838,776,810,862,871,766,850,762,794,816,649,699,681,697,638,674,683,681,663,633,673,633,635,609,578,563,603,643,599,605,592,550,656,607,542,573,601,594,536,544,600,560,577,520,537,525,536,563,541,511,535,475,518,492,498,519,479,485,491,438,523,451,498,501,451,484,490,494,446,433,477,415,465,488,464,374,436,483,529,467,332,422,406,423,397,412,392,392,480,438,410,381,378,411,450,382,378,321,372,435,435,393,352,322,349,354,389,423,369,392,355,377,389,397,315,338,330,360,326,292,343,333,332,324,363,311,302,326,334,342,337,341,311,325,365,269,333,297,348,331,244,288,297,299,278,296,312,247,324,283,257,280,289,234,277,280,239,295,244,263,249,292,240,234,214,248,263,257,257,239,227,258,255,245,267,199,227,254,238,251,255,218,205,221,229,230,217,192,216,200,213,197,175,221,168,193,206,198,194,239,194,216,186,209,156,177,173,187,182,197,185,228,135,179,202,203,193,162,159,212,209,141,174,181,174,184,139,159,194,152,146,180,162,178,170,165,179,161,145,159,167,159,188,133,132,144,144,163,146,154,132,158,108,156,146,128,154,119,121,121,145,147,142,123,123,156,114,118,111,128,129,84,147,121,117,140,117,128,128,132,108,129,139,106,104,120,123,89,129,114,102,113,103,105,102,93,125,109,118,106,91,90,92,99,90,96,96,119,115,98,99,86,106,88,93,106,91,79,92,87,91,84,97,91,94,96,88,95,76,82,87,88,91,93,92,87,78,70,74,83,105,70,93,80,72,88,66,63,68,75,76,57,83,83,71,76,70,70,66,58,69,64,83,77,60,50,72,72,71,73,78,64,81,45,56,48,54,57,47,59,53,60,49,54,55,51,66,56,60,50,65,47,39,47,56,42,44,46,43,49,37,52,50,40,48,30,56,47,41,38,43,36,49,40,32,46,45,49,43,57,42,40,37,50,43,36,39,40,37,38,40,34,43,42,34,33,35,49,47,39,31,37,32,31,30,29,23,31,29]},\"selected\":{\"id\":\"2226\",\"type\":\"Selection\"},\"selection_policy\":{\"id\":\"2227\",\"type\":\"UnionRenderers\"}},\"id\":\"2134\",\"type\":\"ColumnDataSource\"},{\"attributes\":{\"callback\":null},\"id\":\"2159\",\"type\":\"TapTool\"},{\"attributes\":{},\"id\":\"2227\",\"type\":\"UnionRenderers\"},{\"attributes\":{\"bottom_units\":\"screen\",\"fill_alpha\":{\"value\":0.5},\"fill_color\":{\"value\":\"lightgrey\"},\"left_units\":\"screen\",\"level\":\"overlay\",\"line_alpha\":{\"value\":1.0},\"line_color\":{\"value\":\"black\"},\"line_dash\":[4,4],\"line_width\":{\"value\":2},\"render_mode\":\"css\",\"right_units\":\"screen\",\"top_units\":\"screen\"},\"id\":\"2228\",\"type\":\"BoxAnnotation\"},{\"attributes\":{\"text\":\"3PT Shots Attempted vs. Percentage Made (min. 100 3PA), 2017-18\"},\"id\":\"2136\",\"type\":\"Title\"},{\"attributes\":{\"format\":\"00.0%\"},\"id\":\"2167\",\"type\":\"NumeralTickFormatter\"},{\"attributes\":{\"fill_alpha\":{\"value\":0.5},\"fill_color\":{\"value\":\"lightgrey\"},\"level\":\"overlay\",\"line_alpha\":{\"value\":1.0},\"line_color\":{\"value\":\"black\"},\"line_dash\":[4,4],\"line_width\":{\"value\":2},\"xs_units\":\"screen\",\"ys_units\":\"screen\"},\"id\":\"2229\",\"type\":\"PolyAnnotation\"},{\"attributes\":{\"fill_alpha\":{\"value\":0.5},\"fill_color\":{\"value\":\"lightgrey\"},\"level\":\"overlay\",\"line_alpha\":{\"value\":1.0},\"line_color\":{\"value\":\"black\"},\"line_dash\":[4,4],\"line_width\":{\"value\":2},\"xs_units\":\"screen\",\"ys_units\":\"screen\"},\"id\":\"2230\",\"type\":\"PolyAnnotation\"},{\"attributes\":{\"callback\":null},\"id\":\"2138\",\"type\":\"DataRange1d\"},{\"attributes\":{},\"id\":\"2147\",\"type\":\"BasicTicker\"},{\"attributes\":{},\"id\":\"2144\",\"type\":\"LinearScale\"},{\"attributes\":{\"callback\":null,\"overlay\":{\"id\":\"2229\",\"type\":\"PolyAnnotation\"}},\"id\":\"2157\",\"type\":\"LassoSelectTool\"},{\"attributes\":{},\"id\":\"2226\",\"type\":\"Selection\"},{\"attributes\":{\"source\":{\"id\":\"2134\",\"type\":\"ColumnDataSource\"}},\"id\":\"2174\",\"type\":\"CDSView\"},{\"attributes\":{\"callback\":null,\"overlay\":{\"id\":\"2230\",\"type\":\"PolyAnnotation\"}},\"id\":\"2158\",\"type\":\"PolySelectTool\"},{\"attributes\":{},\"id\":\"2142\",\"type\":\"LinearScale\"}],\"root_ids\":[\"2135\"]},\"title\":\"Bokeh Application\",\"version\":\"1.4.0\"}};\n",
       "  var render_items = [{\"docid\":\"a90de001-b41b-49fd-aa26-a2353280d6d3\",\"roots\":{\"2135\":\"23382439-dd53-4afa-86b7-7c10686c8f93\"}}];\n",
       "  root.Bokeh.embed.embed_items_notebook(docs_json, render_items);\n",
       "\n",
       "  }\n",
       "  if (root.Bokeh !== undefined) {\n",
       "    embed_document(root);\n",
       "  } else {\n",
       "    var attempts = 0;\n",
       "    var timer = setInterval(function(root) {\n",
       "      if (root.Bokeh !== undefined) {\n",
       "        clearInterval(timer);\n",
       "        embed_document(root);\n",
       "      } else {\n",
       "        attempts++;\n",
       "        if (attempts > 100) {\n",
       "          clearInterval(timer);\n",
       "          console.log(\"Bokeh: ERROR: Unable to run BokehJS code because BokehJS library is missing\");\n",
       "        }\n",
       "      }\n",
       "    }, 10, root)\n",
       "  }\n",
       "})(window);"
      ],
      "application/vnd.bokehjs_exec.v0+json": ""
     },
     "metadata": {
      "application/vnd.bokehjs_exec.v0+json": {
       "id": "2135"
      }
     },
     "output_type": "display_data"
    }
   ],
   "source": [
    "'''Specify output file'''\n",
    "\n",
    "output_file('three-point-att-vs-pct.html',\n",
    "            title='Three-Point Attempts vs. Percentage')\n",
    "\n",
    "'''Store the data in a ColumnDataSource'''\n",
    "\n",
    "three_takers_cds = ColumnDataSource(three_takers)\n",
    "\n",
    "'''Specify the selection tools to be made available'''\n",
    "\n",
    "select_tools = ['box_select', 'lasso_select', 'poly_select', 'tap', 'reset']\n",
    "\n",
    "'''Create the figure'''\n",
    "\n",
    "fig = figure(plot_height=400,\n",
    "             plot_width=600,\n",
    "             x_axis_label='Three-Point Shots Attempted',\n",
    "             y_axis_label='Percentage Made',\n",
    "             title='3PT Shots Attempted vs. Percentage Made (min. 100 3PA), 2017-18',\n",
    "             toolbar_location='below',\n",
    "             tools=select_tools)\n",
    "\n",
    "'''Format the y-axis tick labels as percentages'''\n",
    "\n",
    "fig.yaxis[0].formatter = NumeralTickFormatter(format='00.0%')\n",
    "\n",
    "'''Add square representing each player'''\n",
    "\n",
    "fig.square(x='play3PA',\n",
    "           y='pct3PM',\n",
    "           source=three_takers_cds,\n",
    "           color='royalblue',\n",
    "           selection_color='deepskyblue',\n",
    "           nonselection_color='lightgray',\n",
    "           nonselection_alpha=0.3)\n",
    "\n",
    "show(fig)"
   ]
  },
  {
   "cell_type": "code",
   "execution_count": null,
   "metadata": {},
   "outputs": [],
   "source": []
  }
 ],
 "metadata": {
  "kernelspec": {
   "display_name": "Python 3",
   "language": "python",
   "name": "python3"
  },
  "language_info": {
   "codemirror_mode": {
    "name": "ipython",
    "version": 3
   },
   "file_extension": ".py",
   "mimetype": "text/x-python",
   "name": "python",
   "nbconvert_exporter": "python",
   "pygments_lexer": "ipython3",
   "version": "3.7.1"
  }
 },
 "nbformat": 4,
 "nbformat_minor": 4
}
