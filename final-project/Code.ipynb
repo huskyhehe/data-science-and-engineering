{
 "cells": [
  {
   "cell_type": "markdown",
   "metadata": {
    "id": "gxpl380mXq3l"
   },
   "source": [
    "# **K-pop Phenomenon On YouTube:**\n",
    "## US YouTube Trending Videos Data Analysis and Storytelling"
   ]
  },
  {
   "cell_type": "markdown",
   "metadata": {
    "id": "UKcp_DYRXzPM"
   },
   "source": [
    "---\n",
    "**K-pop**, which stands for *popular music originating in South Korea*, has no doubt become a global phenomenon featuring idol groups and fandom culture.\n",
    "\n",
    "\n",
    "In the past few years, big K-pop entertainment companies have made lots of attempts to break into the US market. Have they succeeded? How does K-pop perform on YouTube in the US?\n",
    "\n",
    "\n",
    "This report will examine K-pop videos’ performance on the YouTube Trending Page. The focus will be on K-pop-related descriptive, correlational and distributive analysis. \n",
    "\n",
    "\n",
    "---"
   ]
  },
  {
   "cell_type": "markdown",
   "metadata": {
    "id": "xL8WFCD9Yjwk"
   },
   "source": [
    "## **1 Raising Questions**"
   ]
  },
  {
   "cell_type": "markdown",
   "metadata": {
    "id": "XBySEihKZ6a-"
   },
   "source": [
    "- **Are K-pop videos the all-rouder top-ranker?**\n",
    "\n",
    "    - Which videos rank top according to ***the number of views, likes, comments*** and ***times of appearance*** on the trending page?\n",
    "    - What are the ***correlations*** between these rankings?\n",
    "\n",
    "- **Are K-pop related channels also popular in the U.S. region?** \n",
    "\n",
    "    - Which channels have a large number of trending videos?\n",
    "    - Select a K-pop channel to analyze the time it takes for its videos to be posted to the Youtube trending.\n",
    "\n",
    "\n",
    "- **Are K-pop released dates and popularity related to the months?**\n",
    "\n",
    "    - which month has most videos in ***All Category***  Channel, in ***Only Music***  Channel, and in ***A certain K-pop Group***  Channel?\n",
    "    - Does every video in one month of the group be ***popular as others***? How to ***measure the popularity*** of a video?"
   ]
  },
  {
   "cell_type": "markdown",
   "metadata": {
    "id": "IZiTUEPWaiZt"
   },
   "source": [
    "## **2 Preparing Data**"
   ]
  },
  {
   "cell_type": "code",
   "execution_count": 1,
   "metadata": {
    "executionInfo": {
     "elapsed": 179,
     "status": "ok",
     "timestamp": 1639116919682,
     "user": {
      "displayName": "Changpan Zheng",
      "photoUrl": "https://lh3.googleusercontent.com/a/default-user=s64",
      "userId": "08201278909651809374"
     },
     "user_tz": 480
    },
    "id": "yYS-x4UEb1cT"
   },
   "outputs": [],
   "source": [
    "# Import libraries\n",
    "\n",
    "import numpy as np\n",
    "import pandas as pd\n",
    "import matplotlib.pyplot as plt\n",
    "import seaborn as sns\n",
    "from pandas import DataFrame"
   ]
  },
  {
   "cell_type": "markdown",
   "metadata": {
    "id": "25JP9e0DcSrA"
   },
   "source": [
    "<div class=\"alert alert-block alert-info\">\n",
    "⏰\n",
    "<b>Notice:</b> The cleaned dataset is 90MB large, so it may take minutes to load. \n",
    "</div>"
   ]
  },
  {
   "cell_type": "code",
   "execution_count": 2,
   "metadata": {
    "colab": {
     "base_uri": "https://localhost:8080/",
     "height": 479
    },
    "executionInfo": {
     "elapsed": 6369,
     "status": "ok",
     "timestamp": 1639116926287,
     "user": {
      "displayName": "Changpan Zheng",
      "photoUrl": "https://lh3.googleusercontent.com/a/default-user=s64",
      "userId": "08201278909651809374"
     },
     "user_tz": 480
    },
    "id": "29dadpivb7wI",
    "outputId": "19eead0f-e738-42bb-dcc6-c7436431f32d"
   },
   "outputs": [
    {
     "data": {
      "text/html": [
       "<div>\n",
       "<style scoped>\n",
       "    .dataframe tbody tr th:only-of-type {\n",
       "        vertical-align: middle;\n",
       "    }\n",
       "\n",
       "    .dataframe tbody tr th {\n",
       "        vertical-align: top;\n",
       "    }\n",
       "\n",
       "    .dataframe thead th {\n",
       "        text-align: right;\n",
       "    }\n",
       "</style>\n",
       "<table border=\"1\" class=\"dataframe\">\n",
       "  <thead>\n",
       "    <tr style=\"text-align: right;\">\n",
       "      <th></th>\n",
       "      <th>video_id</th>\n",
       "      <th>video_title</th>\n",
       "      <th>publish_on</th>\n",
       "      <th>channel_id</th>\n",
       "      <th>channel_title</th>\n",
       "      <th>trend_on</th>\n",
       "      <th>tags</th>\n",
       "      <th>view_count</th>\n",
       "      <th>likes</th>\n",
       "      <th>dislikes</th>\n",
       "      <th>comment_count</th>\n",
       "      <th>description</th>\n",
       "      <th>category</th>\n",
       "    </tr>\n",
       "  </thead>\n",
       "  <tbody>\n",
       "    <tr>\n",
       "      <th>0</th>\n",
       "      <td>3C66w5Z0ixs</td>\n",
       "      <td>I ASKED HER TO BE MY GIRLFRIEND...</td>\n",
       "      <td>2020-08-11</td>\n",
       "      <td>UCvtRTOMP2TqYqu51xNrqAzg</td>\n",
       "      <td>Brawadis</td>\n",
       "      <td>2020-08-12</td>\n",
       "      <td>brawadis|prank|basketball|skits|ghost|funny vi...</td>\n",
       "      <td>1514614</td>\n",
       "      <td>156908</td>\n",
       "      <td>5855</td>\n",
       "      <td>35313</td>\n",
       "      <td>SUBSCRIBE to BRAWADIS ▶ http://bit.ly/Subscrib...</td>\n",
       "      <td>People &amp; Blogs</td>\n",
       "    </tr>\n",
       "    <tr>\n",
       "      <th>1</th>\n",
       "      <td>M9Pmf9AB4Mo</td>\n",
       "      <td>Apex Legends | Stories from the Outlands – “Th...</td>\n",
       "      <td>2020-08-11</td>\n",
       "      <td>UC0ZV6M2THA81QT9hrVWJG3A</td>\n",
       "      <td>Apex Legends</td>\n",
       "      <td>2020-08-12</td>\n",
       "      <td>Apex Legends|Apex Legends characters|new Apex ...</td>\n",
       "      <td>2381688</td>\n",
       "      <td>146739</td>\n",
       "      <td>2794</td>\n",
       "      <td>16549</td>\n",
       "      <td>While running her own modding shop, Ramya Pare...</td>\n",
       "      <td>Gaming</td>\n",
       "    </tr>\n",
       "    <tr>\n",
       "      <th>2</th>\n",
       "      <td>J78aPJ3VyNs</td>\n",
       "      <td>I left youtube for a month and THIS is what ha...</td>\n",
       "      <td>2020-08-11</td>\n",
       "      <td>UCYzPXprvl5Y-Sf0g4vX-m6g</td>\n",
       "      <td>jacksepticeye</td>\n",
       "      <td>2020-08-12</td>\n",
       "      <td>jacksepticeye|funny|funny meme|memes|jacksepti...</td>\n",
       "      <td>2038853</td>\n",
       "      <td>353787</td>\n",
       "      <td>2628</td>\n",
       "      <td>40221</td>\n",
       "      <td>I left youtube for a month and this is what ha...</td>\n",
       "      <td>Entertainment</td>\n",
       "    </tr>\n",
       "    <tr>\n",
       "      <th>3</th>\n",
       "      <td>kXLn3HkpjaA</td>\n",
       "      <td>XXL 2020 Freshman Class Revealed - Official An...</td>\n",
       "      <td>2020-08-11</td>\n",
       "      <td>UCbg_UMjlHJg_19SZckaKajg</td>\n",
       "      <td>XXL</td>\n",
       "      <td>2020-08-12</td>\n",
       "      <td>xxl freshman|xxl freshmen|2020 xxl freshman|20...</td>\n",
       "      <td>496771</td>\n",
       "      <td>23251</td>\n",
       "      <td>1856</td>\n",
       "      <td>7647</td>\n",
       "      <td>Subscribe to XXL → http://bit.ly/subscribe-xxl...</td>\n",
       "      <td>Music</td>\n",
       "    </tr>\n",
       "    <tr>\n",
       "      <th>4</th>\n",
       "      <td>VIUo6yapDbc</td>\n",
       "      <td>Ultimate DIY Home Movie Theater for The LaBran...</td>\n",
       "      <td>2020-08-11</td>\n",
       "      <td>UCDVPcEbVLQgLZX0Rt6jo34A</td>\n",
       "      <td>Mr. Kate</td>\n",
       "      <td>2020-08-12</td>\n",
       "      <td>The LaBrant Family|DIY|Interior Design|Makeove...</td>\n",
       "      <td>1123889</td>\n",
       "      <td>45802</td>\n",
       "      <td>964</td>\n",
       "      <td>2196</td>\n",
       "      <td>Transforming The LaBrant Family's empty white ...</td>\n",
       "      <td>Howto &amp; Style</td>\n",
       "    </tr>\n",
       "  </tbody>\n",
       "</table>\n",
       "</div>"
      ],
      "text/plain": [
       "      video_id                                        video_title  publish_on  \\\n",
       "0  3C66w5Z0ixs                 I ASKED HER TO BE MY GIRLFRIEND...  2020-08-11   \n",
       "1  M9Pmf9AB4Mo  Apex Legends | Stories from the Outlands – “Th...  2020-08-11   \n",
       "2  J78aPJ3VyNs  I left youtube for a month and THIS is what ha...  2020-08-11   \n",
       "3  kXLn3HkpjaA  XXL 2020 Freshman Class Revealed - Official An...  2020-08-11   \n",
       "4  VIUo6yapDbc  Ultimate DIY Home Movie Theater for The LaBran...  2020-08-11   \n",
       "\n",
       "                 channel_id  channel_title    trend_on  \\\n",
       "0  UCvtRTOMP2TqYqu51xNrqAzg       Brawadis  2020-08-12   \n",
       "1  UC0ZV6M2THA81QT9hrVWJG3A   Apex Legends  2020-08-12   \n",
       "2  UCYzPXprvl5Y-Sf0g4vX-m6g  jacksepticeye  2020-08-12   \n",
       "3  UCbg_UMjlHJg_19SZckaKajg            XXL  2020-08-12   \n",
       "4  UCDVPcEbVLQgLZX0Rt6jo34A       Mr. Kate  2020-08-12   \n",
       "\n",
       "                                                tags  view_count   likes  \\\n",
       "0  brawadis|prank|basketball|skits|ghost|funny vi...     1514614  156908   \n",
       "1  Apex Legends|Apex Legends characters|new Apex ...     2381688  146739   \n",
       "2  jacksepticeye|funny|funny meme|memes|jacksepti...     2038853  353787   \n",
       "3  xxl freshman|xxl freshmen|2020 xxl freshman|20...      496771   23251   \n",
       "4  The LaBrant Family|DIY|Interior Design|Makeove...     1123889   45802   \n",
       "\n",
       "   dislikes  comment_count                                        description  \\\n",
       "0      5855          35313  SUBSCRIBE to BRAWADIS ▶ http://bit.ly/Subscrib...   \n",
       "1      2794          16549  While running her own modding shop, Ramya Pare...   \n",
       "2      2628          40221  I left youtube for a month and this is what ha...   \n",
       "3      1856           7647  Subscribe to XXL → http://bit.ly/subscribe-xxl...   \n",
       "4       964           2196  Transforming The LaBrant Family's empty white ...   \n",
       "\n",
       "         category  \n",
       "0  People & Blogs  \n",
       "1          Gaming  \n",
       "2   Entertainment  \n",
       "3           Music  \n",
       "4   Howto & Style  "
      ]
     },
     "execution_count": 2,
     "metadata": {},
     "output_type": "execute_result"
    }
   ],
   "source": [
    "# Read the cleaned dataset\n",
    "\n",
    "df_us = pd.read_csv('https://github.com/zhouhe018/damg6105/releases/download/cleaned_data/US_youtube_trending_data.csv', index_col=[0])\n",
    "df_us.head()"
   ]
  },
  {
   "cell_type": "code",
   "execution_count": 3,
   "metadata": {
    "colab": {
     "base_uri": "https://localhost:8080/",
     "height": 297
    },
    "executionInfo": {
     "elapsed": 12,
     "status": "ok",
     "timestamp": 1639116926287,
     "user": {
      "displayName": "Changpan Zheng",
      "photoUrl": "https://lh3.googleusercontent.com/a/default-user=s64",
      "userId": "08201278909651809374"
     },
     "user_tz": 480
    },
    "id": "NkWUyOSZb8wD",
    "outputId": "439baba4-2b0e-4ab9-f3ae-46bd3df7f206"
   },
   "outputs": [
    {
     "data": {
      "text/html": [
       "<div>\n",
       "<style scoped>\n",
       "    .dataframe tbody tr th:only-of-type {\n",
       "        vertical-align: middle;\n",
       "    }\n",
       "\n",
       "    .dataframe tbody tr th {\n",
       "        vertical-align: top;\n",
       "    }\n",
       "\n",
       "    .dataframe thead th {\n",
       "        text-align: right;\n",
       "    }\n",
       "</style>\n",
       "<table border=\"1\" class=\"dataframe\">\n",
       "  <thead>\n",
       "    <tr style=\"text-align: right;\">\n",
       "      <th></th>\n",
       "      <th>view_count</th>\n",
       "      <th>likes</th>\n",
       "      <th>dislikes</th>\n",
       "      <th>comment_count</th>\n",
       "    </tr>\n",
       "  </thead>\n",
       "  <tbody>\n",
       "    <tr>\n",
       "      <th>count</th>\n",
       "      <td>66956.00</td>\n",
       "      <td>66956.00</td>\n",
       "      <td>66956.00</td>\n",
       "      <td>66956.00</td>\n",
       "    </tr>\n",
       "    <tr>\n",
       "      <th>mean</th>\n",
       "      <td>2853531.29</td>\n",
       "      <td>153926.29</td>\n",
       "      <td>3368.60</td>\n",
       "      <td>15492.53</td>\n",
       "    </tr>\n",
       "    <tr>\n",
       "      <th>std</th>\n",
       "      <td>6612078.93</td>\n",
       "      <td>419486.59</td>\n",
       "      <td>14455.06</td>\n",
       "      <td>109155.64</td>\n",
       "    </tr>\n",
       "    <tr>\n",
       "      <th>min</th>\n",
       "      <td>38510.00</td>\n",
       "      <td>0.00</td>\n",
       "      <td>0.00</td>\n",
       "      <td>0.00</td>\n",
       "    </tr>\n",
       "    <tr>\n",
       "      <th>25%</th>\n",
       "      <td>567141.00</td>\n",
       "      <td>22017.00</td>\n",
       "      <td>399.00</td>\n",
       "      <td>1937.00</td>\n",
       "    </tr>\n",
       "    <tr>\n",
       "      <th>50%</th>\n",
       "      <td>1168835.50</td>\n",
       "      <td>54491.50</td>\n",
       "      <td>924.00</td>\n",
       "      <td>4377.00</td>\n",
       "    </tr>\n",
       "    <tr>\n",
       "      <th>75%</th>\n",
       "      <td>2612976.25</td>\n",
       "      <td>137667.00</td>\n",
       "      <td>2454.00</td>\n",
       "      <td>10394.00</td>\n",
       "    </tr>\n",
       "    <tr>\n",
       "      <th>max</th>\n",
       "      <td>264407389.00</td>\n",
       "      <td>16021534.00</td>\n",
       "      <td>879354.00</td>\n",
       "      <td>6738537.00</td>\n",
       "    </tr>\n",
       "  </tbody>\n",
       "</table>\n",
       "</div>"
      ],
      "text/plain": [
       "        view_count       likes  dislikes  comment_count\n",
       "count     66956.00    66956.00  66956.00       66956.00\n",
       "mean    2853531.29   153926.29   3368.60       15492.53\n",
       "std     6612078.93   419486.59  14455.06      109155.64\n",
       "min       38510.00        0.00      0.00           0.00\n",
       "25%      567141.00    22017.00    399.00        1937.00\n",
       "50%     1168835.50    54491.50    924.00        4377.00\n",
       "75%     2612976.25   137667.00   2454.00       10394.00\n",
       "max   264407389.00 16021534.00 879354.00     6738537.00"
      ]
     },
     "execution_count": 3,
     "metadata": {},
     "output_type": "execute_result"
    }
   ],
   "source": [
    "# Generate descriptive statistics\n",
    "\n",
    "pd.set_option('display.float_format', lambda x : '%.2f' % x)\n",
    "df_us.describe()"
   ]
  },
  {
   "cell_type": "markdown",
   "metadata": {
    "id": "9K7iHguFiEAo"
   },
   "source": [
    "## **3 Analyzing and Exploring**"
   ]
  },
  {
   "cell_type": "markdown",
   "metadata": {
    "id": "k15SRc8SjkCk"
   },
   "source": [
    "### **3.1 Are K-pop videos the all-rouder top-ranker?**"
   ]
  },
  {
   "cell_type": "markdown",
   "metadata": {
    "id": "opExvZuuklX9"
   },
   "source": [
    "(1) Top 5 **Most-viewed** Trending Videos"
   ]
  },
  {
   "cell_type": "code",
   "execution_count": 4,
   "metadata": {
    "executionInfo": {
     "elapsed": 9,
     "status": "ok",
     "timestamp": 1639116926288,
     "user": {
      "displayName": "Changpan Zheng",
      "photoUrl": "https://lh3.googleusercontent.com/a/default-user=s64",
      "userId": "08201278909651809374"
     },
     "user_tz": 480
    },
    "id": "59uY2-6TscPL"
   },
   "outputs": [],
   "source": [
    "# Define the function to highlight the K-pop video title in the ranking table\n",
    "\n",
    "def highlight_kpop(v):\n",
    "    ls_kpop = ['BTS','BLACKPINK','LISA','ROSÉ','EXO']\n",
    "    color = ''\n",
    "    for str in ls_kpop:\n",
    "        if str in v:\n",
    "            color = '#B0E0E6'\n",
    "    return f\"background-color: {color};\" "
   ]
  },
  {
   "cell_type": "code",
   "execution_count": 5,
   "metadata": {
    "colab": {
     "base_uri": "https://localhost:8080/",
     "height": 204
    },
    "executionInfo": {
     "elapsed": 8,
     "status": "ok",
     "timestamp": 1639116926288,
     "user": {
      "displayName": "Changpan Zheng",
      "photoUrl": "https://lh3.googleusercontent.com/a/default-user=s64",
      "userId": "08201278909651809374"
     },
     "user_tz": 480
    },
    "id": "l9f4sRJ8jLyo",
    "outputId": "1e8b13f3-e1f3-4cb5-fabb-684d142568a7"
   },
   "outputs": [
    {
     "data": {
      "text/html": [
       "<style type=\"text/css\">\n",
       "#T_1f195_row0_col1, #T_1f195_row1_col1, #T_1f195_row2_col1, #T_1f195_row3_col1, #T_1f195_row4_col1 {\n",
       "  background-color: #B0E0E6;\n",
       "}\n",
       "#T_1f195_row0_col3 {\n",
       "  width: 10em;\n",
       "  height: 80%;\n",
       "  background: linear-gradient(90deg,yellow 100.0%, transparent 100.0%);\n",
       "}\n",
       "#T_1f195_row1_col3 {\n",
       "  width: 10em;\n",
       "  height: 80%;\n",
       "  background: linear-gradient(90deg,yellow 74.3%, transparent 74.3%);\n",
       "}\n",
       "#T_1f195_row2_col3 {\n",
       "  width: 10em;\n",
       "  height: 80%;\n",
       "  background: linear-gradient(90deg,yellow 35.6%, transparent 35.6%);\n",
       "}\n",
       "#T_1f195_row3_col3 {\n",
       "  width: 10em;\n",
       "  height: 80%;\n",
       "  background: linear-gradient(90deg,yellow 8.0%, transparent 8.0%);\n",
       "}\n",
       "#T_1f195_row4_col3 {\n",
       "  width: 10em;\n",
       "  height: 80%;\n",
       "}\n",
       "</style>\n",
       "<table id=\"T_1f195_\">\n",
       "  <thead>\n",
       "    <tr>\n",
       "      <th class=\"blank level0\" >&nbsp;</th>\n",
       "      <th class=\"col_heading level0 col1\" >video_title</th>\n",
       "      <th class=\"col_heading level0 col2\" >channel_title</th>\n",
       "      <th class=\"col_heading level0 col3\" >view_count</th>\n",
       "    </tr>\n",
       "  </thead>\n",
       "  <tbody>\n",
       "    <tr>\n",
       "      <th id=\"T_1f195_level0_row0\" class=\"row_heading level0 row0\" >0</th>\n",
       "      <td id=\"T_1f195_row0_col1\" class=\"data row0 col1\" >BTS (방탄소년단) 'Butter' Official MV</td>\n",
       "      <td id=\"T_1f195_row0_col2\" class=\"data row0 col2\" >HYBE LABELS</td>\n",
       "      <td id=\"T_1f195_row0_col3\" class=\"data row0 col3\" >264407389</td>\n",
       "    </tr>\n",
       "    <tr>\n",
       "      <th id=\"T_1f195_level0_row1\" class=\"row_heading level0 row1\" >1</th>\n",
       "      <td id=\"T_1f195_row1_col1\" class=\"data row1 col1\" >BTS (방탄소년단) 'Dynamite' Official MV</td>\n",
       "      <td id=\"T_1f195_row1_col2\" class=\"data row1 col2\" >Big Hit Labels</td>\n",
       "      <td id=\"T_1f195_row1_col3\" class=\"data row1 col3\" >232649205</td>\n",
       "    </tr>\n",
       "    <tr>\n",
       "      <th id=\"T_1f195_level0_row2\" class=\"row_heading level0 row2\" >2</th>\n",
       "      <td id=\"T_1f195_row2_col1\" class=\"data row2 col1\" >BLACKPINK - 'Ice Cream (with Selena Gomez)' M/V</td>\n",
       "      <td id=\"T_1f195_row2_col2\" class=\"data row2 col2\" >BLACKPINK</td>\n",
       "      <td id=\"T_1f195_row2_col3\" class=\"data row2 col3\" >184778248</td>\n",
       "    </tr>\n",
       "    <tr>\n",
       "      <th id=\"T_1f195_level0_row3\" class=\"row_heading level0 row3\" >3</th>\n",
       "      <td id=\"T_1f195_row3_col1\" class=\"data row3 col1\" >BTS (방탄소년단) 'Life Goes On' Official MV</td>\n",
       "      <td id=\"T_1f195_row3_col2\" class=\"data row3 col2\" >Big Hit Labels</td>\n",
       "      <td id=\"T_1f195_row3_col3\" class=\"data row3 col3\" >150622781</td>\n",
       "    </tr>\n",
       "    <tr>\n",
       "      <th id=\"T_1f195_level0_row4\" class=\"row_heading level0 row4\" >4</th>\n",
       "      <td id=\"T_1f195_row4_col1\" class=\"data row4 col1\" >BLACKPINK – ‘Lovesick Girls’ M/V</td>\n",
       "      <td id=\"T_1f195_row4_col2\" class=\"data row4 col2\" >BLACKPINK</td>\n",
       "      <td id=\"T_1f195_row4_col3\" class=\"data row4 col3\" >140685439</td>\n",
       "    </tr>\n",
       "  </tbody>\n",
       "</table>\n"
      ],
      "text/plain": [
       "<pandas.io.formats.style.Styler at 0x1f2df0e6cf8>"
      ]
     },
     "execution_count": 5,
     "metadata": {},
     "output_type": "execute_result"
    }
   ],
   "source": [
    "# Sort by \"view_count\" in descending order\n",
    "df_viewed = df_us[['video_id','video_title','channel_title','view_count']].sort_values(by= 'view_count', ascending= False).drop_duplicates(subset = 'video_id').reset_index(drop = True)\n",
    "\n",
    "# Show Top5\n",
    "df_viewed_show = df_viewed.head()\n",
    "df_viewed_show.style.hide_columns('video_id').bar(color = 'yellow').applymap(highlight_kpop, subset=['video_title'])"
   ]
  },
  {
   "cell_type": "markdown",
   "metadata": {
    "id": "MUVFb70gm-aH"
   },
   "source": [
    "(2) Top 5 **Most-liked** Trending Videos"
   ]
  },
  {
   "cell_type": "code",
   "execution_count": 6,
   "metadata": {
    "colab": {
     "base_uri": "https://localhost:8080/",
     "height": 204
    },
    "executionInfo": {
     "elapsed": 237,
     "status": "ok",
     "timestamp": 1639116926518,
     "user": {
      "displayName": "Changpan Zheng",
      "photoUrl": "https://lh3.googleusercontent.com/a/default-user=s64",
      "userId": "08201278909651809374"
     },
     "user_tz": 480
    },
    "id": "iI0wfjluk3Iv",
    "outputId": "718e2dc6-2ece-45c3-e604-53e4f821e76f"
   },
   "outputs": [
    {
     "data": {
      "text/html": [
       "<style type=\"text/css\">\n",
       "#T_62ba8_row0_col1, #T_62ba8_row1_col1, #T_62ba8_row2_col1, #T_62ba8_row3_col1, #T_62ba8_row4_col1 {\n",
       "  background-color: #B0E0E6;\n",
       "}\n",
       "#T_62ba8_row0_col3 {\n",
       "  width: 10em;\n",
       "  height: 80%;\n",
       "  background: linear-gradient(90deg,yellow 100.0%, transparent 100.0%);\n",
       "}\n",
       "#T_62ba8_row1_col3 {\n",
       "  width: 10em;\n",
       "  height: 80%;\n",
       "  background: linear-gradient(90deg,yellow 95.8%, transparent 95.8%);\n",
       "}\n",
       "#T_62ba8_row2_col3 {\n",
       "  width: 10em;\n",
       "  height: 80%;\n",
       "  background: linear-gradient(90deg,yellow 37.9%, transparent 37.9%);\n",
       "}\n",
       "#T_62ba8_row3_col3 {\n",
       "  width: 10em;\n",
       "  height: 80%;\n",
       "  background: linear-gradient(90deg,yellow 32.1%, transparent 32.1%);\n",
       "}\n",
       "#T_62ba8_row4_col3 {\n",
       "  width: 10em;\n",
       "  height: 80%;\n",
       "}\n",
       "</style>\n",
       "<table id=\"T_62ba8_\">\n",
       "  <thead>\n",
       "    <tr>\n",
       "      <th class=\"blank level0\" >&nbsp;</th>\n",
       "      <th class=\"col_heading level0 col1\" >video_title</th>\n",
       "      <th class=\"col_heading level0 col2\" >channel_title</th>\n",
       "      <th class=\"col_heading level0 col3\" >likes</th>\n",
       "    </tr>\n",
       "  </thead>\n",
       "  <tbody>\n",
       "    <tr>\n",
       "      <th id=\"T_62ba8_level0_row0\" class=\"row_heading level0 row0\" >0</th>\n",
       "      <td id=\"T_62ba8_row0_col1\" class=\"data row0 col1\" >BTS (방탄소년단) 'Butter' Official MV</td>\n",
       "      <td id=\"T_62ba8_row0_col2\" class=\"data row0 col2\" >HYBE LABELS</td>\n",
       "      <td id=\"T_62ba8_row0_col3\" class=\"data row0 col3\" >16021534</td>\n",
       "    </tr>\n",
       "    <tr>\n",
       "      <th id=\"T_62ba8_level0_row1\" class=\"row_heading level0 row1\" >1</th>\n",
       "      <td id=\"T_62ba8_row1_col1\" class=\"data row1 col1\" >BTS (방탄소년단) 'Dynamite' Official MV</td>\n",
       "      <td id=\"T_62ba8_row1_col2\" class=\"data row1 col2\" >Big Hit Labels</td>\n",
       "      <td id=\"T_62ba8_row1_col3\" class=\"data row1 col3\" >15735533</td>\n",
       "    </tr>\n",
       "    <tr>\n",
       "      <th id=\"T_62ba8_level0_row2\" class=\"row_heading level0 row2\" >2</th>\n",
       "      <td id=\"T_62ba8_row2_col1\" class=\"data row2 col1\" >BLACKPINK - 'Ice Cream (with Selena Gomez)' M/V</td>\n",
       "      <td id=\"T_62ba8_row2_col2\" class=\"data row2 col2\" >BLACKPINK</td>\n",
       "      <td id=\"T_62ba8_row2_col3\" class=\"data row2 col3\" >11795670</td>\n",
       "    </tr>\n",
       "    <tr>\n",
       "      <th id=\"T_62ba8_level0_row3\" class=\"row_heading level0 row3\" >3</th>\n",
       "      <td id=\"T_62ba8_row3_col1\" class=\"data row3 col1\" >BTS (방탄소년단) 'Life Goes On' Official MV</td>\n",
       "      <td id=\"T_62ba8_row3_col2\" class=\"data row3 col2\" >Big Hit Labels</td>\n",
       "      <td id=\"T_62ba8_row3_col3\" class=\"data row3 col3\" >11405030</td>\n",
       "    </tr>\n",
       "    <tr>\n",
       "      <th id=\"T_62ba8_level0_row4\" class=\"row_heading level0 row4\" >4</th>\n",
       "      <td id=\"T_62ba8_row4_col1\" class=\"data row4 col1\" >BLACKPINK – ‘Lovesick Girls’ M/V</td>\n",
       "      <td id=\"T_62ba8_row4_col2\" class=\"data row4 col2\" >BLACKPINK</td>\n",
       "      <td id=\"T_62ba8_row4_col3\" class=\"data row4 col3\" >9217876</td>\n",
       "    </tr>\n",
       "  </tbody>\n",
       "</table>\n"
      ],
      "text/plain": [
       "<pandas.io.formats.style.Styler at 0x1f2e4cc3780>"
      ]
     },
     "execution_count": 6,
     "metadata": {},
     "output_type": "execute_result"
    }
   ],
   "source": [
    "# Sort by \"likes\" in descending order\n",
    "df_liked = df_us[['video_id','video_title','channel_title','likes']].sort_values(by= 'likes', ascending= False).drop_duplicates(subset = 'video_id').reset_index(drop = True)\n",
    "\n",
    "# Show Top5\n",
    "df_liked_show = df_liked.head()\n",
    "df_liked_show.style.hide_columns('video_id').bar(color = 'yellow').applymap(highlight_kpop, subset=['video_title'])"
   ]
  },
  {
   "cell_type": "markdown",
   "metadata": {
    "id": "MnVdaGG5oTtd"
   },
   "source": [
    "(3) Top 5 **Most-commented** Trending Videos"
   ]
  },
  {
   "cell_type": "code",
   "execution_count": 7,
   "metadata": {
    "colab": {
     "base_uri": "https://localhost:8080/",
     "height": 204
    },
    "executionInfo": {
     "elapsed": 5,
     "status": "ok",
     "timestamp": 1639116926518,
     "user": {
      "displayName": "Changpan Zheng",
      "photoUrl": "https://lh3.googleusercontent.com/a/default-user=s64",
      "userId": "08201278909651809374"
     },
     "user_tz": 480
    },
    "id": "nlRyWONQm5TG",
    "outputId": "0f7fc220-06ff-42c9-cd53-3df551e9dbd5"
   },
   "outputs": [
    {
     "data": {
      "text/html": [
       "<style type=\"text/css\">\n",
       "#T_4a84c_row0_col1, #T_4a84c_row1_col1, #T_4a84c_row2_col1, #T_4a84c_row4_col1 {\n",
       "  background-color: #B0E0E6;\n",
       "}\n",
       "#T_4a84c_row0_col3 {\n",
       "  width: 10em;\n",
       "  height: 80%;\n",
       "  background: linear-gradient(90deg,yellow 100.0%, transparent 100.0%);\n",
       "}\n",
       "#T_4a84c_row1_col3 {\n",
       "  width: 10em;\n",
       "  height: 80%;\n",
       "  background: linear-gradient(90deg,yellow 82.7%, transparent 82.7%);\n",
       "}\n",
       "#T_4a84c_row2_col3 {\n",
       "  width: 10em;\n",
       "  height: 80%;\n",
       "  background: linear-gradient(90deg,yellow 33.6%, transparent 33.6%);\n",
       "}\n",
       "#T_4a84c_row3_col1 {\n",
       "  background-color: ;\n",
       "}\n",
       "#T_4a84c_row3_col3 {\n",
       "  width: 10em;\n",
       "  height: 80%;\n",
       "  background: linear-gradient(90deg,yellow 14.8%, transparent 14.8%);\n",
       "}\n",
       "#T_4a84c_row4_col3 {\n",
       "  width: 10em;\n",
       "  height: 80%;\n",
       "}\n",
       "</style>\n",
       "<table id=\"T_4a84c_\">\n",
       "  <thead>\n",
       "    <tr>\n",
       "      <th class=\"blank level0\" >&nbsp;</th>\n",
       "      <th class=\"col_heading level0 col1\" >video_title</th>\n",
       "      <th class=\"col_heading level0 col2\" >channel_title</th>\n",
       "      <th class=\"col_heading level0 col3\" >comment_count</th>\n",
       "    </tr>\n",
       "  </thead>\n",
       "  <tbody>\n",
       "    <tr>\n",
       "      <th id=\"T_4a84c_level0_row0\" class=\"row_heading level0 row0\" >0</th>\n",
       "      <td id=\"T_4a84c_row0_col1\" class=\"data row0 col1\" >BTS (방탄소년단) 'Butter' Official MV</td>\n",
       "      <td id=\"T_4a84c_row0_col2\" class=\"data row0 col2\" >HYBE LABELS</td>\n",
       "      <td id=\"T_4a84c_row0_col3\" class=\"data row0 col3\" >6738537</td>\n",
       "    </tr>\n",
       "    <tr>\n",
       "      <th id=\"T_4a84c_level0_row1\" class=\"row_heading level0 row1\" >1</th>\n",
       "      <td id=\"T_4a84c_row1_col1\" class=\"data row1 col1\" >BTS (방탄소년단) 'Dynamite' Official MV</td>\n",
       "      <td id=\"T_4a84c_row1_col2\" class=\"data row1 col2\" >Big Hit Labels</td>\n",
       "      <td id=\"T_4a84c_row1_col3\" class=\"data row1 col3\" >6065230</td>\n",
       "    </tr>\n",
       "    <tr>\n",
       "      <th id=\"T_4a84c_level0_row2\" class=\"row_heading level0 row2\" >2</th>\n",
       "      <td id=\"T_4a84c_row2_col1\" class=\"data row2 col1\" >BTS (방탄소년단) 'Life Goes On' Official MV</td>\n",
       "      <td id=\"T_4a84c_row2_col2\" class=\"data row2 col2\" >Big Hit Labels</td>\n",
       "      <td id=\"T_4a84c_row2_col3\" class=\"data row2 col3\" >4160903</td>\n",
       "    </tr>\n",
       "    <tr>\n",
       "      <th id=\"T_4a84c_level0_row3\" class=\"row_heading level0 row3\" >3</th>\n",
       "      <td id=\"T_4a84c_row3_col1\" class=\"data row3 col1\" >GAME  (Full Video)  Shooter Kahlon | Sidhu Moose Wala | Hunny PK Films | Gold Media | 5911 Records</td>\n",
       "      <td id=\"T_4a84c_row3_col2\" class=\"data row3 col2\" >5911 Records</td>\n",
       "      <td id=\"T_4a84c_row3_col3\" class=\"data row3 col3\" >3431431</td>\n",
       "    </tr>\n",
       "    <tr>\n",
       "      <th id=\"T_4a84c_level0_row4\" class=\"row_heading level0 row4\" >4</th>\n",
       "      <td id=\"T_4a84c_row4_col1\" class=\"data row4 col1\" >EXO 엑소 'Don't fight the feeling' MV</td>\n",
       "      <td id=\"T_4a84c_row4_col2\" class=\"data row4 col2\" >SMTOWN</td>\n",
       "      <td id=\"T_4a84c_row4_col3\" class=\"data row4 col3\" >2857602</td>\n",
       "    </tr>\n",
       "  </tbody>\n",
       "</table>\n"
      ],
      "text/plain": [
       "<pandas.io.formats.style.Styler at 0x1f2e4cc3c88>"
      ]
     },
     "execution_count": 7,
     "metadata": {},
     "output_type": "execute_result"
    }
   ],
   "source": [
    "# Sort by \"comment_count\" in descending order\n",
    "df_commented = df_us[['video_id','video_title','channel_title','comment_count']].sort_values(by= 'comment_count', ascending= False).drop_duplicates(subset = 'video_id').reset_index(drop = True)\n",
    "\n",
    "# Show Top5\n",
    "df_commented_show = df_commented.head()\n",
    "df_commented_show.style.hide_columns('video_id').bar(color = 'yellow').applymap(highlight_kpop, subset=['video_title'])"
   ]
  },
  {
   "cell_type": "markdown",
   "metadata": {
    "id": "KWjepi0ip3Um"
   },
   "source": [
    "(4) Top 5 **Most-frequently-trending** Trending Videos"
   ]
  },
  {
   "cell_type": "code",
   "execution_count": 8,
   "metadata": {
    "colab": {
     "base_uri": "https://localhost:8080/",
     "height": 204
    },
    "executionInfo": {
     "elapsed": 4,
     "status": "ok",
     "timestamp": 1639116926518,
     "user": {
      "displayName": "Changpan Zheng",
      "photoUrl": "https://lh3.googleusercontent.com/a/default-user=s64",
      "userId": "08201278909651809374"
     },
     "user_tz": 480
    },
    "id": "EiUP_6wMnc2h",
    "outputId": "6c1c8aac-94dc-4a19-b432-70304b9935ad"
   },
   "outputs": [
    {
     "data": {
      "text/html": [
       "<style type=\"text/css\">\n",
       "#T_40bd2_row0_col1, #T_40bd2_row1_col1, #T_40bd2_row2_col1, #T_40bd2_row3_col1, #T_40bd2_row4_col1 {\n",
       "  background-color: ;\n",
       "}\n",
       "#T_40bd2_row0_col3 {\n",
       "  width: 10em;\n",
       "  height: 80%;\n",
       "  background: linear-gradient(90deg,yellow 100.0%, transparent 100.0%);\n",
       "}\n",
       "#T_40bd2_row1_col3, #T_40bd2_row2_col3 {\n",
       "  width: 10em;\n",
       "  height: 80%;\n",
       "  background: linear-gradient(90deg,yellow 90.9%, transparent 90.9%);\n",
       "}\n",
       "#T_40bd2_row3_col3 {\n",
       "  width: 10em;\n",
       "  height: 80%;\n",
       "  background: linear-gradient(90deg,yellow 27.3%, transparent 27.3%);\n",
       "}\n",
       "#T_40bd2_row4_col3 {\n",
       "  width: 10em;\n",
       "  height: 80%;\n",
       "}\n",
       "</style>\n",
       "<table id=\"T_40bd2_\">\n",
       "  <thead>\n",
       "    <tr>\n",
       "      <th class=\"blank level0\" >&nbsp;</th>\n",
       "      <th class=\"col_heading level0 col1\" >video_title</th>\n",
       "      <th class=\"col_heading level0 col2\" >channel_title</th>\n",
       "      <th class=\"col_heading level0 col3\" >trending_times</th>\n",
       "    </tr>\n",
       "  </thead>\n",
       "  <tbody>\n",
       "    <tr>\n",
       "      <th id=\"T_40bd2_level0_row0\" class=\"row_heading level0 row0\" >0</th>\n",
       "      <td id=\"T_40bd2_row0_col1\" class=\"data row0 col1\" >Floyd Mayweather vs Logan Paul: Fight goes the distance [Highlights, recap] | CBS Sports HQ</td>\n",
       "      <td id=\"T_40bd2_row0_col2\" class=\"data row0 col2\" >CBS Sports HQ</td>\n",
       "      <td id=\"T_40bd2_row0_col3\" class=\"data row0 col3\" >35</td>\n",
       "    </tr>\n",
       "    <tr>\n",
       "      <th id=\"T_40bd2_level0_row1\" class=\"row_heading level0 row1\" >1</th>\n",
       "      <td id=\"T_40bd2_row1_col1\" class=\"data row1 col1\" >Israeli Iron Dome filmed intercepting rockets from Gaza</td>\n",
       "      <td id=\"T_40bd2_row1_col2\" class=\"data row1 col2\" >The Telegraph</td>\n",
       "      <td id=\"T_40bd2_row1_col3\" class=\"data row1 col3\" >34</td>\n",
       "    </tr>\n",
       "    <tr>\n",
       "      <th id=\"T_40bd2_level0_row2\" class=\"row_heading level0 row2\" >2</th>\n",
       "      <td id=\"T_40bd2_row2_col1\" class=\"data row2 col1\" >India claim stunning series win, end Australia's Gabba streak | Vodafone Test Series 2020-21</td>\n",
       "      <td id=\"T_40bd2_row2_col2\" class=\"data row2 col2\" >cricket.com.au</td>\n",
       "      <td id=\"T_40bd2_row2_col3\" class=\"data row2 col3\" >34</td>\n",
       "    </tr>\n",
       "    <tr>\n",
       "      <th id=\"T_40bd2_level0_row3\" class=\"row_heading level0 row3\" >3</th>\n",
       "      <td id=\"T_40bd2_row3_col1\" class=\"data row3 col1\" >Justin Bieber - Holy ft. Chance The Rapper</td>\n",
       "      <td id=\"T_40bd2_row3_col2\" class=\"data row3 col2\" >JustinBieberVEVO</td>\n",
       "      <td id=\"T_40bd2_row3_col3\" class=\"data row3 col3\" >27</td>\n",
       "    </tr>\n",
       "    <tr>\n",
       "      <th id=\"T_40bd2_level0_row4\" class=\"row_heading level0 row4\" >4</th>\n",
       "      <td id=\"T_40bd2_row4_col1\" class=\"data row4 col1\" >Golden Buzzer: Nightbirde's Original Song Makes Simon Cowell Emotional - America's Got Talent 2021</td>\n",
       "      <td id=\"T_40bd2_row4_col2\" class=\"data row4 col2\" >America's Got Talent</td>\n",
       "      <td id=\"T_40bd2_row4_col3\" class=\"data row4 col3\" >24</td>\n",
       "    </tr>\n",
       "  </tbody>\n",
       "</table>\n"
      ],
      "text/plain": [
       "<pandas.io.formats.style.Styler at 0x1f2e4cc8f60>"
      ]
     },
     "execution_count": 8,
     "metadata": {},
     "output_type": "execute_result"
    }
   ],
   "source": [
    "# Count the number of time that the video appearred on the trending page\n",
    "trending_times = df_us['video_id'].value_counts()\n",
    "\n",
    "# Sort by \"trending_time\" in descending order\n",
    "df_trended = trending_times.rename_axis('video_id').reset_index(name='trending_times')\n",
    "df_trended = pd.merge(df_viewed, df_trended, how = 'left',on = ['video_id']).drop(columns = 'view_count').sort_values(by= 'trending_times', ascending= False).reset_index(drop = True)\n",
    "\n",
    "# Show Top5\n",
    "df_trended_show = df_trended.head()\n",
    "df_trended_show.style.hide_columns('video_id').bar(color = 'yellow').applymap(highlight_kpop, subset=['video_title'])"
   ]
  },
  {
   "cell_type": "markdown",
   "metadata": {
    "id": "c7Dh-LfQri1Z"
   },
   "source": [
    "From the rankings above, we could clearly see that:\n",
    "- K-pop trending videos **truly top** the rankings of **views, likes, and comments**. For example, \"Butter\", \"Dynamite\" and \"Life Goes On\" from BTS are all on the top 5 lists.  \n",
    "- However, the ranking of **trending times(frequency)** is very different from the other three. There appears to be none K-pop videos on the top 5 list."
   ]
  },
  {
   "cell_type": "markdown",
   "metadata": {
    "id": "fBQu9zV5tp8U"
   },
   "source": [
    "Here comes the question:  \n",
    "**Why is the frequency ranking so different from other rankings?**  \n",
    "What are the **correlations** between them?"
   ]
  },
  {
   "cell_type": "code",
   "execution_count": 9,
   "metadata": {
    "executionInfo": {
     "elapsed": 3,
     "status": "ok",
     "timestamp": 1639116926518,
     "user": {
      "displayName": "Changpan Zheng",
      "photoUrl": "https://lh3.googleusercontent.com/a/default-user=s64",
      "userId": "08201278909651809374"
     },
     "user_tz": 480
    },
    "id": "e5E9QHhQovIS"
   },
   "outputs": [],
   "source": [
    "# Generate a dataframe in the format for correlation analysis\n",
    "\n",
    "def merge_all(df_list, column_list):\n",
    "    df_merge = df_list[0]\n",
    "    for i in range(1, len(df_list)):\n",
    "        df_merge = pd.merge(df_merge, df_list[i], how = 'left', on = column_list)\n",
    "    return df_merge \n",
    "\n",
    "df_list = [df_viewed, df_liked, df_commented, df_trended]\n",
    "column_list = ['video_id', 'video_title', 'channel_title']\n",
    "\n",
    "df_merge = merge_all(df_list, column_list)\n",
    "df_corr = df_merge[['view_count', 'likes', 'comment_count', 'trending_times']]"
   ]
  },
  {
   "cell_type": "code",
   "execution_count": 10,
   "metadata": {
    "colab": {
     "base_uri": "https://localhost:8080/",
     "height": 410
    },
    "executionInfo": {
     "elapsed": 2796,
     "status": "ok",
     "timestamp": 1639116929311,
     "user": {
      "displayName": "Changpan Zheng",
      "photoUrl": "https://lh3.googleusercontent.com/a/default-user=s64",
      "userId": "08201278909651809374"
     },
     "user_tz": 480
    },
    "id": "ypcsV2YQqc6v",
    "outputId": "8c558501-a985-4a1c-f3a6-1cc25833ff1a"
   },
   "outputs": [
    {
     "data": {
      "text/plain": [
       "Text(0.5, 1.0, 'Correlation Heatmap')"
      ]
     },
     "execution_count": 10,
     "metadata": {},
     "output_type": "execute_result"
    },
    {
     "data": {
      "image/png": "[encoded data removed]",
      "text/plain": [
       "<Figure size 576x432 with 2 Axes>"
      ]
     },
     "metadata": {
      "needs_background": "light"
     },
     "output_type": "display_data"
    }
   ],
   "source": [
    "# Calculate and display the correlation matrix\n",
    "corr = np.corrcoef(df_corr)\n",
    "\n",
    "f, ax = plt.subplots(figsize=(8,6))\n",
    "ax = sns.heatmap(df_corr.corr(), annot= True, cmap = 'GnBu')\n",
    "ax.set_title('Correlation Heatmap', fontsize = 16, fontweight = 'bold')"
   ]
  },
  {
   "cell_type": "markdown",
   "metadata": {
    "id": "5Fd_HXXQvBq-"
   },
   "source": [
    "From the correlation heatmap, we could clearly see that:\n",
    "- The number of views, likes and comments are **strongly correlated** to each other.\n",
    "- The number of trending times shows **very weak correlations** to other three indicators.\n",
    "\n",
    "Thus, it makes sense that the trending time ranking is totally different from other three rankings."
   ]
  },
  {
   "cell_type": "markdown",
   "metadata": {
    "id": "NfQc6OgLvh_6"
   },
   "source": [
    "### **3.2 Are kpop related channels also popular in the US area?**"
   ]
  },
  {
   "cell_type": "markdown",
   "metadata": {
    "id": "wcp--Ngc6xs5"
   },
   "source": [
    "(1）Which channels have a large number of trending videos?"
   ]
  },
  {
   "cell_type": "code",
   "execution_count": 11,
   "metadata": {
    "colab": {
     "base_uri": "https://localhost:8080/",
     "height": 669
    },
    "executionInfo": {
     "elapsed": 179,
     "status": "ok",
     "timestamp": 1639116929488,
     "user": {
      "displayName": "Changpan Zheng",
      "photoUrl": "https://lh3.googleusercontent.com/a/default-user=s64",
      "userId": "08201278909651809374"
     },
     "user_tz": 480
    },
    "id": "M6FA3bjw6zEY",
    "outputId": "f5d526ff-3f6b-45ff-dfdf-9695aef5d51d"
   },
   "outputs": [
    {
     "data": {
      "text/html": [
       "<style type=\"text/css\">\n",
       "#T_4d0c6_row0_col1 {\n",
       "  background-color: #0b0405;\n",
       "  color: #f1f1f1;\n",
       "}\n",
       "#T_4d0c6_row1_col1 {\n",
       "  background-color: #3e3367;\n",
       "  color: #f1f1f1;\n",
       "}\n",
       "#T_4d0c6_row2_col1 {\n",
       "  background-color: #3485a5;\n",
       "  color: #f1f1f1;\n",
       "}\n",
       "#T_4d0c6_row3_col1 {\n",
       "  background-color: #348da7;\n",
       "  color: #f1f1f1;\n",
       "}\n",
       "#T_4d0c6_row4_col1 {\n",
       "  background-color: #37a5ac;\n",
       "  color: #f1f1f1;\n",
       "}\n",
       "#T_4d0c6_row5_col1 {\n",
       "  background-color: #38a9ac;\n",
       "  color: #f1f1f1;\n",
       "}\n",
       "#T_4d0c6_row6_col1 {\n",
       "  background-color: #43baad;\n",
       "  color: #f1f1f1;\n",
       "}\n",
       "#T_4d0c6_row7_col1 {\n",
       "  background-color: #57cbad;\n",
       "  color: #000000;\n",
       "}\n",
       "#T_4d0c6_row8_col1 {\n",
       "  background-color: #6dd3ad;\n",
       "  color: #000000;\n",
       "}\n",
       "#T_4d0c6_row9_col1 {\n",
       "  background-color: #7cd6af;\n",
       "  color: #000000;\n",
       "}\n",
       "#T_4d0c6_row10_col1 {\n",
       "  background-color: #99ddb6;\n",
       "  color: #000000;\n",
       "}\n",
       "#T_4d0c6_row11_col1 {\n",
       "  background-color: #b2e4c2;\n",
       "  color: #000000;\n",
       "}\n",
       "#T_4d0c6_row12_col1, #T_4d0c6_row13_col1 {\n",
       "  background-color: #b9e6c7;\n",
       "  color: #000000;\n",
       "}\n",
       "#T_4d0c6_row14_col1 {\n",
       "  background-color: #ccedd6;\n",
       "  color: #000000;\n",
       "}\n",
       "#T_4d0c6_row15_col1 {\n",
       "  background-color: #d2f0db;\n",
       "  color: #000000;\n",
       "}\n",
       "#T_4d0c6_row16_col1 {\n",
       "  background-color: #dcf4e3;\n",
       "  color: #000000;\n",
       "}\n",
       "#T_4d0c6_row17_col1, #T_4d0c6_row18_col1, #T_4d0c6_row19_col1 {\n",
       "  background-color: #def5e5;\n",
       "  color: #000000;\n",
       "}\n",
       "</style>\n",
       "<table id=\"T_4d0c6_\">\n",
       "  <thead>\n",
       "    <tr>\n",
       "      <th class=\"blank level0\" >&nbsp;</th>\n",
       "      <th class=\"col_heading level0 col0\" >Channel_title</th>\n",
       "      <th class=\"col_heading level0 col1\" >Total_videos</th>\n",
       "    </tr>\n",
       "  </thead>\n",
       "  <tbody>\n",
       "    <tr>\n",
       "      <th id=\"T_4d0c6_level0_row0\" class=\"row_heading level0 row0\" >0</th>\n",
       "      <td id=\"T_4d0c6_row0_col0\" class=\"data row0 col0\" >NBA</td>\n",
       "      <td id=\"T_4d0c6_row0_col1\" class=\"data row0 col1\" >492</td>\n",
       "    </tr>\n",
       "    <tr>\n",
       "      <th id=\"T_4d0c6_level0_row1\" class=\"row_heading level0 row1\" >1</th>\n",
       "      <td id=\"T_4d0c6_row1_col0\" class=\"data row1 col0\" >NFL</td>\n",
       "      <td id=\"T_4d0c6_row1_col1\" class=\"data row1 col1\" >410</td>\n",
       "    </tr>\n",
       "    <tr>\n",
       "      <th id=\"T_4d0c6_level0_row2\" class=\"row_heading level0 row2\" >2</th>\n",
       "      <td id=\"T_4d0c6_row2_col0\" class=\"data row2 col0\" >MrBeast Gaming</td>\n",
       "      <td id=\"T_4d0c6_row2_col1\" class=\"data row2 col1\" >310</td>\n",
       "    </tr>\n",
       "    <tr>\n",
       "      <th id=\"T_4d0c6_level0_row3\" class=\"row_heading level0 row3\" >3</th>\n",
       "      <td id=\"T_4d0c6_row3_col0\" class=\"data row3 col0\" >SSSniperWolf</td>\n",
       "      <td id=\"T_4d0c6_row3_col1\" class=\"data row3 col1\" >301</td>\n",
       "    </tr>\n",
       "    <tr>\n",
       "      <th id=\"T_4d0c6_level0_row4\" class=\"row_heading level0 row4\" >4</th>\n",
       "      <td id=\"T_4d0c6_row4_col0\" class=\"data row4 col0\" >ESPN</td>\n",
       "      <td id=\"T_4d0c6_row4_col1\" class=\"data row4 col1\" >272</td>\n",
       "    </tr>\n",
       "    <tr>\n",
       "      <th id=\"T_4d0c6_level0_row5\" class=\"row_heading level0 row5\" >5</th>\n",
       "      <td id=\"T_4d0c6_row5_col0\" class=\"data row5 col0\" >MrBeast</td>\n",
       "      <td id=\"T_4d0c6_row5_col1\" class=\"data row5 col1\" >268</td>\n",
       "    </tr>\n",
       "    <tr>\n",
       "      <th id=\"T_4d0c6_level0_row6\" class=\"row_heading level0 row6\" >6</th>\n",
       "      <td id=\"T_4d0c6_row6_col0\" class=\"data row6 col0\" >Saturday Night Live</td>\n",
       "      <td id=\"T_4d0c6_row6_col1\" class=\"data row6 col1\" >247</td>\n",
       "    </tr>\n",
       "    <tr>\n",
       "      <th id=\"T_4d0c6_level0_row7\" class=\"row_heading level0 row7\" >7</th>\n",
       "      <td id=\"T_4d0c6_row7_col0\" class=\"data row7 col0\" >Dude Perfect</td>\n",
       "      <td id=\"T_4d0c6_row7_col1\" class=\"data row7 col1\" >227</td>\n",
       "    </tr>\n",
       "    <tr>\n",
       "      <th id=\"T_4d0c6_level0_row8\" class=\"row_heading level0 row8\" >8</th>\n",
       "      <td id=\"T_4d0c6_row8_col0\" class=\"data row8 col0\" >Champions League on CBS Sports</td>\n",
       "      <td id=\"T_4d0c6_row8_col1\" class=\"data row8 col1\" >215</td>\n",
       "    </tr>\n",
       "    <tr>\n",
       "      <th id=\"T_4d0c6_level0_row9\" class=\"row_heading level0 row9\" >9</th>\n",
       "      <td id=\"T_4d0c6_row9_col0\" class=\"data row9 col0\" >SpaceX</td>\n",
       "      <td id=\"T_4d0c6_row9_col1\" class=\"data row9 col1\" >209</td>\n",
       "    </tr>\n",
       "    <tr>\n",
       "      <th id=\"T_4d0c6_level0_row10\" class=\"row_heading level0 row10\" >10</th>\n",
       "      <td id=\"T_4d0c6_row10_col0\" class=\"data row10 col0\" >Fortnite</td>\n",
       "      <td id=\"T_4d0c6_row10_col1\" class=\"data row10 col1\" >195</td>\n",
       "    </tr>\n",
       "    <tr>\n",
       "      <th id=\"T_4d0c6_level0_row11\" class=\"row_heading level0 row11\" >11</th>\n",
       "      <td id=\"T_4d0c6_row11_col0\" class=\"data row11 col0\" >The Game Theorists</td>\n",
       "      <td id=\"T_4d0c6_row11_col1\" class=\"data row11 col1\" >183</td>\n",
       "    </tr>\n",
       "    <tr>\n",
       "      <th id=\"T_4d0c6_level0_row12\" class=\"row_heading level0 row12\" >12</th>\n",
       "      <td id=\"T_4d0c6_row12_col0\" class=\"data row12 col0\" >NBC Sports</td>\n",
       "      <td id=\"T_4d0c6_row12_col1\" class=\"data row12 col1\" >179</td>\n",
       "    </tr>\n",
       "    <tr>\n",
       "      <th id=\"T_4d0c6_level0_row13\" class=\"row_heading level0 row13\" >13</th>\n",
       "      <td id=\"T_4d0c6_row13_col0\" class=\"data row13 col0\" >beIN SPORTS USA</td>\n",
       "      <td id=\"T_4d0c6_row13_col1\" class=\"data row13 col1\" >178</td>\n",
       "    </tr>\n",
       "    <tr>\n",
       "      <th id=\"T_4d0c6_level0_row14\" class=\"row_heading level0 row14\" >14</th>\n",
       "      <td id=\"T_4d0c6_row14_col0\" class=\"data row14 col0\" >SMTOWN</td>\n",
       "      <td id=\"T_4d0c6_row14_col1\" class=\"data row14 col1\" >166</td>\n",
       "    </tr>\n",
       "    <tr>\n",
       "      <th id=\"T_4d0c6_level0_row15\" class=\"row_heading level0 row15\" >15</th>\n",
       "      <td id=\"T_4d0c6_row15_col0\" class=\"data row15 col0\" >Nintendo</td>\n",
       "      <td id=\"T_4d0c6_row15_col1\" class=\"data row15 col1\" >162</td>\n",
       "    </tr>\n",
       "    <tr>\n",
       "      <th id=\"T_4d0c6_level0_row16\" class=\"row_heading level0 row16\" >16</th>\n",
       "      <td id=\"T_4d0c6_row16_col0\" class=\"data row16 col0\" >Marvel Entertainment</td>\n",
       "      <td id=\"T_4d0c6_row16_col1\" class=\"data row16 col1\" >156</td>\n",
       "    </tr>\n",
       "    <tr>\n",
       "      <th id=\"T_4d0c6_level0_row17\" class=\"row_heading level0 row17\" >17</th>\n",
       "      <td id=\"T_4d0c6_row17_col0\" class=\"data row17 col0\" >James Charles</td>\n",
       "      <td id=\"T_4d0c6_row17_col1\" class=\"data row17 col1\" >155</td>\n",
       "    </tr>\n",
       "    <tr>\n",
       "      <th id=\"T_4d0c6_level0_row18\" class=\"row_heading level0 row18\" >18</th>\n",
       "      <td id=\"T_4d0c6_row18_col0\" class=\"data row18 col0\" >The Try Guys</td>\n",
       "      <td id=\"T_4d0c6_row18_col1\" class=\"data row18 col1\" >154</td>\n",
       "    </tr>\n",
       "    <tr>\n",
       "      <th id=\"T_4d0c6_level0_row19\" class=\"row_heading level0 row19\" >19</th>\n",
       "      <td id=\"T_4d0c6_row19_col0\" class=\"data row19 col0\" >The Food Theorists</td>\n",
       "      <td id=\"T_4d0c6_row19_col1\" class=\"data row19 col1\" >154</td>\n",
       "    </tr>\n",
       "  </tbody>\n",
       "</table>\n"
      ],
      "text/plain": [
       "<pandas.io.formats.style.Styler at 0x1f2e7481f28>"
      ]
     },
     "execution_count": 11,
     "metadata": {},
     "output_type": "execute_result"
    }
   ],
   "source": [
    "total_chanel = df_us.groupby(\"channel_title\")[\"video_id\"].count().sort_values(ascending=False).head(20).reset_index()\n",
    "total_chanel.rename(columns={\"channel_title\":\"Channel_title\",\"video_id\":\"Total_videos\"},inplace=True)\n",
    "total_chanel.style.background_gradient(cmap='mako_r')"
   ]
  },
  {
   "cell_type": "markdown",
   "metadata": {
    "id": "PqG2dxb87baX"
   },
   "source": [
    "SMTOWN is the only one about K-pop in the top 20 channels."
   ]
  },
  {
   "cell_type": "code",
   "execution_count": 12,
   "metadata": {
    "colab": {
     "base_uri": "https://localhost:8080/"
    },
    "executionInfo": {
     "elapsed": 8,
     "status": "ok",
     "timestamp": 1639116929489,
     "user": {
      "displayName": "Changpan Zheng",
      "photoUrl": "https://lh3.googleusercontent.com/a/default-user=s64",
      "userId": "08201278909651809374"
     },
     "user_tz": 480
    },
    "id": "15eatxhU64wG",
    "outputId": "edcc6319-eeca-414b-a4cc-e65d21c1e1fc"
   },
   "outputs": [
    {
     "name": "stdout",
     "output_type": "stream",
     "text": [
      "2404    0 days\n",
      "2621    1 days\n",
      "2847    2 days\n",
      "3004    0 days\n",
      "3090    3 days\n",
      "         ...  \n",
      "66025   1 days\n",
      "66245   2 days\n",
      "66471   3 days\n",
      "66696   4 days\n",
      "66927   5 days\n",
      "Name: SpentOnTrending, Length: 158, dtype: timedelta64[ns]\n"
     ]
    }
   ],
   "source": [
    "data = df_us[df_us['channel_title'].str.contains('BLACKPINK')].copy()\n",
    "data['SpentOnTrending'] = pd.to_datetime(data.trend_on) - pd.to_datetime(data.publish_on)\n",
    "print(data['SpentOnTrending'])"
   ]
  },
  {
   "cell_type": "code",
   "execution_count": 13,
   "metadata": {
    "colab": {
     "base_uri": "https://localhost:8080/",
     "height": 979
    },
    "executionInfo": {
     "elapsed": 4,
     "status": "ok",
     "timestamp": 1639116929489,
     "user": {
      "displayName": "Changpan Zheng",
      "photoUrl": "https://lh3.googleusercontent.com/a/default-user=s64",
      "userId": "08201278909651809374"
     },
     "user_tz": 480
    },
    "id": "gMOrWAWr7IWv",
    "outputId": "fe4b7dbc-88a7-447e-f296-b1a96eb68318"
   },
   "outputs": [
    {
     "data": {
      "text/html": [
       "<div>\n",
       "<style scoped>\n",
       "    .dataframe tbody tr th:only-of-type {\n",
       "        vertical-align: middle;\n",
       "    }\n",
       "\n",
       "    .dataframe tbody tr th {\n",
       "        vertical-align: top;\n",
       "    }\n",
       "\n",
       "    .dataframe thead th {\n",
       "        text-align: right;\n",
       "    }\n",
       "</style>\n",
       "<table border=\"1\" class=\"dataframe\">\n",
       "  <thead>\n",
       "    <tr style=\"text-align: right;\">\n",
       "      <th></th>\n",
       "      <th>video_id</th>\n",
       "      <th>video_title</th>\n",
       "      <th>channel_title</th>\n",
       "      <th>view_count</th>\n",
       "      <th>SpentOnTrending</th>\n",
       "    </tr>\n",
       "  </thead>\n",
       "  <tbody>\n",
       "    <tr>\n",
       "      <th>0</th>\n",
       "      <td>dGCSeyKL5dE</td>\n",
       "      <td>BLACKPINK X Selena Gomez - 'Ice Cream' Teaser ...</td>\n",
       "      <td>BLACKPINK</td>\n",
       "      <td>5159143</td>\n",
       "      <td>0</td>\n",
       "    </tr>\n",
       "    <tr>\n",
       "      <th>1</th>\n",
       "      <td>lrAHSIz6ugM</td>\n",
       "      <td>BLACKPINK - ‘THE SHOW’ GUIDE VIDEO</td>\n",
       "      <td>BLACKPINK</td>\n",
       "      <td>1938948</td>\n",
       "      <td>0</td>\n",
       "    </tr>\n",
       "    <tr>\n",
       "      <th>2</th>\n",
       "      <td>Tj97V46-Irs</td>\n",
       "      <td>BLACKPINK - 'THE SHOW' MESSAGE VIDEO</td>\n",
       "      <td>BLACKPINK</td>\n",
       "      <td>1906759</td>\n",
       "      <td>0</td>\n",
       "    </tr>\n",
       "    <tr>\n",
       "      <th>3</th>\n",
       "      <td>VgVzTgjKZ7k</td>\n",
       "      <td>BLACKPINK - THE INVITATION</td>\n",
       "      <td>BLACKPINK</td>\n",
       "      <td>2170066</td>\n",
       "      <td>0</td>\n",
       "    </tr>\n",
       "    <tr>\n",
       "      <th>4</th>\n",
       "      <td>Z3kAZse4xgM</td>\n",
       "      <td>BLACKPINK - AROUND THE WORLD</td>\n",
       "      <td>BLACKPINK</td>\n",
       "      <td>3374134</td>\n",
       "      <td>0</td>\n",
       "    </tr>\n",
       "    <tr>\n",
       "      <th>5</th>\n",
       "      <td>bO8hS_W3BPE</td>\n",
       "      <td>BLACKPINK - 'Ice Cream (with Selena Gomez)' M/...</td>\n",
       "      <td>BLACKPINK</td>\n",
       "      <td>7759237</td>\n",
       "      <td>0</td>\n",
       "    </tr>\n",
       "    <tr>\n",
       "      <th>6</th>\n",
       "      <td>CyqctquwO3Y</td>\n",
       "      <td>BLACKPINK - ‘THE SHOW’ POSTPONEMENT ANNOUNCEMENT</td>\n",
       "      <td>BLACKPINK</td>\n",
       "      <td>1509061</td>\n",
       "      <td>0</td>\n",
       "    </tr>\n",
       "    <tr>\n",
       "      <th>7</th>\n",
       "      <td>CKZvWhCqx1s</td>\n",
       "      <td>ROSÉ - 'On The Ground' M/V</td>\n",
       "      <td>BLACKPINK</td>\n",
       "      <td>25278696</td>\n",
       "      <td>0</td>\n",
       "    </tr>\n",
       "    <tr>\n",
       "      <th>8</th>\n",
       "      <td>vRXZj0DzXIA</td>\n",
       "      <td>BLACKPINK - 'Ice Cream (with Selena Gomez)' M/V</td>\n",
       "      <td>BLACKPINK</td>\n",
       "      <td>51234434</td>\n",
       "      <td>0</td>\n",
       "    </tr>\n",
       "    <tr>\n",
       "      <th>9</th>\n",
       "      <td>dyRsYk0LyA8</td>\n",
       "      <td>BLACKPINK – ‘Lovesick Girls’ M/V</td>\n",
       "      <td>BLACKPINK</td>\n",
       "      <td>39363127</td>\n",
       "      <td>0</td>\n",
       "    </tr>\n",
       "    <tr>\n",
       "      <th>10</th>\n",
       "      <td>ySo1_loUkcQ</td>\n",
       "      <td>BLACKPINK - 'Ice Cream (with Selena Gomez)' M/...</td>\n",
       "      <td>BLACKPINK</td>\n",
       "      <td>10360882</td>\n",
       "      <td>0</td>\n",
       "    </tr>\n",
       "    <tr>\n",
       "      <th>11</th>\n",
       "      <td>vKLN5UKo87c</td>\n",
       "      <td>Exclusive footage of BLACKPINK revealed on REL...</td>\n",
       "      <td>BLACKPINK</td>\n",
       "      <td>7500763</td>\n",
       "      <td>0</td>\n",
       "    </tr>\n",
       "    <tr>\n",
       "      <th>12</th>\n",
       "      <td>F8c8f2nK82w</td>\n",
       "      <td>Pretty Savage</td>\n",
       "      <td>BLACKPINK - Topic</td>\n",
       "      <td>2552945</td>\n",
       "      <td>0</td>\n",
       "    </tr>\n",
       "    <tr>\n",
       "      <th>13</th>\n",
       "      <td>-84tyDebx5I</td>\n",
       "      <td>ROSÉ “On The Ground” | Countdown to Premiere o...</td>\n",
       "      <td>BLACKPINK</td>\n",
       "      <td>6146613</td>\n",
       "      <td>0</td>\n",
       "    </tr>\n",
       "    <tr>\n",
       "      <th>14</th>\n",
       "      <td>YxksUfnuEbI</td>\n",
       "      <td>BLACKPINK - 'Lovesick Girls' DANCE PRACTICE VIDEO</td>\n",
       "      <td>BLACKPINK</td>\n",
       "      <td>14294853</td>\n",
       "      <td>1</td>\n",
       "    </tr>\n",
       "    <tr>\n",
       "      <th>15</th>\n",
       "      <td>Fwg9-MXdBYA</td>\n",
       "      <td>BLACKPINK - ‘Lovesick Girls’ 1011 SBS Inkigayo...</td>\n",
       "      <td>BLACKPINK</td>\n",
       "      <td>8671635</td>\n",
       "      <td>1</td>\n",
       "    </tr>\n",
       "    <tr>\n",
       "      <th>16</th>\n",
       "      <td>wiOGSpOV9T8</td>\n",
       "      <td>BLACKPINK ­- JAPAN 1st FULL ALBUM 「THE ALBUM -...</td>\n",
       "      <td>BLACKPINK</td>\n",
       "      <td>1951336</td>\n",
       "      <td>1</td>\n",
       "    </tr>\n",
       "    <tr>\n",
       "      <th>17</th>\n",
       "      <td>7BKtMceoGT8</td>\n",
       "      <td>BLACKPINK x Today's Top Hits</td>\n",
       "      <td>BLACKPINK</td>\n",
       "      <td>3897485</td>\n",
       "      <td>1</td>\n",
       "    </tr>\n",
       "    <tr>\n",
       "      <th>18</th>\n",
       "      <td>LGkUW5cUPz8</td>\n",
       "      <td>ROSÉ - COMING SOON TEASER</td>\n",
       "      <td>BLACKPINK</td>\n",
       "      <td>15400465</td>\n",
       "      <td>1</td>\n",
       "    </tr>\n",
       "    <tr>\n",
       "      <th>19</th>\n",
       "      <td>K9_VFxzCuQ0</td>\n",
       "      <td>ROSÉ - 'Gone' M/V</td>\n",
       "      <td>BLACKPINK</td>\n",
       "      <td>15531261</td>\n",
       "      <td>1</td>\n",
       "    </tr>\n",
       "    <tr>\n",
       "      <th>20</th>\n",
       "      <td>_W8y2A9sK6s</td>\n",
       "      <td>ROSÉ - 'On The Ground' M/V TEASER</td>\n",
       "      <td>BLACKPINK</td>\n",
       "      <td>7889400</td>\n",
       "      <td>1</td>\n",
       "    </tr>\n",
       "    <tr>\n",
       "      <th>21</th>\n",
       "      <td>zSllUi5yZIM</td>\n",
       "      <td>This week on RELEASED | ROSÉ (Official Trailer)</td>\n",
       "      <td>BLACKPINK</td>\n",
       "      <td>3066354</td>\n",
       "      <td>1</td>\n",
       "    </tr>\n",
       "    <tr>\n",
       "      <th>22</th>\n",
       "      <td>UmiVBYrBrkU</td>\n",
       "      <td>ROSÉ - 'On The Ground' M/V TEASER #2</td>\n",
       "      <td>BLACKPINK</td>\n",
       "      <td>7842601</td>\n",
       "      <td>1</td>\n",
       "    </tr>\n",
       "    <tr>\n",
       "      <th>23</th>\n",
       "      <td>Q88P1gpOJxA</td>\n",
       "      <td>ROSÉ - 'On The Ground' 0314 SBS Inkigayo</td>\n",
       "      <td>BLACKPINK</td>\n",
       "      <td>11964837</td>\n",
       "      <td>1</td>\n",
       "    </tr>\n",
       "    <tr>\n",
       "      <th>24</th>\n",
       "      <td>fjp4thii1WY</td>\n",
       "      <td>ROSÉ - 'Gone' 0314 SBS Inkigayo</td>\n",
       "      <td>BLACKPINK</td>\n",
       "      <td>7202348</td>\n",
       "      <td>1</td>\n",
       "    </tr>\n",
       "    <tr>\n",
       "      <th>25</th>\n",
       "      <td>Hryms86U1cE</td>\n",
       "      <td>BLACKPINK - 'Lovesick Girls' M/V MAKING FILM</td>\n",
       "      <td>BLACKPINK</td>\n",
       "      <td>9325002</td>\n",
       "      <td>1</td>\n",
       "    </tr>\n",
       "    <tr>\n",
       "      <th>26</th>\n",
       "      <td>p7-jnvsVKb8</td>\n",
       "      <td>BLACKPINK - 「THE ALBUM -JP Ver.-」 Concept Phot...</td>\n",
       "      <td>BLACKPINK</td>\n",
       "      <td>4157436</td>\n",
       "      <td>1</td>\n",
       "    </tr>\n",
       "    <tr>\n",
       "      <th>27</th>\n",
       "      <td>sXkhYC8Z9lw</td>\n",
       "      <td>BLACKPINK - 'Lovesick Girls' Concept Teaser Video</td>\n",
       "      <td>BLACKPINK</td>\n",
       "      <td>9077709</td>\n",
       "      <td>2</td>\n",
       "    </tr>\n",
       "    <tr>\n",
       "      <th>28</th>\n",
       "      <td>pkf1t2trKyg</td>\n",
       "      <td>BLACKPINK - 'THE SHOW' MESSAGE VIDEO #3</td>\n",
       "      <td>BLACKPINK</td>\n",
       "      <td>2127276</td>\n",
       "      <td>3</td>\n",
       "    </tr>\n",
       "    <tr>\n",
       "      <th>29</th>\n",
       "      <td>E1yePjSH87U</td>\n",
       "      <td>CALLING ALL BLINKS: CLIMATE ACTION IN YOUR ARE...</td>\n",
       "      <td>BLACKPINK</td>\n",
       "      <td>2692769</td>\n",
       "      <td>3</td>\n",
       "    </tr>\n",
       "  </tbody>\n",
       "</table>\n",
       "</div>"
      ],
      "text/plain": [
       "       video_id                                        video_title  \\\n",
       "0   dGCSeyKL5dE  BLACKPINK X Selena Gomez - 'Ice Cream' Teaser ...   \n",
       "1   lrAHSIz6ugM                 BLACKPINK - ‘THE SHOW’ GUIDE VIDEO   \n",
       "2   Tj97V46-Irs               BLACKPINK - 'THE SHOW' MESSAGE VIDEO   \n",
       "3   VgVzTgjKZ7k                         BLACKPINK - THE INVITATION   \n",
       "4   Z3kAZse4xgM                       BLACKPINK - AROUND THE WORLD   \n",
       "5   bO8hS_W3BPE  BLACKPINK - 'Ice Cream (with Selena Gomez)' M/...   \n",
       "6   CyqctquwO3Y   BLACKPINK - ‘THE SHOW’ POSTPONEMENT ANNOUNCEMENT   \n",
       "7   CKZvWhCqx1s                         ROSÉ - 'On The Ground' M/V   \n",
       "8   vRXZj0DzXIA    BLACKPINK - 'Ice Cream (with Selena Gomez)' M/V   \n",
       "9   dyRsYk0LyA8                   BLACKPINK – ‘Lovesick Girls’ M/V   \n",
       "10  ySo1_loUkcQ  BLACKPINK - 'Ice Cream (with Selena Gomez)' M/...   \n",
       "11  vKLN5UKo87c  Exclusive footage of BLACKPINK revealed on REL...   \n",
       "12  F8c8f2nK82w                                      Pretty Savage   \n",
       "13  -84tyDebx5I  ROSÉ “On The Ground” | Countdown to Premiere o...   \n",
       "14  YxksUfnuEbI  BLACKPINK - 'Lovesick Girls' DANCE PRACTICE VIDEO   \n",
       "15  Fwg9-MXdBYA  BLACKPINK - ‘Lovesick Girls’ 1011 SBS Inkigayo...   \n",
       "16  wiOGSpOV9T8  BLACKPINK ­- JAPAN 1st FULL ALBUM 「THE ALBUM -...   \n",
       "17  7BKtMceoGT8                       BLACKPINK x Today's Top Hits   \n",
       "18  LGkUW5cUPz8                          ROSÉ - COMING SOON TEASER   \n",
       "19  K9_VFxzCuQ0                                  ROSÉ - 'Gone' M/V   \n",
       "20  _W8y2A9sK6s                  ROSÉ - 'On The Ground' M/V TEASER   \n",
       "21  zSllUi5yZIM    This week on RELEASED | ROSÉ (Official Trailer)   \n",
       "22  UmiVBYrBrkU               ROSÉ - 'On The Ground' M/V TEASER #2   \n",
       "23  Q88P1gpOJxA           ROSÉ - 'On The Ground' 0314 SBS Inkigayo   \n",
       "24  fjp4thii1WY                    ROSÉ - 'Gone' 0314 SBS Inkigayo   \n",
       "25  Hryms86U1cE       BLACKPINK - 'Lovesick Girls' M/V MAKING FILM   \n",
       "26  p7-jnvsVKb8  BLACKPINK - 「THE ALBUM -JP Ver.-」 Concept Phot...   \n",
       "27  sXkhYC8Z9lw  BLACKPINK - 'Lovesick Girls' Concept Teaser Video   \n",
       "28  pkf1t2trKyg            BLACKPINK - 'THE SHOW' MESSAGE VIDEO #3   \n",
       "29  E1yePjSH87U  CALLING ALL BLINKS: CLIMATE ACTION IN YOUR ARE...   \n",
       "\n",
       "        channel_title  view_count  SpentOnTrending  \n",
       "0           BLACKPINK     5159143                0  \n",
       "1           BLACKPINK     1938948                0  \n",
       "2           BLACKPINK     1906759                0  \n",
       "3           BLACKPINK     2170066                0  \n",
       "4           BLACKPINK     3374134                0  \n",
       "5           BLACKPINK     7759237                0  \n",
       "6           BLACKPINK     1509061                0  \n",
       "7           BLACKPINK    25278696                0  \n",
       "8           BLACKPINK    51234434                0  \n",
       "9           BLACKPINK    39363127                0  \n",
       "10          BLACKPINK    10360882                0  \n",
       "11          BLACKPINK     7500763                0  \n",
       "12  BLACKPINK - Topic     2552945                0  \n",
       "13          BLACKPINK     6146613                0  \n",
       "14          BLACKPINK    14294853                1  \n",
       "15          BLACKPINK     8671635                1  \n",
       "16          BLACKPINK     1951336                1  \n",
       "17          BLACKPINK     3897485                1  \n",
       "18          BLACKPINK    15400465                1  \n",
       "19          BLACKPINK    15531261                1  \n",
       "20          BLACKPINK     7889400                1  \n",
       "21          BLACKPINK     3066354                1  \n",
       "22          BLACKPINK     7842601                1  \n",
       "23          BLACKPINK    11964837                1  \n",
       "24          BLACKPINK     7202348                1  \n",
       "25          BLACKPINK     9325002                1  \n",
       "26          BLACKPINK     4157436                1  \n",
       "27          BLACKPINK     9077709                2  \n",
       "28          BLACKPINK     2127276                3  \n",
       "29          BLACKPINK     2692769                3  "
      ]
     },
     "execution_count": 13,
     "metadata": {},
     "output_type": "execute_result"
    }
   ],
   "source": [
    "data['SpentOnTrending'] = data.SpentOnTrending.dt.days\n",
    "data_days = data[['video_id','video_title','channel_title','view_count','SpentOnTrending']].sort_values(by= 'SpentOnTrending', ascending= True).drop_duplicates(subset = 'video_id').reset_index(drop = True)\n",
    "data_days"
   ]
  },
  {
   "cell_type": "code",
   "execution_count": 14,
   "metadata": {
    "colab": {
     "base_uri": "https://localhost:8080/",
     "height": 279
    },
    "executionInfo": {
     "elapsed": 257,
     "status": "ok",
     "timestamp": 1639116929743,
     "user": {
      "displayName": "Changpan Zheng",
      "photoUrl": "https://lh3.googleusercontent.com/a/default-user=s64",
      "userId": "08201278909651809374"
     },
     "user_tz": 480
    },
    "id": "vkTpeWb87DTk",
    "outputId": "5a39777e-21f2-4a8b-a403-a3a82623c1cb"
   },
   "outputs": [
    {
     "data": {
      "image/png": "[encoded data removed]",
      "text/plain": [
       "<Figure size 432x288 with 1 Axes>"
      ]
     },
     "metadata": {
      "needs_background": "light"
     },
     "output_type": "display_data"
    }
   ],
   "source": [
    "sns.histplot(data=data.SpentOnTrending)\n",
    "plt.ylabel(\"Video count\")\n",
    "plt.xlabel(\"Days took to be on trending\")\n",
    "plt.show()"
   ]
  },
  {
   "cell_type": "markdown",
   "metadata": {
    "id": "jWnzI7UjC4hi"
   },
   "source": [
    "It takes less than five days for most of BLACKPINK's videos to become trending on the YouTube."
   ]
  },
  {
   "cell_type": "markdown",
   "metadata": {
    "id": "UNrtssmWvlOK"
   },
   "source": [
    "### **3.3 Are K-pop released dates and popularity related to the months?**"
   ]
  },
  {
   "cell_type": "markdown",
   "metadata": {
    "id": "tmfsMcmO3kpO"
   },
   "source": [
    "(1)the ***most popular month*** for uploaders in ***All Category***  Channel"
   ]
  },
  {
   "cell_type": "code",
   "execution_count": 15,
   "metadata": {
    "executionInfo": {
     "elapsed": 5,
     "status": "ok",
     "timestamp": 1639116929744,
     "user": {
      "displayName": "Changpan Zheng",
      "photoUrl": "https://lh3.googleusercontent.com/a/default-user=s64",
      "userId": "08201278909651809374"
     },
     "user_tz": 480
    },
    "id": "K610qiOL3kMh"
   },
   "outputs": [],
   "source": [
    "df_month_analyse = df_us\n",
    "\n",
    "#get the year and month\n",
    "df_month_analyse.publish_on= pd.to_datetime(df_month_analyse.publish_on)\n",
    "df_month_analyse.trend_on= pd.to_datetime(df_month_analyse.trend_on)\n",
    "df_month_analyse['Year']=df_month_analyse['publish_on'].dt.year\n",
    "df_month_analyse['Month']=df_month_analyse.publish_on.dt.month"
   ]
  },
  {
   "cell_type": "code",
   "execution_count": 16,
   "metadata": {
    "executionInfo": {
     "elapsed": 194,
     "status": "ok",
     "timestamp": 1639116929934,
     "user": {
      "displayName": "Changpan Zheng",
      "photoUrl": "https://lh3.googleusercontent.com/a/default-user=s64",
      "userId": "08201278909651809374"
     },
     "user_tz": 480
    },
    "id": "nhXo9Cw330ay"
   },
   "outputs": [],
   "source": [
    "#get and the statistics of the first half of 2021\n",
    "df_month_analyse_1 = df_month_analyse[df_month_analyse[\"Year\"] == 2021]\n",
    "df_month_analyse_half_year = df_month_analyse_1[df_month_analyse_1[\"Month\"] < 7]"
   ]
  },
  {
   "cell_type": "code",
   "execution_count": 17,
   "metadata": {
    "colab": {
     "base_uri": "https://localhost:8080/",
     "height": 296
    },
    "executionInfo": {
     "elapsed": 200,
     "status": "ok",
     "timestamp": 1639116930130,
     "user": {
      "displayName": "Changpan Zheng",
      "photoUrl": "https://lh3.googleusercontent.com/a/default-user=s64",
      "userId": "08201278909651809374"
     },
     "user_tz": 480
    },
    "id": "O9U9hnaX3JyX",
    "outputId": "1791f51f-2470-42a7-d91d-6d76b78e507f"
   },
   "outputs": [
    {
     "data": {
      "text/plain": [
       "<AxesSubplot:xlabel='Month', ylabel='Amount'>"
      ]
     },
     "execution_count": 17,
     "metadata": {},
     "output_type": "execute_result"
    },
    {
     "data": {
      "image/png": "[encoded data removed]",
      "text/plain": [
       "<Figure size 432x288 with 1 Axes>"
      ]
     },
     "metadata": {
      "needs_background": "light"
     },
     "output_type": "display_data"
    }
   ],
   "source": [
    "df_month_all_category = df_month_analyse_half_year[['video_id','video_title','view_count','likes','comment_count','channel_title','category','Year','Month']].sort_values(by= 'Month', ascending= True).drop_duplicates(subset = 'video_id').reset_index(drop = True)\n",
    "df_jan = df_month_all_category[df_month_all_category[\"Month\"] == 1]\n",
    "df_feb = df_month_all_category[df_month_all_category[\"Month\"] == 2]\n",
    "df_mar = df_month_all_category[df_month_all_category[\"Month\"] == 3]\n",
    "df_apr = df_month_all_category[df_month_all_category[\"Month\"] == 4]\n",
    "df_may = df_month_all_category[df_month_all_category[\"Month\"] == 5]\n",
    "df_jun = df_month_all_category[df_month_all_category[\"Month\"] == 6]\n",
    "data_all_category = {\"Month\":[\"Jan\",\"Feb\",\"Mar\",\"Apr\",\"May\",\"Jun\"], \"Amount\":[len(df_jan), len(df_feb), len(df_mar), len(df_apr), len(df_may), len(df_jun)]}\n",
    "df_all_category = DataFrame(data_all_category)\n",
    "\n",
    "sns.barplot(data = df_all_category, x = \"Month\", y = \"Amount\", label=\"Total\", palette='mako')"
   ]
  },
  {
   "cell_type": "markdown",
   "metadata": {
    "id": "T2eZpruH51Tk"
   },
   "source": [
    "(2)the ***most popular month*** for uploaders in ***Only Music Channel***"
   ]
  },
  {
   "cell_type": "code",
   "execution_count": 18,
   "metadata": {
    "colab": {
     "base_uri": "https://localhost:8080/",
     "height": 296
    },
    "executionInfo": {
     "elapsed": 213,
     "status": "ok",
     "timestamp": 1639116930339,
     "user": {
      "displayName": "Changpan Zheng",
      "photoUrl": "https://lh3.googleusercontent.com/a/default-user=s64",
      "userId": "08201278909651809374"
     },
     "user_tz": 480
    },
    "id": "o_CnU4uC50uT",
    "outputId": "ed284b5c-580d-451a-c58d-01801e5ec872"
   },
   "outputs": [
    {
     "data": {
      "text/plain": [
       "<AxesSubplot:xlabel='Month', ylabel='Amount'>"
      ]
     },
     "execution_count": 18,
     "metadata": {},
     "output_type": "execute_result"
    },
    {
     "data": {
      "image/png": "[encoded data removed]",
      "text/plain": [
       "<Figure size 432x288 with 1 Axes>"
      ]
     },
     "metadata": {
      "needs_background": "light"
     },
     "output_type": "display_data"
    }
   ],
   "source": [
    "df_jan_2 = df_jan[df_jan[\"category\"] == \"Music\"]\n",
    "df_feb_2 = df_feb[df_feb[\"category\"] == \"Music\"]\n",
    "df_mar_2 = df_mar[df_mar[\"category\"] == \"Music\"]\n",
    "df_apr_2 = df_apr[df_apr[\"category\"] == \"Music\"]\n",
    "df_may_2 = df_may[df_may[\"category\"] == \"Music\"]\n",
    "df_jun_2 = df_jun[df_jun[\"category\"] == \"Music\"]\n",
    "data_music_category = {\"Month\":[\"Jan\",\"Feb\",\"Mar\",\"Apr\",\"May\",\"Jun\"], \"Amount\":[len(df_jan_2), len(df_feb_2), len(df_mar_2), len(df_apr_2), len(df_may_2), len(df_jun_2)]}\n",
    "df_music_category = DataFrame(data_music_category)\n",
    "sns.barplot(data = df_music_category, x = \"Month\", y = \"Amount\", palette='mako')"
   ]
  },
  {
   "cell_type": "markdown",
   "metadata": {
    "id": "5aJj5KWq6IOg"
   },
   "source": [
    "(3)the ***most popular month*** for K-pop group ***BLANKPINK***"
   ]
  },
  {
   "cell_type": "code",
   "execution_count": 19,
   "metadata": {
    "colab": {
     "base_uri": "https://localhost:8080/",
     "height": 296
    },
    "executionInfo": {
     "elapsed": 200,
     "status": "ok",
     "timestamp": 1639116930534,
     "user": {
      "displayName": "Changpan Zheng",
      "photoUrl": "https://lh3.googleusercontent.com/a/default-user=s64",
      "userId": "08201278909651809374"
     },
     "user_tz": 480
    },
    "id": "60zykx9m6H3z",
    "outputId": "0477e5d9-f9e9-4e3f-ff9b-6b75dfc2292c"
   },
   "outputs": [
    {
     "data": {
      "text/plain": [
       "<AxesSubplot:xlabel='Month', ylabel='Amount'>"
      ]
     },
     "execution_count": 19,
     "metadata": {},
     "output_type": "execute_result"
    },
    {
     "data": {
      "image/png": "[encoded data removed]",
      "text/plain": [
       "<Figure size 432x288 with 1 Axes>"
      ]
     },
     "metadata": {
      "needs_background": "light"
     },
     "output_type": "display_data"
    }
   ],
   "source": [
    "df_jan_blackpink = df_month_analyse_half_year[df_month_analyse_half_year[\"Month\"] == 1]\n",
    "df_jan_blackpink = df_jan_blackpink[df_jan_blackpink[\"channel_title\"] == \"BLACKPINK\"]\n",
    "df_feb_blackpink = df_month_analyse_half_year[df_month_analyse_half_year[\"Month\"] == 2]\n",
    "df_feb_blackpink = df_feb_blackpink[df_feb_blackpink[\"channel_title\"] == \"BLACKPINK\"]\n",
    "df_mar_blackpink = df_month_analyse_half_year[df_month_analyse_half_year[\"Month\"] == 3]\n",
    "df_mar_blackpink = df_mar_blackpink[df_mar_blackpink[\"channel_title\"] == \"BLACKPINK\"]\n",
    "df_apr_blackpink = df_month_analyse_half_year[df_month_analyse_half_year[\"Month\"] == 4]\n",
    "df_apr_blackpink = df_apr_blackpink[df_apr_blackpink[\"channel_title\"] == \"BLACKPINK\"]\n",
    "df_may_blackpink = df_month_analyse_half_year[df_month_analyse_half_year[\"Month\"] == 5]\n",
    "df_may_blackpink = df_may_blackpink[df_may_blackpink[\"channel_title\"] == \"BLACKPINK\"]\n",
    "df_jun_blackpink = df_month_analyse_half_year[df_month_analyse_half_year[\"Month\"] == 6]\n",
    "df_jun_blackpink = df_jun_blackpink[df_jun_blackpink[\"channel_title\"] == \"BLACKPINK\"]\n",
    "data_half_year_blackpink = {\"Month\":[\"Jan\",\"Feb\",\"Mar\",\"Apr\",\"May\",\"Jun\"], \"Amount\":[len(df_jan_blackpink), len(df_feb_blackpink), len(df_apr_blackpink), len(df_mar_blackpink), len(df_may_blackpink), len(df_jun_blackpink)]}\n",
    "df_half_year_blackpink = DataFrame(data_half_year_blackpink)\n",
    "df_half_year_blackpink\n",
    "sns.barplot(data = df_half_year_blackpink, x = \"Month\", y = \"Amount\", palette='mako')"
   ]
  },
  {
   "cell_type": "markdown",
   "metadata": {
    "id": "ZVT1o50G6hFH"
   },
   "source": [
    "(4)Dsign a parameter called ***HeatIndex*** which measures the popularity of each video by calculating ***view_count, likes, dislikes, and comment_count***. Then pick one month the see the ***HeatIndex of each video*** of the month by BLACKPINK to find the ***popularity diffrences*** in one month."
   ]
  },
  {
   "cell_type": "code",
   "execution_count": 20,
   "metadata": {
    "executionInfo": {
     "elapsed": 2,
     "status": "ok",
     "timestamp": 1639116930534,
     "user": {
      "displayName": "Changpan Zheng",
      "photoUrl": "https://lh3.googleusercontent.com/a/default-user=s64",
      "userId": "08201278909651809374"
     },
     "user_tz": 480
    },
    "id": "XvsuI0vr50Kp"
   },
   "outputs": [],
   "source": [
    "col_list= list(df_mar_blackpink)\n",
    "df_mar_blackpink['HeatIndex'] = df_mar_blackpink[col_list].sum(axis=1, numeric_only = True)"
   ]
  },
  {
   "cell_type": "code",
   "execution_count": 21,
   "metadata": {
    "colab": {
     "base_uri": "https://localhost:8080/",
     "height": 636
    },
    "executionInfo": {
     "elapsed": 547,
     "status": "ok",
     "timestamp": 1639118874818,
     "user": {
      "displayName": "Changpan Zheng",
      "photoUrl": "https://lh3.googleusercontent.com/a/default-user=s64",
      "userId": "08201278909651809374"
     },
     "user_tz": 480
    },
    "id": "QFKZLKDB7tOy",
    "outputId": "060ee36c-b5ba-430d-bb02-28a5f957f660"
   },
   "outputs": [
    {
     "data": {
      "image/png": "[encoded data removed]",
      "text/plain": [
       "<Figure size 720x360 with 1 Axes>"
      ]
     },
     "metadata": {
      "needs_background": "light"
     },
     "output_type": "display_data"
    }
   ],
   "source": [
    "sns.catplot(data=df_mar_blackpink, x='video_title', y='HeatIndex',kind='bar',palette=\"vlag\" ,ci=None, legend_out=False, aspect = 2)\n",
    "plt.ylabel('HeatIndex')\n",
    "plt.xlabel('VideoTitle')\n",
    "plt.xticks(rotation=90)\n",
    "plt.show()"
   ]
  },
  {
   "cell_type": "markdown",
   "metadata": {
    "id": "cfQJChaFt-JQ"
   },
   "source": [
    "## **4 Conclusion**"
   ]
  },
  {
   "cell_type": "markdown",
   "metadata": {
    "id": "CeYhJZNJuhPt"
   },
   "source": [
    "- **K-pop trending videos are top-rankers, but not on all levels.**\n",
    "    - They **top the rankings** in terms of the number of ***views, likes and comments***; however, they are **not outstanding** in the ranking of ***trending frequency***.\n",
    "    - The variables of ***views, likes and comments*** are **strongly correlated**, while the ***trending frequency*** has a **very weak correlation** with the other three indicators.\n",
    "\n",
    "\n",
    "- **Only a small percentage of Kpop-related channels in the U.S. remain popular.**\n",
    "    - A small number of Kpop channels such as: SMTOWN and BLACKPINK are popular in the U.S. region.\n",
    "    - The polarization is serious, a small number of kpop channels are very popular, most of the videos can be on trending within four days, and other kpop channels are unattended.\n",
    "\n",
    "- **K-pop videos uploaded amount is partly related to the month, while the HeatIndex is not**   \n",
    "    - ***youtuber uploaders*** like to post videos ***in June***. ***Music uploaders*** prefer to post videos ***in May***, and ***BLACKPINK*** prefer to post videos ***in April*** in terms of data for the first half of 2021\n",
    "    - The ***Heat Index*** of videos uploaded by the same uploader in the same month is ***quite different***. The gap between ***the most popular*** and ***the least popular*** can reach about ***ten times***."
   ]
  },
  {
   "cell_type": "markdown",
   "metadata": {
    "id": "sw3Q13_quFgy"
   },
   "source": [
    "## **Reference**"
   ]
  },
  {
   "cell_type": "markdown",
   "metadata": {
    "id": "iAIimu1SuKHD"
   },
   "source": [
    "https://en.wikipedia.org/wiki/K-pop  \n",
    "\n",
    "https://www.kaggle.com/yogidsba/pandas-tutorial-and-cheat-sheet"
   ]
  }
 ],
 "metadata": {
  "colab": {
   "collapsed_sections": [],
   "name": "正式_code.ipynb",
   "provenance": []
  },
  "kernelspec": {
   "display_name": "Python 3 (ipykernel)",
   "language": "python",
   "name": "python3"
  },
  "language_info": {
   "codemirror_mode": {
    "name": "ipython",
    "version": 3
   },
   "file_extension": ".py",
   "mimetype": "text/x-python",
   "name": "python",
   "nbconvert_exporter": "python",
   "pygments_lexer": "ipython3",
   "version": "3.7.3"
  }
 },
 "nbformat": 4,
 "nbformat_minor": 1
}
